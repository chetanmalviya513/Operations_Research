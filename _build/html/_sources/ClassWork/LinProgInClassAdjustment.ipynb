{
  "nbformat": 4,
  "nbformat_minor": 0,
  "metadata": {
    "colab": {
      "name": "Untitled43.ipynb",
      "provenance": [],
      "authorship_tag": "ABX9TyPmNXpTOgu1T1EtKPlYQ1E3",
      "include_colab_link": true
    },
    "kernelspec": {
      "name": "python3",
      "display_name": "Python 3"
    },
    "language_info": {
      "name": "python"
    }
  },
  "cells": [
    {
      "cell_type": "markdown",
      "metadata": {
        "id": "view-in-github",
        "colab_type": "text"
      },
      "source": [
        "<a href=\"https://colab.research.google.com/github/nurfnick/Operations_Research/blob/main/LinProgInClassAdjustment.ipynb\" target=\"_parent\"><img src=\"https://colab.research.google.com/assets/colab-badge.svg\" alt=\"Open In Colab\"/></a>"
      ]
    },
    {
      "cell_type": "code",
      "metadata": {
        "id": "DT9mcmqvFGCw"
      },
      "source": [
        "import numpy as np\n",
        "\n",
        "A = np.array([[7,3,6,1,0],[4,4,5,0,1]])\n",
        "b= np.array([300,200])"
      ],
      "execution_count": 106,
      "outputs": []
    },
    {
      "cell_type": "code",
      "metadata": {
        "colab": {
          "base_uri": "https://localhost:8080/"
        },
        "id": "kjuDAF6RFSdX",
        "outputId": "2ba7cf2e-84af-47d3-cea9-daac31890967"
      },
      "source": [
        "import itertools\n",
        "\n",
        "for i in itertools.combinations(range(5), r=2):\n",
        "  print(i)\n",
        "#np.linalg.solve(A,b)"
      ],
      "execution_count": 87,
      "outputs": [
        {
          "output_type": "stream",
          "name": "stdout",
          "text": [
            "(0, 1)\n",
            "(0, 2)\n",
            "(0, 3)\n",
            "(0, 4)\n",
            "(1, 2)\n",
            "(1, 3)\n",
            "(1, 4)\n",
            "(2, 3)\n",
            "(2, 4)\n",
            "(3, 4)\n"
          ]
        }
      ]
    },
    {
      "cell_type": "code",
      "metadata": {
        "colab": {
          "base_uri": "https://localhost:8080/"
        },
        "id": "0ulYWGJzLYqS",
        "outputId": "886e207a-b1b5-4fc9-821c-8ca23476b100"
      },
      "source": [
        "index = [[i,j] for i in range(5) for j in range(i+1,5)]\n",
        "\n",
        "index"
      ],
      "execution_count": 88,
      "outputs": [
        {
          "output_type": "execute_result",
          "data": {
            "text/plain": [
              "[[0, 1],\n",
              " [0, 2],\n",
              " [0, 3],\n",
              " [0, 4],\n",
              " [1, 2],\n",
              " [1, 3],\n",
              " [1, 4],\n",
              " [2, 3],\n",
              " [2, 4],\n",
              " [3, 4]]"
            ]
          },
          "metadata": {},
          "execution_count": 88
        }
      ]
    },
    {
      "cell_type": "code",
      "metadata": {
        "colab": {
          "base_uri": "https://localhost:8080/"
        },
        "id": "fT6UPc69K1Ck",
        "outputId": "08fa95aa-1581-471b-a694-10e3ab8f88a9"
      },
      "source": [
        "for i in index:\n",
        "  print(np.linalg.solve(A[:,i],b))"
      ],
      "execution_count": 89,
      "outputs": [
        {
          "output_type": "stream",
          "name": "stdout",
          "text": [
            "[37.5 12.5]\n",
            "[27.27272727 18.18181818]\n",
            "[ 50. -50.]\n",
            "[42.85714286 28.57142857]\n",
            "[-33.33333333  66.66666667]\n",
            "[ 50. 150.]\n",
            "[ 100. -200.]\n",
            "[40. 60.]\n",
            "[ 50. -50.]\n",
            "[300. 200.]\n"
          ]
        }
      ]
    },
    {
      "cell_type": "code",
      "metadata": {
        "id": "_Wd-D7IEMP-i"
      },
      "source": [
        "d = {0:'small',1:'med',2:'large',3:'slacklabor',4:'slackmaterial'}"
      ],
      "execution_count": 90,
      "outputs": []
    },
    {
      "cell_type": "code",
      "metadata": {
        "colab": {
          "base_uri": "https://localhost:8080/",
          "height": 36
        },
        "id": "zDkaTjp2MlF5",
        "outputId": "0b166f7c-7e5e-45cf-9f4c-1d50c62060c5"
      },
      "source": [
        "d[4]"
      ],
      "execution_count": 91,
      "outputs": [
        {
          "output_type": "execute_result",
          "data": {
            "application/vnd.google.colaboratory.intrinsic+json": {
              "type": "string"
            },
            "text/plain": [
              "'slackmaterial'"
            ]
          },
          "metadata": {},
          "execution_count": 91
        }
      ]
    },
    {
      "cell_type": "code",
      "metadata": {
        "colab": {
          "base_uri": "https://localhost:8080/"
        },
        "id": "bfp-rldQNdl1",
        "outputId": "e367f28e-fe98-4fe2-a581-e3c9342c1cd6"
      },
      "source": [
        "\n",
        "\n",
        "for i in index:\n",
        "  print((d[i[0]],d[i[1]]),np.linalg.solve(A[:,i],b))"
      ],
      "execution_count": 92,
      "outputs": [
        {
          "output_type": "stream",
          "name": "stdout",
          "text": [
            "('small', 'med') [37.5 12.5]\n",
            "('small', 'large') [27.27272727 18.18181818]\n",
            "('small', 'slacklabor') [ 50. -50.]\n",
            "('small', 'slackmaterial') [42.85714286 28.57142857]\n",
            "('med', 'large') [-33.33333333  66.66666667]\n",
            "('med', 'slacklabor') [ 50. 150.]\n",
            "('med', 'slackmaterial') [ 100. -200.]\n",
            "('large', 'slacklabor') [40. 60.]\n",
            "('large', 'slackmaterial') [ 50. -50.]\n",
            "('slacklabor', 'slackmaterial') [300. 200.]\n"
          ]
        }
      ]
    },
    {
      "cell_type": "code",
      "metadata": {
        "id": "Lj9p-4tROGTY"
      },
      "source": [
        "def profit(list):\n",
        "  return 4*list[0]+2*list[1]+3*list[2]\n"
      ],
      "execution_count": 93,
      "outputs": []
    },
    {
      "cell_type": "code",
      "metadata": {
        "colab": {
          "base_uri": "https://localhost:8080/"
        },
        "id": "Vie3zQKEOUjG",
        "outputId": "e3c46919-0582-4517-ba78-4e26f4d65c22"
      },
      "source": [
        "newlist = []\n",
        "indexref = [2,3]\n",
        "solution = np.linalg.solve(A[:,indexref],b)\n",
        "def buildFullList(indexref,solution):\n",
        "  newlist =[]\n",
        "  solutioncounter = 0\n",
        "  for j in range(5):\n",
        "    if j not in indexref:\n",
        "      newlist.append(0)\n",
        "    else:\n",
        "      newlist.append(solution[solutioncounter])\n",
        "      solutioncounter += 1\n",
        "  return newlist\n",
        "\n",
        "buildFullList(indexref,solution)"
      ],
      "execution_count": 95,
      "outputs": [
        {
          "output_type": "execute_result",
          "data": {
            "text/plain": [
              "[0, 0, 40.00000000000001, 59.99999999999998, 0]"
            ]
          },
          "metadata": {},
          "execution_count": 95
        }
      ]
    },
    {
      "cell_type": "code",
      "metadata": {
        "colab": {
          "base_uri": "https://localhost:8080/"
        },
        "id": "ViRJe0zMQKBJ",
        "outputId": "56325e31-f662-4e95-9745-58579180fa75"
      },
      "source": [
        "for i in index:\n",
        "  solution = np.linalg.solve(A[:,i],b)\n",
        "  print((d[i[0]],d[i[1]]),solution,buildFullList(i,solution),profit(buildFullList(i,solution)))"
      ],
      "execution_count": 96,
      "outputs": [
        {
          "output_type": "stream",
          "name": "stdout",
          "text": [
            "('small', 'med') [37.5 12.5] [37.5, 12.500000000000005, 0, 0, 0] 175.0\n",
            "('small', 'large') [27.27272727 18.18181818] [27.272727272727273, 0, 18.181818181818183, 0, 0] 163.63636363636363\n",
            "('small', 'slacklabor') [ 50. -50.] [50.0, 0, 0, -50.00000000000002, 0] 200.0\n",
            "('small', 'slackmaterial') [42.85714286 28.57142857] [42.857142857142854, 0, 0, 0, 28.57142857142858] 171.42857142857142\n",
            "('med', 'large') [-33.33333333  66.66666667] [0, -33.33333333333334, 66.66666666666667, 0, 0] 133.33333333333331\n",
            "('med', 'slacklabor') [ 50. 150.] [0, 50.0, 0, 150.0, 0] 100.0\n",
            "('med', 'slackmaterial') [ 100. -200.] [0, 100.0, 0, 0, -200.0] 200.0\n",
            "('large', 'slacklabor') [40. 60.] [0, 0, 40.00000000000001, 59.99999999999998, 0] 120.00000000000003\n",
            "('large', 'slackmaterial') [ 50. -50.] [0, 0, 50.0, 0, -49.99999999999998] 150.0\n",
            "('slacklabor', 'slackmaterial') [300. 200.] [0, 0, 0, 300.0, 200.0] 0\n"
          ]
        }
      ]
    },
    {
      "cell_type": "code",
      "metadata": {
        "id": "-XW8Vjk8REUl"
      },
      "source": [
        "def testForFeasible(list1):\n",
        "  return all([i>=0 for i in list1])\n"
      ],
      "execution_count": 99,
      "outputs": []
    },
    {
      "cell_type": "code",
      "metadata": {
        "colab": {
          "base_uri": "https://localhost:8080/"
        },
        "id": "Bex58lvbRhbi",
        "outputId": "46c04a73-40f1-4e43-b90b-71a5c5252001"
      },
      "source": [
        "all([i>=0 for i in buildFullList(indexref,solution)])"
      ],
      "execution_count": 100,
      "outputs": [
        {
          "output_type": "execute_result",
          "data": {
            "text/plain": [
              "True"
            ]
          },
          "metadata": {},
          "execution_count": 100
        }
      ]
    },
    {
      "cell_type": "code",
      "metadata": {
        "colab": {
          "base_uri": "https://localhost:8080/"
        },
        "id": "HAa2TdnCRQA6",
        "outputId": "92bddbaa-2152-4369-ddc7-75ce760cdcb2"
      },
      "source": [
        "buildFullList(indexref,solution)"
      ],
      "execution_count": 101,
      "outputs": [
        {
          "output_type": "execute_result",
          "data": {
            "text/plain": [
              "[0, 0, 300.0, 200.0, 0]"
            ]
          },
          "metadata": {},
          "execution_count": 101
        }
      ]
    },
    {
      "cell_type": "code",
      "metadata": {
        "colab": {
          "base_uri": "https://localhost:8080/"
        },
        "id": "mhWq5HkrSK85",
        "outputId": "8187589d-80ed-4cee-df80-598b53ca1080"
      },
      "source": [
        "for i in index:\n",
        "  solution = np.linalg.solve(A[:,i],b)\n",
        "  list1 = buildFullList(i,solution)\n",
        "  print((d[i[0]],d[i[1]]),solution,list1,profit(list1),testForFeasible(list1))"
      ],
      "execution_count": 102,
      "outputs": [
        {
          "output_type": "stream",
          "name": "stdout",
          "text": [
            "('small', 'med') [37.5 12.5] [37.5, 12.500000000000005, 0, 0, 0] 175.0 True\n",
            "('small', 'large') [27.27272727 18.18181818] [27.272727272727273, 0, 18.181818181818183, 0, 0] 163.63636363636363 True\n",
            "('small', 'slacklabor') [ 50. -50.] [50.0, 0, 0, -50.00000000000002, 0] 200.0 False\n",
            "('small', 'slackmaterial') [42.85714286 28.57142857] [42.857142857142854, 0, 0, 0, 28.57142857142858] 171.42857142857142 True\n",
            "('med', 'large') [-33.33333333  66.66666667] [0, -33.33333333333334, 66.66666666666667, 0, 0] 133.33333333333331 False\n",
            "('med', 'slacklabor') [ 50. 150.] [0, 50.0, 0, 150.0, 0] 100.0 True\n",
            "('med', 'slackmaterial') [ 100. -200.] [0, 100.0, 0, 0, -200.0] 200.0 False\n",
            "('large', 'slacklabor') [40. 60.] [0, 0, 40.00000000000001, 59.99999999999998, 0] 120.00000000000003 True\n",
            "('large', 'slackmaterial') [ 50. -50.] [0, 0, 50.0, 0, -49.99999999999998] 150.0 False\n",
            "('slacklabor', 'slackmaterial') [300. 200.] [0, 0, 0, 300.0, 200.0] 0 True\n"
          ]
        }
      ]
    },
    {
      "cell_type": "code",
      "metadata": {
        "id": "AoDcDKJpS0Kg"
      },
      "source": [
        "X = []\n",
        "for i in index:\n",
        "  solution = np.linalg.solve(A[:,i],b)\n",
        "  list1 = buildFullList(i,solution)\n",
        "  X.append([(d[i[0]],d[i[1]]),solution,list1,profit(list1),testForFeasible(list1)])"
      ],
      "execution_count": 103,
      "outputs": []
    },
    {
      "cell_type": "code",
      "metadata": {
        "colab": {
          "base_uri": "https://localhost:8080/",
          "height": 467
        },
        "id": "TQiZfYcFTiqN",
        "outputId": "9b5f3c2e-8975-4718-effa-4e126cd60b5a"
      },
      "source": [
        "import pandas as pd\n",
        "\n",
        "pd.DataFrame(X,columns = ['Variables Used','Solution','Expanded with Zeros','Profit','In Feasible'])"
      ],
      "execution_count": 104,
      "outputs": [
        {
          "output_type": "execute_result",
          "data": {
            "text/html": [
              "<div>\n",
              "<style scoped>\n",
              "    .dataframe tbody tr th:only-of-type {\n",
              "        vertical-align: middle;\n",
              "    }\n",
              "\n",
              "    .dataframe tbody tr th {\n",
              "        vertical-align: top;\n",
              "    }\n",
              "\n",
              "    .dataframe thead th {\n",
              "        text-align: right;\n",
              "    }\n",
              "</style>\n",
              "<table border=\"1\" class=\"dataframe\">\n",
              "  <thead>\n",
              "    <tr style=\"text-align: right;\">\n",
              "      <th></th>\n",
              "      <th>Variables Used</th>\n",
              "      <th>Solution</th>\n",
              "      <th>Expanded with Zeros</th>\n",
              "      <th>Profit</th>\n",
              "      <th>In Feasible</th>\n",
              "    </tr>\n",
              "  </thead>\n",
              "  <tbody>\n",
              "    <tr>\n",
              "      <th>0</th>\n",
              "      <td>(small, med)</td>\n",
              "      <td>[37.5, 12.500000000000005]</td>\n",
              "      <td>[37.5, 12.500000000000005, 0, 0, 0]</td>\n",
              "      <td>175.000000</td>\n",
              "      <td>True</td>\n",
              "    </tr>\n",
              "    <tr>\n",
              "      <th>1</th>\n",
              "      <td>(small, large)</td>\n",
              "      <td>[27.272727272727273, 18.181818181818183]</td>\n",
              "      <td>[27.272727272727273, 0, 18.181818181818183, 0, 0]</td>\n",
              "      <td>163.636364</td>\n",
              "      <td>True</td>\n",
              "    </tr>\n",
              "    <tr>\n",
              "      <th>2</th>\n",
              "      <td>(small, slacklabor)</td>\n",
              "      <td>[50.0, -50.00000000000002]</td>\n",
              "      <td>[50.0, 0, 0, -50.00000000000002, 0]</td>\n",
              "      <td>200.000000</td>\n",
              "      <td>False</td>\n",
              "    </tr>\n",
              "    <tr>\n",
              "      <th>3</th>\n",
              "      <td>(small, slackmaterial)</td>\n",
              "      <td>[42.857142857142854, 28.57142857142858]</td>\n",
              "      <td>[42.857142857142854, 0, 0, 0, 28.57142857142858]</td>\n",
              "      <td>171.428571</td>\n",
              "      <td>True</td>\n",
              "    </tr>\n",
              "    <tr>\n",
              "      <th>4</th>\n",
              "      <td>(med, large)</td>\n",
              "      <td>[-33.33333333333334, 66.66666666666667]</td>\n",
              "      <td>[0, -33.33333333333334, 66.66666666666667, 0, 0]</td>\n",
              "      <td>133.333333</td>\n",
              "      <td>False</td>\n",
              "    </tr>\n",
              "    <tr>\n",
              "      <th>5</th>\n",
              "      <td>(med, slacklabor)</td>\n",
              "      <td>[50.0, 150.0]</td>\n",
              "      <td>[0, 50.0, 0, 150.0, 0]</td>\n",
              "      <td>100.000000</td>\n",
              "      <td>True</td>\n",
              "    </tr>\n",
              "    <tr>\n",
              "      <th>6</th>\n",
              "      <td>(med, slackmaterial)</td>\n",
              "      <td>[100.0, -200.0]</td>\n",
              "      <td>[0, 100.0, 0, 0, -200.0]</td>\n",
              "      <td>200.000000</td>\n",
              "      <td>False</td>\n",
              "    </tr>\n",
              "    <tr>\n",
              "      <th>7</th>\n",
              "      <td>(large, slacklabor)</td>\n",
              "      <td>[40.00000000000001, 59.99999999999998]</td>\n",
              "      <td>[0, 0, 40.00000000000001, 59.99999999999998, 0]</td>\n",
              "      <td>120.000000</td>\n",
              "      <td>True</td>\n",
              "    </tr>\n",
              "    <tr>\n",
              "      <th>8</th>\n",
              "      <td>(large, slackmaterial)</td>\n",
              "      <td>[50.0, -49.99999999999998]</td>\n",
              "      <td>[0, 0, 50.0, 0, -49.99999999999998]</td>\n",
              "      <td>150.000000</td>\n",
              "      <td>False</td>\n",
              "    </tr>\n",
              "    <tr>\n",
              "      <th>9</th>\n",
              "      <td>(slacklabor, slackmaterial)</td>\n",
              "      <td>[300.0, 200.0]</td>\n",
              "      <td>[0, 0, 0, 300.0, 200.0]</td>\n",
              "      <td>0.000000</td>\n",
              "      <td>True</td>\n",
              "    </tr>\n",
              "  </tbody>\n",
              "</table>\n",
              "</div>"
            ],
            "text/plain": [
              "                Variables Used  ... In Feasible\n",
              "0                 (small, med)  ...        True\n",
              "1               (small, large)  ...        True\n",
              "2          (small, slacklabor)  ...       False\n",
              "3       (small, slackmaterial)  ...        True\n",
              "4                 (med, large)  ...       False\n",
              "5            (med, slacklabor)  ...        True\n",
              "6         (med, slackmaterial)  ...       False\n",
              "7          (large, slacklabor)  ...        True\n",
              "8       (large, slackmaterial)  ...       False\n",
              "9  (slacklabor, slackmaterial)  ...        True\n",
              "\n",
              "[10 rows x 5 columns]"
            ]
          },
          "metadata": {},
          "execution_count": 104
        }
      ]
    },
    {
      "cell_type": "code",
      "metadata": {
        "colab": {
          "base_uri": "https://localhost:8080/"
        },
        "id": "5w5sgaLeFcwL",
        "outputId": "6ee2a4b4-705e-4a83-b658-19f5d3e495ba"
      },
      "source": [
        "from scipy.optimize import linprog\n",
        "\n",
        "linprog([-4,-2,-3],A[:,0:3],b)"
      ],
      "execution_count": 109,
      "outputs": [
        {
          "output_type": "stream",
          "name": "stderr",
          "text": [
            "/usr/local/lib/python3.7/dist-packages/numpy/core/fromnumeric.py:87: VisibleDeprecationWarning: Creating an ndarray from ragged nested sequences (which is a list-or-tuple of lists-or-tuples-or ndarrays with different lengths or shapes) is deprecated. If you meant to do this, you must specify 'dtype=object' when creating the ndarray\n",
            "  return ufunc.reduce(obj, axis, dtype, out, **passkwargs)\n"
          ]
        },
        {
          "output_type": "execute_result",
          "data": {
            "text/plain": [
              "     con: array([], dtype=float64)\n",
              "     fun: -174.99999996917586\n",
              " message: 'Optimization terminated successfully.'\n",
              "     nit: 5\n",
              "   slack: array([5.02170678e-08, 4.08952303e-08])\n",
              "  status: 0\n",
              " success: True\n",
              "       x: array([3.75000000e+01, 1.25000000e+01, 9.65956894e-10])"
            ]
          },
          "metadata": {},
          "execution_count": 109
        }
      ]
    },
    {
      "cell_type": "code",
      "metadata": {
        "id": "JoEi-sMuGpWO"
      },
      "source": [
        ""
      ],
      "execution_count": null,
      "outputs": []
    }
  ]
}
