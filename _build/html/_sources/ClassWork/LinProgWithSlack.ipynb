{
  "nbformat": 4,
  "nbformat_minor": 0,
  "metadata": {
    "colab": {
      "name": "Untitled43.ipynb",
      "provenance": [],
      "authorship_tag": "ABX9TyNkBanuyYN3s3z0BieaX1eD",
      "include_colab_link": true
    },
    "kernelspec": {
      "name": "python3",
      "display_name": "Python 3"
    },
    "language_info": {
      "name": "python"
    }
  },
  "cells": [
    {
      "cell_type": "markdown",
      "metadata": {
        "id": "view-in-github",
        "colab_type": "text"
      },
      "source": [
        "<a href=\"https://colab.research.google.com/github/nurfnick/Operations_Research/blob/main/LinProgWithSlack.ipynb\" target=\"_parent\"><img src=\"https://colab.research.google.com/assets/colab-badge.svg\" alt=\"Open In Colab\"/></a>"
      ]
    },
    {
      "cell_type": "code",
      "metadata": {
        "id": "DT9mcmqvFGCw"
      },
      "source": [
        "import numpy as np\n",
        "\n",
        "A = np.array([[7,3,6,1,0],[4,4,5,0,1]])\n",
        "b= np.array([300,200])"
      ],
      "execution_count": 2,
      "outputs": []
    },
    {
      "cell_type": "code",
      "metadata": {
        "colab": {
          "base_uri": "https://localhost:8080/"
        },
        "id": "kjuDAF6RFSdX",
        "outputId": "bf6a6ce2-719e-4028-cbb7-dfdd4cd12150"
      },
      "source": [
        "import itertools\n",
        "\n",
        "for i in itertools.combinations(range(5), r=2):\n",
        "  print(i)\n",
        "#np.linalg.solve(A,b)"
      ],
      "execution_count": 3,
      "outputs": [
        {
          "output_type": "stream",
          "name": "stdout",
          "text": [
            "(0, 1)\n",
            "(0, 2)\n",
            "(0, 3)\n",
            "(0, 4)\n",
            "(1, 2)\n",
            "(1, 3)\n",
            "(1, 4)\n",
            "(2, 3)\n",
            "(2, 4)\n",
            "(3, 4)\n"
          ]
        }
      ]
    },
    {
      "cell_type": "code",
      "metadata": {
        "colab": {
          "base_uri": "https://localhost:8080/"
        },
        "id": "0ulYWGJzLYqS",
        "outputId": "e966293b-0a97-4a84-9a41-570a404fb517"
      },
      "source": [
        "index = [[i,j] for i in range(5) for j in range(i+1,5)]\n",
        "\n",
        "index"
      ],
      "execution_count": 4,
      "outputs": [
        {
          "output_type": "execute_result",
          "data": {
            "text/plain": [
              "[[0, 1],\n",
              " [0, 2],\n",
              " [0, 3],\n",
              " [0, 4],\n",
              " [1, 2],\n",
              " [1, 3],\n",
              " [1, 4],\n",
              " [2, 3],\n",
              " [2, 4],\n",
              " [3, 4]]"
            ]
          },
          "metadata": {},
          "execution_count": 4
        }
      ]
    },
    {
      "cell_type": "code",
      "metadata": {
        "colab": {
          "base_uri": "https://localhost:8080/"
        },
        "id": "fT6UPc69K1Ck",
        "outputId": "b0bf8cff-9a7b-442c-ae0b-e2f21e1b95c4"
      },
      "source": [
        "for i in index:\n",
        "  print(np.linalg.solve(A[:,i],b))"
      ],
      "execution_count": 5,
      "outputs": [
        {
          "output_type": "stream",
          "name": "stdout",
          "text": [
            "[37.5 12.5]\n",
            "[27.27272727 18.18181818]\n",
            "[ 50. -50.]\n",
            "[42.85714286 28.57142857]\n",
            "[-33.33333333  66.66666667]\n",
            "[ 50. 150.]\n",
            "[ 100. -200.]\n",
            "[40. 60.]\n",
            "[ 50. -50.]\n",
            "[300. 200.]\n"
          ]
        }
      ]
    },
    {
      "cell_type": "code",
      "metadata": {
        "id": "_Wd-D7IEMP-i"
      },
      "source": [
        "d = {0:'small',1:'med',2:'large',3:'slacklabor',4:'slackmaterial'}"
      ],
      "execution_count": 6,
      "outputs": []
    },
    {
      "cell_type": "code",
      "metadata": {
        "colab": {
          "base_uri": "https://localhost:8080/",
          "height": 36
        },
        "id": "zDkaTjp2MlF5",
        "outputId": "b36bae92-9ee8-46c6-8cef-56670f227900"
      },
      "source": [
        "d[4]"
      ],
      "execution_count": 7,
      "outputs": [
        {
          "output_type": "execute_result",
          "data": {
            "application/vnd.google.colaboratory.intrinsic+json": {
              "type": "string"
            },
            "text/plain": [
              "'slackmaterial'"
            ]
          },
          "metadata": {},
          "execution_count": 7
        }
      ]
    },
    {
      "cell_type": "code",
      "metadata": {
        "colab": {
          "base_uri": "https://localhost:8080/"
        },
        "id": "bfp-rldQNdl1",
        "outputId": "2e43ee4f-7a6d-4e51-af6d-9cfa12349535"
      },
      "source": [
        "\n",
        "\n",
        "for i in index:\n",
        "  print((d[i[0]],d[i[1]]),np.linalg.solve(A[:,i],b))"
      ],
      "execution_count": 8,
      "outputs": [
        {
          "output_type": "stream",
          "name": "stdout",
          "text": [
            "('small', 'med') [37.5 12.5]\n",
            "('small', 'large') [27.27272727 18.18181818]\n",
            "('small', 'slacklabor') [ 50. -50.]\n",
            "('small', 'slackmaterial') [42.85714286 28.57142857]\n",
            "('med', 'large') [-33.33333333  66.66666667]\n",
            "('med', 'slacklabor') [ 50. 150.]\n",
            "('med', 'slackmaterial') [ 100. -200.]\n",
            "('large', 'slacklabor') [40. 60.]\n",
            "('large', 'slackmaterial') [ 50. -50.]\n",
            "('slacklabor', 'slackmaterial') [300. 200.]\n"
          ]
        }
      ]
    },
    {
      "cell_type": "code",
      "metadata": {
        "id": "Lj9p-4tROGTY"
      },
      "source": [
        "def profit(list):\n",
        "  return 4*list[0]+2*list[1]+3*list[2]\n"
      ],
      "execution_count": 9,
      "outputs": []
    },
    {
      "cell_type": "code",
      "metadata": {
        "colab": {
          "base_uri": "https://localhost:8080/"
        },
        "id": "Vie3zQKEOUjG",
        "outputId": "38331e5e-8ec3-4a57-d960-523d26ccf4ac"
      },
      "source": [
        "newlist = []\n",
        "indexref = [2,3]\n",
        "solution = np.linalg.solve(A[:,indexref],b)\n",
        "def buildFullList(indexref,solution):\n",
        "  newlist =[]\n",
        "  solutioncounter = 0\n",
        "  for j in range(5):\n",
        "    if j not in indexref:\n",
        "      newlist.append(0)\n",
        "    else:\n",
        "      newlist.append(round(solution[solutioncounter],5))\n",
        "      solutioncounter += 1\n",
        "  return newlist\n",
        "\n",
        "buildFullList(indexref,solution)"
      ],
      "execution_count": 10,
      "outputs": [
        {
          "output_type": "execute_result",
          "data": {
            "text/plain": [
              "[0, 0, 40.0, 60.0, 0]"
            ]
          },
          "metadata": {},
          "execution_count": 10
        }
      ]
    },
    {
      "cell_type": "code",
      "metadata": {
        "colab": {
          "base_uri": "https://localhost:8080/"
        },
        "id": "ViRJe0zMQKBJ",
        "outputId": "6d4bda15-d3aa-4c02-de36-0834b84005f4"
      },
      "source": [
        "for i in index:\n",
        "  solution = np.linalg.solve(A[:,i],b)\n",
        "  print((d[i[0]],d[i[1]]),solution,buildFullList(i,solution),profit(buildFullList(i,solution)))"
      ],
      "execution_count": 11,
      "outputs": [
        {
          "output_type": "stream",
          "name": "stdout",
          "text": [
            "('small', 'med') [37.5 12.5] [37.5, 12.5, 0, 0, 0] 175.0\n",
            "('small', 'large') [27.27272727 18.18181818] [27.27273, 0, 18.18182, 0, 0] 163.63637999999997\n",
            "('small', 'slacklabor') [ 50. -50.] [50.0, 0, 0, -50.0, 0] 200.0\n",
            "('small', 'slackmaterial') [42.85714286 28.57142857] [42.85714, 0, 0, 0, 28.57143] 171.42856\n",
            "('med', 'large') [-33.33333333  66.66666667] [0, -33.33333, 66.66667, 0, 0] 133.33335\n",
            "('med', 'slacklabor') [ 50. 150.] [0, 50.0, 0, 150.0, 0] 100.0\n",
            "('med', 'slackmaterial') [ 100. -200.] [0, 100.0, 0, 0, -200.0] 200.0\n",
            "('large', 'slacklabor') [40. 60.] [0, 0, 40.0, 60.0, 0] 120.0\n",
            "('large', 'slackmaterial') [ 50. -50.] [0, 0, 50.0, 0, -50.0] 150.0\n",
            "('slacklabor', 'slackmaterial') [300. 200.] [0, 0, 0, 300.0, 200.0] 0\n"
          ]
        }
      ]
    },
    {
      "cell_type": "code",
      "metadata": {
        "id": "-XW8Vjk8REUl"
      },
      "source": [
        "def testForFeasible(list1):\n",
        "  return (A[0]@list1<=b[0]) & (A[1]@list1<=b[1]) & all([i>=0 for i in list1])\n"
      ],
      "execution_count": 12,
      "outputs": []
    },
    {
      "cell_type": "code",
      "metadata": {
        "colab": {
          "base_uri": "https://localhost:8080/"
        },
        "id": "Bex58lvbRhbi",
        "outputId": "36ef10c6-9e24-4e72-d7e8-c417200a70b1"
      },
      "source": [
        "all([i>=0 for i in buildFullList(indexref,solution)])"
      ],
      "execution_count": 13,
      "outputs": [
        {
          "output_type": "execute_result",
          "data": {
            "text/plain": [
              "True"
            ]
          },
          "metadata": {},
          "execution_count": 13
        }
      ]
    },
    {
      "cell_type": "code",
      "metadata": {
        "colab": {
          "base_uri": "https://localhost:8080/"
        },
        "id": "HAa2TdnCRQA6",
        "outputId": "638fe88a-0839-4a1b-9a96-81ceac0e15fd"
      },
      "source": [
        "buildFullList(indexref,solution)"
      ],
      "execution_count": 14,
      "outputs": [
        {
          "output_type": "execute_result",
          "data": {
            "text/plain": [
              "[0, 0, 300.0, 200.0, 0]"
            ]
          },
          "metadata": {},
          "execution_count": 14
        }
      ]
    },
    {
      "cell_type": "code",
      "metadata": {
        "colab": {
          "base_uri": "https://localhost:8080/"
        },
        "id": "mhWq5HkrSK85",
        "outputId": "343184a8-39ac-4a1f-c57e-ae7652950654"
      },
      "source": [
        "for i in index:\n",
        "  solution = np.linalg.solve(A[:,i],b)\n",
        "  list1 = buildFullList(i,solution)\n",
        "  print((d[i[0]],d[i[1]]),solution,list1,profit(list1),testForFeasible(list1))"
      ],
      "execution_count": 15,
      "outputs": [
        {
          "output_type": "stream",
          "name": "stdout",
          "text": [
            "('small', 'med') [37.5 12.5] [37.5, 12.5, 0, 0, 0] 175.0 True\n",
            "('small', 'large') [27.27272727 18.18181818] [27.27273, 0, 18.18182, 0, 0] 163.63637999999997 False\n",
            "('small', 'slacklabor') [ 50. -50.] [50.0, 0, 0, -50.0, 0] 200.0 False\n",
            "('small', 'slackmaterial') [42.85714286 28.57142857] [42.85714, 0, 0, 0, 28.57143] 171.42856 True\n",
            "('med', 'large') [-33.33333333  66.66666667] [0, -33.33333, 66.66667, 0, 0] 133.33335 False\n",
            "('med', 'slacklabor') [ 50. 150.] [0, 50.0, 0, 150.0, 0] 100.0 True\n",
            "('med', 'slackmaterial') [ 100. -200.] [0, 100.0, 0, 0, -200.0] 200.0 False\n",
            "('large', 'slacklabor') [40. 60.] [0, 0, 40.0, 60.0, 0] 120.0 True\n",
            "('large', 'slackmaterial') [ 50. -50.] [0, 0, 50.0, 0, -50.0] 150.0 False\n",
            "('slacklabor', 'slackmaterial') [300. 200.] [0, 0, 0, 300.0, 200.0] 0 True\n"
          ]
        }
      ]
    },
    {
      "cell_type": "code",
      "metadata": {
        "id": "AoDcDKJpS0Kg"
      },
      "source": [
        "X = []\n",
        "for i in index:\n",
        "  solution = np.linalg.solve(A[:,i],b)\n",
        "  list1 = buildFullList(i,solution)\n",
        "  X.append([(d[i[0]],d[i[1]]),solution,list1,profit(list1),testForFeasible(list1)])"
      ],
      "execution_count": 16,
      "outputs": []
    },
    {
      "cell_type": "code",
      "metadata": {
        "colab": {
          "base_uri": "https://localhost:8080/",
          "height": 467
        },
        "id": "TQiZfYcFTiqN",
        "outputId": "742c7e0c-3d7d-4c21-86a8-7c0b4e5e0401"
      },
      "source": [
        "import pandas as pd\n",
        "\n",
        "pd.DataFrame(X,columns = ['Variables Used','Solution','Expanded with Zeros','Profit','In Feasible'])"
      ],
      "execution_count": 17,
      "outputs": [
        {
          "output_type": "execute_result",
          "data": {
            "text/html": [
              "<div>\n",
              "<style scoped>\n",
              "    .dataframe tbody tr th:only-of-type {\n",
              "        vertical-align: middle;\n",
              "    }\n",
              "\n",
              "    .dataframe tbody tr th {\n",
              "        vertical-align: top;\n",
              "    }\n",
              "\n",
              "    .dataframe thead th {\n",
              "        text-align: right;\n",
              "    }\n",
              "</style>\n",
              "<table border=\"1\" class=\"dataframe\">\n",
              "  <thead>\n",
              "    <tr style=\"text-align: right;\">\n",
              "      <th></th>\n",
              "      <th>Variables Used</th>\n",
              "      <th>Solution</th>\n",
              "      <th>Expanded with Zeros</th>\n",
              "      <th>Profit</th>\n",
              "      <th>In Feasible</th>\n",
              "    </tr>\n",
              "  </thead>\n",
              "  <tbody>\n",
              "    <tr>\n",
              "      <th>0</th>\n",
              "      <td>(small, med)</td>\n",
              "      <td>[37.5, 12.500000000000005]</td>\n",
              "      <td>[37.5, 12.5, 0, 0, 0]</td>\n",
              "      <td>175.00000</td>\n",
              "      <td>True</td>\n",
              "    </tr>\n",
              "    <tr>\n",
              "      <th>1</th>\n",
              "      <td>(small, large)</td>\n",
              "      <td>[27.272727272727273, 18.181818181818183]</td>\n",
              "      <td>[27.27273, 0, 18.18182, 0, 0]</td>\n",
              "      <td>163.63638</td>\n",
              "      <td>False</td>\n",
              "    </tr>\n",
              "    <tr>\n",
              "      <th>2</th>\n",
              "      <td>(small, slacklabor)</td>\n",
              "      <td>[50.0, -50.00000000000002]</td>\n",
              "      <td>[50.0, 0, 0, -50.0, 0]</td>\n",
              "      <td>200.00000</td>\n",
              "      <td>False</td>\n",
              "    </tr>\n",
              "    <tr>\n",
              "      <th>3</th>\n",
              "      <td>(small, slackmaterial)</td>\n",
              "      <td>[42.857142857142854, 28.57142857142858]</td>\n",
              "      <td>[42.85714, 0, 0, 0, 28.57143]</td>\n",
              "      <td>171.42856</td>\n",
              "      <td>True</td>\n",
              "    </tr>\n",
              "    <tr>\n",
              "      <th>4</th>\n",
              "      <td>(med, large)</td>\n",
              "      <td>[-33.33333333333334, 66.66666666666667]</td>\n",
              "      <td>[0, -33.33333, 66.66667, 0, 0]</td>\n",
              "      <td>133.33335</td>\n",
              "      <td>False</td>\n",
              "    </tr>\n",
              "    <tr>\n",
              "      <th>5</th>\n",
              "      <td>(med, slacklabor)</td>\n",
              "      <td>[50.0, 150.0]</td>\n",
              "      <td>[0, 50.0, 0, 150.0, 0]</td>\n",
              "      <td>100.00000</td>\n",
              "      <td>True</td>\n",
              "    </tr>\n",
              "    <tr>\n",
              "      <th>6</th>\n",
              "      <td>(med, slackmaterial)</td>\n",
              "      <td>[100.0, -200.0]</td>\n",
              "      <td>[0, 100.0, 0, 0, -200.0]</td>\n",
              "      <td>200.00000</td>\n",
              "      <td>False</td>\n",
              "    </tr>\n",
              "    <tr>\n",
              "      <th>7</th>\n",
              "      <td>(large, slacklabor)</td>\n",
              "      <td>[40.00000000000001, 59.99999999999998]</td>\n",
              "      <td>[0, 0, 40.0, 60.0, 0]</td>\n",
              "      <td>120.00000</td>\n",
              "      <td>True</td>\n",
              "    </tr>\n",
              "    <tr>\n",
              "      <th>8</th>\n",
              "      <td>(large, slackmaterial)</td>\n",
              "      <td>[50.0, -49.99999999999998]</td>\n",
              "      <td>[0, 0, 50.0, 0, -50.0]</td>\n",
              "      <td>150.00000</td>\n",
              "      <td>False</td>\n",
              "    </tr>\n",
              "    <tr>\n",
              "      <th>9</th>\n",
              "      <td>(slacklabor, slackmaterial)</td>\n",
              "      <td>[300.0, 200.0]</td>\n",
              "      <td>[0, 0, 0, 300.0, 200.0]</td>\n",
              "      <td>0.00000</td>\n",
              "      <td>True</td>\n",
              "    </tr>\n",
              "  </tbody>\n",
              "</table>\n",
              "</div>"
            ],
            "text/plain": [
              "                Variables Used  ... In Feasible\n",
              "0                 (small, med)  ...        True\n",
              "1               (small, large)  ...       False\n",
              "2          (small, slacklabor)  ...       False\n",
              "3       (small, slackmaterial)  ...        True\n",
              "4                 (med, large)  ...       False\n",
              "5            (med, slacklabor)  ...        True\n",
              "6         (med, slackmaterial)  ...       False\n",
              "7          (large, slacklabor)  ...        True\n",
              "8       (large, slackmaterial)  ...       False\n",
              "9  (slacklabor, slackmaterial)  ...        True\n",
              "\n",
              "[10 rows x 5 columns]"
            ]
          },
          "metadata": {},
          "execution_count": 17
        }
      ]
    },
    {
      "cell_type": "code",
      "metadata": {
        "id": "K9mmQocQLqs_",
        "outputId": "7e1e72d9-7d73-4ca7-f841-9d73f5c63df2",
        "colab": {
          "base_uri": "https://localhost:8080/"
        }
      },
      "source": [
        "A[:,0:3]"
      ],
      "execution_count": 22,
      "outputs": [
        {
          "output_type": "execute_result",
          "data": {
            "text/plain": [
              "array([[7, 3, 6],\n",
              "       [4, 4, 5]])"
            ]
          },
          "metadata": {},
          "execution_count": 22
        }
      ]
    },
    {
      "cell_type": "code",
      "metadata": {
        "colab": {
          "base_uri": "https://localhost:8080/"
        },
        "id": "5w5sgaLeFcwL",
        "outputId": "9ab00a37-b3b7-46d7-8b67-5b4b47d8068b"
      },
      "source": [
        "from scipy.optimize import linprog\n",
        "\n",
        "linprog([-4,-2,-3],A[:,0:3],b)"
      ],
      "execution_count": 23,
      "outputs": [
        {
          "output_type": "stream",
          "name": "stderr",
          "text": [
            "/usr/local/lib/python3.7/dist-packages/numpy/core/fromnumeric.py:87: VisibleDeprecationWarning: Creating an ndarray from ragged nested sequences (which is a list-or-tuple of lists-or-tuples-or ndarrays with different lengths or shapes) is deprecated. If you meant to do this, you must specify 'dtype=object' when creating the ndarray\n",
            "  return ufunc.reduce(obj, axis, dtype, out, **passkwargs)\n"
          ]
        },
        {
          "output_type": "execute_result",
          "data": {
            "text/plain": [
              "     con: array([], dtype=float64)\n",
              "     fun: -174.99999996916816\n",
              " message: 'Optimization terminated successfully.'\n",
              "     nit: 5\n",
              "   slack: array([5.02310513e-08, 4.09006873e-08])\n",
              "  status: 0\n",
              " success: True\n",
              "       x: array([3.75000000e+01, 1.25000000e+01, 9.65956889e-10])"
            ]
          },
          "metadata": {},
          "execution_count": 23
        }
      ]
    },
    {
      "cell_type": "code",
      "metadata": {
        "id": "JoEi-sMuGpWO"
      },
      "source": [
        "A = np.array([[1,1,1,1,0],[2,3,5,0,1]])\n",
        "b = np.array([80,125])\n",
        "\n",
        "def testForFeasible(list1):\n",
        "  return all([i>=0 for i in list1])\n",
        "d = {0:'x',1:'y',2:'z',3:'slack1',4:'slack2'}\n",
        "X = []\n",
        "for i in index:\n",
        "  solution = np.linalg.solve(A[:,i],b)\n",
        "  list1 = buildFullList(i,solution)\n",
        "  X.append([(d[i[0]],d[i[1]]),solution,list1,profit(list1),testForFeasible(list1)])"
      ],
      "execution_count": 27,
      "outputs": []
    },
    {
      "cell_type": "code",
      "metadata": {
        "id": "Ka7gY9dcL_yJ",
        "outputId": "4df4fe79-6371-499a-911b-31ca300ce1e3",
        "colab": {
          "base_uri": "https://localhost:8080/",
          "height": 432
        }
      },
      "source": [
        "df = pd.DataFrame(X,columns = ['Variables Used','Solution','Expanded with Zeros','Profit','In Feasible'])"
      ],
      "execution_count": 28,
      "outputs": [
        {
          "output_type": "execute_result",
          "data": {
            "text/html": [
              "<div>\n",
              "<style scoped>\n",
              "    .dataframe tbody tr th:only-of-type {\n",
              "        vertical-align: middle;\n",
              "    }\n",
              "\n",
              "    .dataframe tbody tr th {\n",
              "        vertical-align: top;\n",
              "    }\n",
              "\n",
              "    .dataframe thead th {\n",
              "        text-align: right;\n",
              "    }\n",
              "</style>\n",
              "<table border=\"1\" class=\"dataframe\">\n",
              "  <thead>\n",
              "    <tr style=\"text-align: right;\">\n",
              "      <th></th>\n",
              "      <th>Variables Used</th>\n",
              "      <th>Solution</th>\n",
              "      <th>Expanded with Zeros</th>\n",
              "      <th>Profit</th>\n",
              "      <th>In Feasible</th>\n",
              "    </tr>\n",
              "  </thead>\n",
              "  <tbody>\n",
              "    <tr>\n",
              "      <th>0</th>\n",
              "      <td>(x, y)</td>\n",
              "      <td>[115.0, -35.0]</td>\n",
              "      <td>[115.0, -35.0, 0, 0, 0]</td>\n",
              "      <td>390.00000</td>\n",
              "      <td>False</td>\n",
              "    </tr>\n",
              "    <tr>\n",
              "      <th>1</th>\n",
              "      <td>(x, z)</td>\n",
              "      <td>[91.66666666666667, -11.666666666666666]</td>\n",
              "      <td>[91.66667, 0, -11.66667, 0, 0]</td>\n",
              "      <td>331.66667</td>\n",
              "      <td>False</td>\n",
              "    </tr>\n",
              "    <tr>\n",
              "      <th>2</th>\n",
              "      <td>(x, slack1)</td>\n",
              "      <td>[62.5, 17.5]</td>\n",
              "      <td>[62.5, 0, 0, 17.5, 0]</td>\n",
              "      <td>250.00000</td>\n",
              "      <td>True</td>\n",
              "    </tr>\n",
              "    <tr>\n",
              "      <th>3</th>\n",
              "      <td>(x, slack2)</td>\n",
              "      <td>[80.0, -35.0]</td>\n",
              "      <td>[80.0, 0, 0, 0, -35.0]</td>\n",
              "      <td>320.00000</td>\n",
              "      <td>False</td>\n",
              "    </tr>\n",
              "    <tr>\n",
              "      <th>4</th>\n",
              "      <td>(y, z)</td>\n",
              "      <td>[137.50000000000003, -57.500000000000014]</td>\n",
              "      <td>[0, 137.5, -57.5, 0, 0]</td>\n",
              "      <td>102.50000</td>\n",
              "      <td>False</td>\n",
              "    </tr>\n",
              "    <tr>\n",
              "      <th>5</th>\n",
              "      <td>(y, slack1)</td>\n",
              "      <td>[41.666666666666664, 38.333333333333336]</td>\n",
              "      <td>[0, 41.66667, 0, 38.33333, 0]</td>\n",
              "      <td>83.33334</td>\n",
              "      <td>True</td>\n",
              "    </tr>\n",
              "    <tr>\n",
              "      <th>6</th>\n",
              "      <td>(y, slack2)</td>\n",
              "      <td>[80.0, -115.00000000000001]</td>\n",
              "      <td>[0, 80.0, 0, 0, -115.0]</td>\n",
              "      <td>160.00000</td>\n",
              "      <td>False</td>\n",
              "    </tr>\n",
              "    <tr>\n",
              "      <th>7</th>\n",
              "      <td>(z, slack1)</td>\n",
              "      <td>[25.0, 55.0]</td>\n",
              "      <td>[0, 0, 25.0, 55.0, 0]</td>\n",
              "      <td>75.00000</td>\n",
              "      <td>True</td>\n",
              "    </tr>\n",
              "    <tr>\n",
              "      <th>8</th>\n",
              "      <td>(z, slack2)</td>\n",
              "      <td>[80.0, -275.0]</td>\n",
              "      <td>[0, 0, 80.0, 0, -275.0]</td>\n",
              "      <td>240.00000</td>\n",
              "      <td>False</td>\n",
              "    </tr>\n",
              "    <tr>\n",
              "      <th>9</th>\n",
              "      <td>(slack1, slack2)</td>\n",
              "      <td>[80.0, 125.0]</td>\n",
              "      <td>[0, 0, 0, 80.0, 125.0]</td>\n",
              "      <td>0.00000</td>\n",
              "      <td>True</td>\n",
              "    </tr>\n",
              "  </tbody>\n",
              "</table>\n",
              "</div>"
            ],
            "text/plain": [
              "     Variables Used  ... In Feasible\n",
              "0            (x, y)  ...       False\n",
              "1            (x, z)  ...       False\n",
              "2       (x, slack1)  ...        True\n",
              "3       (x, slack2)  ...       False\n",
              "4            (y, z)  ...       False\n",
              "5       (y, slack1)  ...        True\n",
              "6       (y, slack2)  ...       False\n",
              "7       (z, slack1)  ...        True\n",
              "8       (z, slack2)  ...       False\n",
              "9  (slack1, slack2)  ...        True\n",
              "\n",
              "[10 rows x 5 columns]"
            ]
          },
          "metadata": {},
          "execution_count": 28
        }
      ]
    },
    {
      "cell_type": "code",
      "metadata": {
        "id": "0T2q1BuoMAzL"
      },
      "source": [
        ""
      ],
      "execution_count": null,
      "outputs": []
    }
  ]
}
