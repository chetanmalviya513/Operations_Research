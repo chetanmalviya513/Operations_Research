{
 "cells": [
  {
   "cell_type": "markdown",
   "metadata": {
    "colab_type": "text",
    "id": "view-in-github"
   },
   "source": [
    "<a href=\"https://colab.research.google.com/github/dhirajbbasnet/Operations_Research/blob/main/Network_Notes_Peer_Review.ipynb\" target=\"_parent\"><img src=\"https://colab.research.google.com/assets/colab-badge.svg\" alt=\"Open In Colab\"/></a>"
   ]
  },
  {
   "cell_type": "markdown",
   "metadata": {
    "id": "VgbI3B_aepM-"
   },
   "source": [
    "##Network Draft Peer review by Queueing Theory Group "
   ]
  },
  {
   "cell_type": "code",
   "execution_count": 3,
   "metadata": {
    "colab": {
     "base_uri": "https://localhost:8080/"
    },
    "id": "3F1yjjT-b8F5",
    "outputId": "774458b9-360f-40e9-d05c-a8e4a6aa5693"
   },
   "outputs": [
    {
     "name": "stdout",
     "output_type": "stream",
     "text": [
      "The shortest path from A to F is:- \n",
      "11\n"
     ]
    }
   ],
   "source": [
    "#Question 2 solution\n",
    "\n",
    "#Shortest path problem solving using python...\n",
    "\n",
    "import sys\n",
    "\n",
    "class Graph():\n",
    "\n",
    "    def __init__(self, vertices):\n",
    "        self.V = vertices\n",
    "        self.graph = [[0 for column in range(vertices)]\n",
    "                        for row in range(vertices)]\n",
    "\n",
    "    def printSolution(self, dist):\n",
    "        print (\"The shortest path from A to F is:- \")\n",
    "        print(dist[self.V-1])\n",
    "\n",
    "    #A utility function to find the vertex with\n",
    "    # minimum distance value, from the set of vertices\n",
    "    # not yet included in shortest path tree\n",
    "\n",
    "    def minDistance(self, dist, sptSet):\n",
    "\n",
    "        # Initialize minimum distance for next node\n",
    "        min = sys.maxsize\n",
    "\n",
    "\n",
    "        for u in range(self.V):\n",
    "            if dist[u] < min and sptSet[u] == False:\n",
    "                min = dist[u]\n",
    "                min_index = u\n",
    "\n",
    "        return min_index\n",
    "\n",
    " # Funtion that implements Dijkstra's single source\n",
    " # shortest path algorithm for a graph represented\n",
    " # using adjacency matrix representation\n",
    "\n",
    " # Implementation\n",
    "    def dijkstra(self, src):\n",
    "    \n",
    "        dist = [sys.maxsize] * self.V\n",
    "        dist[src] = 0\n",
    "        sptSet = [False] * self.V\n",
    "    \n",
    "        for cout in range(self.V):\n",
    "\n",
    "            x = self.minDistance(dist, sptSet)\n",
    "\n",
    "            sptSet[x] = True\n",
    "\n",
    "            for y in range(self.V):\n",
    "                if self.graph[x][y] > 0 and sptSet[y] == False and dist[y] > dist[x] + self.graph[x][y]:\n",
    "                        dist[y] = dist[x] + self.graph[x][y]\n",
    "\n",
    "        self.printSolution(dist)\n",
    "\n",
    "# Driver program\n",
    "g = Graph(6)\n",
    "g.graph = [[0, 13, 13, 11, 7, 0],\n",
    "           [13, 0, 0, 0, 1, 0],\n",
    "           [13, 0, 0, 0, 0, 6],\n",
    "           [11, 0, 0, 0, 0, 2],\n",
    "           [7, 1, 0, 0, 0, 4],\n",
    "           [0, 0, 6, 2, 4, 0]]\n",
    "\n",
    "g.dijkstra(0);"
   ]
  },
  {
   "cell_type": "code",
   "execution_count": 1,
   "metadata": {
    "colab": {
     "base_uri": "https://localhost:8080/"
    },
    "id": "yT-tCi8ZayOJ",
    "outputId": "41aaff68-5c6b-4b73-bd49-b4912d01813c"
   },
   "outputs": [
    {
     "name": "stdout",
     "output_type": "stream",
     "text": [
      "The shortest path from A to F is:- \n",
      "11\n"
     ]
    }
   ],
   "source": [
    "#Question 3 Solution\n",
    "\n",
    "#Shortest path problem solving using python...\n",
    "\n",
    "import sys\n",
    "\n",
    "class Graph():\n",
    "\n",
    "    def __init__(self, vertices):\n",
    "        self.V = vertices\n",
    "        self.graph = [[0 for column in range(vertices)]\n",
    "                        for row in range(vertices)]\n",
    "\n",
    "    def printSolution(self, dist):\n",
    "        print (\"The shortest path from A to F is:- \")\n",
    "        print(dist[self.V-1])\n",
    "\n",
    "    #A utility function to find the vertex with\n",
    "    # minimum distance value, from the set of vertices\n",
    "    # not yet included in shortest path tree\n",
    "\n",
    "    def minDistance(self, dist, sptSet):\n",
    "\n",
    "        # Initialize minimum distance for next node\n",
    "        min = sys.maxsize\n",
    "\n",
    "\n",
    "        for u in range(self.V):\n",
    "            if dist[u] < min and sptSet[u] == False:\n",
    "                min = dist[u]\n",
    "                min_index = u\n",
    "\n",
    "        return min_index\n",
    "\n",
    " # Funtion that implements Dijkstra's single source\n",
    " # shortest path algorithm for a graph represented\n",
    " # using adjacency matrix representation\n",
    "\n",
    " # Implementation\n",
    "    def dijkstra(self, src):\n",
    "    \n",
    "        dist = [sys.maxsize] * self.V\n",
    "        dist[src] = 0\n",
    "        sptSet = [False] * self.V\n",
    "    \n",
    "        for cout in range(self.V):\n",
    "\n",
    "            x = self.minDistance(dist, sptSet)\n",
    "\n",
    "            sptSet[x] = True\n",
    "\n",
    "            for y in range(self.V):\n",
    "                if self.graph[x][y] > 0 and sptSet[y] == False and dist[y] > dist[x] + self.graph[x][y]:\n",
    "                        dist[y] = dist[x] + self.graph[x][y]\n",
    "\n",
    "        self.printSolution(dist)\n",
    "\n",
    "# Driver program\n",
    "g = Graph(5)\n",
    "g.graph = [[0,13,13,7,0],\n",
    "           [13,0,0,1,6],\n",
    "           [13,0,0,6,0],\n",
    "           [7,1,6,0,4],\n",
    "           [0,6,0,4,0]\n",
    "           ];\n",
    "\n",
    "g.dijkstra(0);"
   ]
  },
  {
   "cell_type": "code",
   "execution_count": null,
   "metadata": {
    "colab": {
     "base_uri": "https://localhost:8080/"
    },
    "id": "MdEGNLm-H6su",
    "outputId": "59a42809-a157-4b05-d046-1dbc47d43c83"
   },
   "outputs": [
    {
     "name": "stdout",
     "output_type": "stream",
     "text": [
      "The maximum possible flow is 16 \n"
     ]
    }
   ],
   "source": [
    "\n",
    "#Question 4 Solution\n",
    "#Solving the above Question in example 2 to find maximal flow using python\n",
    "#We took the codes as references from different python language sources and encoded in here.\n",
    "\n",
    "class Graph:\n",
    " \n",
    "    def __init__(self, graph):\n",
    "        self.graph = graph  # residual graph\n",
    "        self. ROW = len(graph)\n",
    "\n",
    "    '''Returns true if there is a path from source 's' to sink 't' in\n",
    "    residual graph. Also fills parent[] to store the path '''\n",
    " \n",
    "    def BFS(self, s, t, parent):\n",
    " \n",
    "        # Mark all the vertices as not visited\n",
    "        visited = [False]*(self.ROW)\n",
    " \n",
    "        # Create a queue for BFS\n",
    "        queue = []\n",
    " \n",
    "        # Mark the source node as visited and enqueue it\n",
    "        queue.append(s)\n",
    "        visited[s] = True\n",
    " \n",
    "         # Standard BFS Loop\n",
    "        while queue:\n",
    " \n",
    "            # Dequeue a vertex from queue and print it\n",
    "            u = queue.pop(0)\n",
    " \n",
    "          \n",
    "            for ind, val in enumerate(self.graph[u]):\n",
    "                if visited[ind] == False and val > 0:\n",
    "                     \n",
    "                    queue.append(ind)\n",
    "                    visited[ind] = True\n",
    "                    parent[ind] = u\n",
    "                    if ind == t:\n",
    "                        return True\n",
    " \n",
    "        \n",
    "        return False\n",
    "             \n",
    "     \n",
    "    # Returns tne maximum flow from s to t in the given graph\n",
    "    def FordFulkerson(self, source, sink):\n",
    " \n",
    "        # This array is filled by BFS and to store path\n",
    "        parent = [-1]*(self.ROW)\n",
    " \n",
    "        max_flow = 0 # There is no flow initially\n",
    " \n",
    "        while self.BFS(source, sink, parent) :\n",
    " \n",
    "        \n",
    "            path_flow = float(\"Inf\")\n",
    "            s = sink\n",
    "            while(s !=  source):\n",
    "                path_flow = min (path_flow, self.graph[parent[s]][s])\n",
    "                s = parent[s]\n",
    " \n",
    "            # Add path flow to overall flow\n",
    "            max_flow +=  path_flow\n",
    " \n",
    "            # update residual capacities of the edges and reverse edges\n",
    "            # along the path\n",
    "            v = sink\n",
    "            while(v !=  source):\n",
    "                u = parent[v]\n",
    "                self.graph[u][v] -= path_flow\n",
    "                self.graph[v][u] += path_flow\n",
    "                v = parent[v]\n",
    " \n",
    "        return max_flow\n",
    "graph = [[0, 10, 10, 0 ,0],\n",
    "         [0, 0, 2, 4, 0],\n",
    "         [0, 0, 0, 10, 10],\n",
    "         [0, 0, 0, 0, 10],\n",
    "         [0, 0, 0, 0, 0]]\n",
    " \n",
    "g = Graph(graph)\n",
    " \n",
    "source = 0; sink = 4\n",
    "  \n",
    "print (\"The maximum possible flow is %d \" % g.FordFulkerson(source, sink))"
   ]
  },
  {
   "cell_type": "markdown",
   "metadata": {
    "id": "BQwAO0a1dJmI"
   },
   "source": [
    "Queries/Concerns about the Draft\n",
    "\n",
    "1. What does 0/9 mean on the graph max flow? \n",
    "2. How did you calculate the bottleneck capacity on example 2?\n",
    "3. How did you calculate the maximal flow by hand?\n",
    "4. It would be easier to have the accompanying graph for the solution in the first python example. (Shortest Path)\n"
   ]
  }
 ],
 "metadata": {
  "colab": {
   "authorship_tag": "ABX9TyM+wFZstdRKuARkERibl/us",
   "collapsed_sections": [],
   "include_colab_link": true,
   "name": "Network Notes Peer Review.ipynb",
   "provenance": []
  },
  "kernelspec": {
   "display_name": "Python 3 (ipykernel)",
   "language": "python",
   "name": "python3"
  },
  "language_info": {
   "codemirror_mode": {
    "name": "ipython",
    "version": 3
   },
   "file_extension": ".py",
   "mimetype": "text/x-python",
   "name": "python",
   "nbconvert_exporter": "python",
   "pygments_lexer": "ipython3",
   "version": "3.9.7"
  }
 },
 "nbformat": 4,
 "nbformat_minor": 4
}
