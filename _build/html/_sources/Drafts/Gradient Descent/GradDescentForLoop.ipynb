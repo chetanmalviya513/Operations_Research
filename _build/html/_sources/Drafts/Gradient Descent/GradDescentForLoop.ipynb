{
  "nbformat": 4,
  "nbformat_minor": 0,
  "metadata": {
    "colab": {
      "name": "Untitled54.ipynb",
      "provenance": [],
      "authorship_tag": "ABX9TyM5I094ge5RPdNzZTQiWz3H",
      "include_colab_link": true
    },
    "kernelspec": {
      "name": "python3",
      "display_name": "Python 3"
    },
    "language_info": {
      "name": "python"
    }
  },
  "cells": [
    {
      "cell_type": "markdown",
      "metadata": {
        "id": "view-in-github",
        "colab_type": "text"
      },
      "source": [
        "<a href=\"https://colab.research.google.com/github/nurfnick/Operations_Research/blob/main/GradDescentForLoop.ipynb\" target=\"_parent\"><img src=\"https://colab.research.google.com/assets/colab-badge.svg\" alt=\"Open In Colab\"/></a>"
      ]
    },
    {
      "cell_type": "code",
      "metadata": {
        "colab": {
          "base_uri": "https://localhost:8080/"
        },
        "id": "-jGfYa5Y63R_",
        "outputId": "b34baf21-7438-4d89-e28e-9bd5b1af02e5"
      },
      "source": [
        "def f(x):\n",
        "  return (x+5)**2\n",
        "\n",
        "f(5)"
      ],
      "execution_count": 1,
      "outputs": [
        {
          "output_type": "execute_result",
          "data": {
            "text/plain": [
              "100"
            ]
          },
          "metadata": {},
          "execution_count": 1
        }
      ]
    },
    {
      "cell_type": "code",
      "metadata": {
        "id": "sHQGbsmS696J"
      },
      "source": [
        "def derf(x):\n",
        "  return 2*(x+5)"
      ],
      "execution_count": 2,
      "outputs": []
    },
    {
      "cell_type": "code",
      "metadata": {
        "colab": {
          "base_uri": "https://localhost:8080/"
        },
        "id": "BwKUkYM57G6v",
        "outputId": "c47fc452-880c-4b1b-abe3-c69f36d8df2d"
      },
      "source": [
        "initialize = 3\n",
        "weight = 0.12\n",
        "x = initialize\n",
        "\n",
        "update = x - weight*derf(x)\n",
        "update"
      ],
      "execution_count": 4,
      "outputs": [
        {
          "output_type": "execute_result",
          "data": {
            "text/plain": [
              "1.08"
            ]
          },
          "metadata": {},
          "execution_count": 4
        }
      ]
    },
    {
      "cell_type": "code",
      "metadata": {
        "id": "_e16LR4g7aGr"
      },
      "source": [
        "def graddescent(x,weight):\n",
        "  return x- weight*derf(x)"
      ],
      "execution_count": 5,
      "outputs": []
    },
    {
      "cell_type": "code",
      "metadata": {
        "colab": {
          "base_uri": "https://localhost:8080/"
        },
        "id": "y5IYOlTl7pxv",
        "outputId": "d350ef66-eb6f-4544-88bb-72c01b705e98"
      },
      "source": [
        "update = graddescent(update,weight)\n",
        "print(update)"
      ],
      "execution_count": 34,
      "outputs": [
        {
          "output_type": "stream",
          "name": "stdout",
          "text": [
            "-4.996319807204048\n"
          ]
        }
      ]
    },
    {
      "cell_type": "code",
      "metadata": {
        "colab": {
          "base_uri": "https://localhost:8080/"
        },
        "id": "Q9tbhsu77sDJ",
        "outputId": "355b3ca2-8f44-4f01-fe0b-0526efa6039c"
      },
      "source": [
        "x = 12\n",
        "\n",
        "for i in range(20):\n",
        "  print(i,x,f(x))\n",
        "  x = graddescent(x,weight)"
      ],
      "execution_count": 38,
      "outputs": [
        {
          "output_type": "stream",
          "name": "stdout",
          "text": [
            "0 12 289\n",
            "1 7.92 166.9264\n",
            "2 4.8192 96.41668864\n",
            "3 2.4625920000000003 55.69027935846401\n",
            "4 0.6715699200000003 32.16670535744881\n",
            "5 -0.6896068607999999 18.579489014462432\n",
            "6 -1.7241012142079999 10.7315128547535\n",
            "7 -2.5103169227980797 6.198521824905623\n",
            "8 -3.1078408613265407 3.5802662060654873\n",
            "9 -3.5619590546081707 2.067961760623426\n",
            "10 -3.90708888150221 1.1944547129360907\n",
            "11 -4.169387549941679 0.6899170421918863\n",
            "12 -4.368734537955676 0.3984960835700334\n",
            "13 -4.520238248846314 0.23017133787005115\n",
            "14 -4.6353810691231985 0.13294696475374176\n",
            "15 -4.722889612533631 0.07679016684176102\n",
            "16 -4.78939610552556 0.04435400036780113\n",
            "17 -4.839941040199426 0.025618870612441887\n",
            "18 -4.878355190551564 0.014797459665746339\n",
            "19 -4.907549944819189 0.008547012702935073\n"
          ]
        }
      ]
    },
    {
      "cell_type": "code",
      "metadata": {
        "id": "Mqlov9mO8eis"
      },
      "source": [
        ""
      ],
      "execution_count": null,
      "outputs": []
    }
  ]
}