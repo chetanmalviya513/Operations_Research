{
 "cells": [
  {
   "cell_type": "markdown",
   "metadata": {
    "colab_type": "text",
    "id": "view-in-github"
   },
   "source": [
    "<a href=\"https://colab.research.google.com/github/dkaiser7/Operations_Research/blob/main/Copy_of_Untitled30.ipynb\" target=\"_parent\"><img src=\"https://colab.research.google.com/assets/colab-badge.svg\" alt=\"Open In Colab\"/></a>"
   ]
  },
  {
   "cell_type": "markdown",
   "metadata": {
    "id": "i_4QVqdV96a6"
   },
   "source": [
    "\n",
    "# Monte Carlo Simulation\n"
   ]
  },
  {
   "cell_type": "markdown",
   "metadata": {
    "id": "woaZjkArTMAh"
   },
   "source": [
    "## History\n",
    "\n",
    "The Monte Carlo Method was devised by Stanislaw Ulam during World War II. Ulam was a Polish mathematician who greatly contributed to the development of the hydrogen bomb. Ulam also contributed to the Manhattan Project, which was developing nuclear weapons during WWII.\n",
    "\n",
    "As they were finishing up the project, Stanislaw Ulam became afflicted with a viral encephalitis that caused him to go into a coma. While he was recovering from this potentially brain-damaging virus, Ulam frequently played the game of Solitaire. He wanted to deduce the probability of him winning a game, so he played the game hundreds of times and documented his results. This was the first step towards the creation of the Monte Carlo Simulation.\n",
    "\n",
    "Stanislaw Ulam realized that the existence of computers made such statistical methods incredibly practical. He then took his idea to his coworker and boss, John von Neumann, who recognized the significance in his discovery. They both proceeded to develop the idea further until they created the simulation that is now used widely in computational sciences. The Monte Carlo Method is based on chance and probability, which is connected to gambling. They named it after the giant gambling Capital city in Europe, Monaco.\n",
    "\n",
    "\n",
    "\n",
    "\n"
   ]
  },
  {
   "cell_type": "markdown",
   "metadata": {
    "id": "cgPaFiQD0U_P"
   },
   "source": [
    "## Introduction\n",
    "\n",
    "The Monte Carlo Method is designed to make predictions that take every imaginable factor into account and display every possible outcome.\n",
    "\n",
    "It is an effective means to portray the impact of risk and uncertainty when it comes to making decisions. Because we all make decisions and take risks every day, Monte Carlo is wildly popular among a plethora of different fields. This includes Astronomy, Climate Change, Engineering Financing, Weather, various scientific fields, and so much more. It is a safe bet to assume that any career path that involves making decisions will utilize Monte Carlo in some capacity.\n",
    "\n",
    "Because we all face ambiguity and variability in our lives, using Monte Carlo simulations is a surefire way to allow for better decision making in the face of absolute uncertainty."
   ]
  },
  {
   "cell_type": "markdown",
   "metadata": {
    "id": "gZAnmh5LlmwX"
   },
   "source": [
    "## Examples"
   ]
  },
  {
   "cell_type": "markdown",
   "metadata": {
    "id": "VXEn-1oj8CG_"
   },
   "source": [
    "### Coin Flip Example "
   ]
  },
  {
   "cell_type": "markdown",
   "metadata": {
    "id": "hbqQ17BOlqGN"
   },
   "source": [
    "We would like to show to probability of heads in a series of 10 coin flips. The first thing we would do is define our coin flip. In this example, we will be importing random that that we may use random.uniform to generate a random real number between 0 and 1. We assign any number greater than 0.5 to be true(heads) and any number that is not greater than 0.5 to false(tails).\n",
    "\n"
   ]
  },
  {
   "cell_type": "code",
   "execution_count": null,
   "metadata": {
    "id": "Lf26LB3L2WeF"
   },
   "outputs": [],
   "source": [
    "import random\n",
    "import matplotlib.pyplot as plt\n",
    "\n",
    "def coin_toss():\n",
    "\n",
    "   x = random.uniform(0, 1)\n",
    "     \n",
    "   if x > 0.5:\n",
    "        # Heads for True\n",
    "       return True\n",
    "   else:\n",
    "       # Tails for False\n",
    "        return False"
   ]
  },
  {
   "cell_type": "markdown",
   "metadata": {
    "id": "pOs7h-W92ZvV"
   },
   "source": [
    "Our next step is to create our experiment. We define $N$ as our number of tosses for our experiment and create a list to store the results. When this for loop is ran, it will generate a 1 if we got heads and a 0 if we got tails and store the result in our list. After the loop is complete, we sum up our list then calculate the mean."
   ]
  },
  {
   "cell_type": "code",
   "execution_count": null,
   "metadata": {
    "id": "eZk3tZHD2fGs"
   },
   "outputs": [],
   "source": [
    "\n",
    "# Number of tosses in each experiment\n",
    "N = 10\n",
    "   # List for the results\n",
    "results = []\n",
    " \n",
    "    # Toss the coin N times and store in a list\n",
    "for i in range(N):\n",
    "   result = coin_toss()\n",
    "   results.append(result)\n",
    " \n",
    "   n_heads = sum(results)\n",
    "   p_heads = n_heads/N"
   ]
  },
  {
   "cell_type": "markdown",
   "metadata": {
    "id": "J3-RqfPq2gLU"
   },
   "source": [
    "Now that we have our experiment running, we would like to conduct our experiment multiple times to get an accurate probabilty. We create a new list named prob that will store the results for every complete experiment. Then we create a for loop that runs our experiment as many times as we'd like. In this example, we are running it 10000 times. We've added \"prob.append(p_heads)\" into our experiment as this will allow us to store our results in our new list. After our 10000 experiments are complete, we calculate the overall mean to give us our probability of heads."
   ]
  },
  {
   "cell_type": "code",
   "execution_count": null,
   "metadata": {
    "colab": {
     "base_uri": "https://localhost:8080/"
    },
    "id": "-1yIRglU2jUr",
    "outputId": "07b15e0e-92d6-4a5f-8cf6-4c8375b2ae92"
   },
   "outputs": [
    {
     "name": "stdout",
     "output_type": "stream",
     "text": [
      "Probability of heads is 0.49939\n",
      "\n"
     ]
    }
   ],
   "source": [
    "prob = []\n",
    " \n",
    "# Number of times the experimemnt is conducted\n",
    "for i in range(10000):\n",
    "     \n",
    "   # Number of tosses in each experiment\n",
    "   N = 10\n",
    "   # List for the results\n",
    "   results = []\n",
    " \n",
    "    # Toss the coin N times and store in a list\n",
    "   for i in range(N):\n",
    "      result = coin_toss()\n",
    "      results.append(result)\n",
    " \n",
    "   n_heads = sum(results)\n",
    "   p_heads = n_heads/N\n",
    "   prob.append(p_heads)\n",
    " \n",
    "# average the probability of heads over the number of experiments\n",
    "p_heads_FINAL = sum(prob)/10000\n",
    "print(\"Probability of heads is {:.5f}\\n\".format(p_heads_FINAL))"
   ]
  },
  {
   "cell_type": "markdown",
   "metadata": {
    "id": "X4wU_D782px0"
   },
   "source": [
    "If we import matplotlib.pyplot, we can create a histogram that will show us the distrubution of head to tails throughout our experiment."
   ]
  },
  {
   "cell_type": "code",
   "execution_count": null,
   "metadata": {
    "colab": {
     "base_uri": "https://localhost:8080/",
     "height": 333
    },
    "id": "oXGlxiZQ2q7b",
    "outputId": "d14cf478-9ae8-4a13-e09c-18d7a7fd41fc"
   },
   "outputs": [
    {
     "data": {
      "text/plain": [
       "(array([  12.,  123.,  463., 1167., 1982., 2480., 2022., 1182.,  469.,\n",
       "          97.,    3.]),\n",
       " array([0. , 0.1, 0.2, 0.3, 0.4, 0.5, 0.6, 0.7, 0.8, 0.9, 1. , 1.1]),\n",
       " <a list of 11 Patch objects>)"
      ]
     },
     "execution_count": 6,
     "metadata": {},
     "output_type": "execute_result"
    },
    {
     "data": {
      "image/png": "[encoded data removed]",
      "text/plain": [
       "<Figure size 432x288 with 1 Axes>"
      ]
     },
     "metadata": {
      "needs_background": "light"
     },
     "output_type": "display_data"
    }
   ],
   "source": [
    "plt.hist(prob, bins=[0.0,0.1,0.2,0.3,0.4,0.5,0.6,0.7,0.8,0.9,1.0, 1.1])"
   ]
  },
  {
   "cell_type": "markdown",
   "metadata": {
    "id": "xwx5JA688Gqu"
   },
   "source": [
    "### Example 2: Monty Hall Problem"
   ]
  },
  {
   "cell_type": "markdown",
   "metadata": {
    "id": "UCeUiE8j8Ngm"
   },
   "source": [
    "You are a guest on a game show, and you have the choice of picking 1 of 3 doors: Behind one door is a car; behind the other doors, goats.You pick a door, let’s say door 1, and the host, who knows what’s behind the doors, opens another door, say door 3, which has a goat. The host then asks you: \"Do you want to stick with your choice or choose another door? Is it in our favor to switch doors in the end?\""
   ]
  },
  {
   "cell_type": "markdown",
   "metadata": {
    "id": "r6YK_kNx4ZSI"
   },
   "source": [
    "We start by importing random so that we may randomize the doors and the contestants selection and importing matplotlib.pyplot as plt so that we can see our results in a graph. Then we create our three doors and create two list that will store how many wins we got when sticking with our choice and how many wins we got if we were to switch doors."
   ]
  },
  {
   "cell_type": "code",
   "execution_count": null,
   "metadata": {
    "id": "tUkRKSRg4ca4"
   },
   "outputs": [],
   "source": [
    "import random\n",
    "import matplotlib.pyplot as plt\n",
    "\n",
    "#We are going with 3 doors :\n",
    "#1 - Car\n",
    "#2 - Goats\n",
    "doors = [\"goat\",\"goat\",\"car\"]\n",
    "\n",
    "#Empty lists to store probability values :\n",
    "switch_win_probability = []\n",
    "stick_win_probability = []"
   ]
  },
  {
   "cell_type": "markdown",
   "metadata": {
    "id": "qLd5EVdA4ezC"
   },
   "source": [
    "Now we create our experiment. We define our function as monte_carlo. We start our experiment by shuffling the doors with random.shuffle, then we get a random selection from the contestant with random.randrange. If the contestant did not select the car, we add 1 to our switch wins. If the contestant did get the car, we add 1 to the stick wins. We add our result to the list and find our probability. We then plot our list and print the probability."
   ]
  },
  {
   "cell_type": "code",
   "execution_count": null,
   "metadata": {
    "id": "807HZciY4hIg"
   },
   "outputs": [],
   "source": [
    "def monte_carlo(n):\n",
    "    \n",
    "    #Calculating switch and stick wins :\n",
    "    switch_wins = 0\n",
    "    stick_wins = 0\n",
    "    \n",
    "    for i in range(n):\n",
    "    \n",
    "        #Randomly placing the car and goats behind the three doors :\n",
    "        random.shuffle(doors) \n",
    "        \n",
    "        #Contestant's choice :\n",
    "        k = random.randrange(2)  \n",
    "\n",
    "        #If the contestant doesn't get car :\n",
    "        if doors[k] != 'car': \n",
    "            switch_wins += 1\n",
    "            \n",
    "        #If the contestant got car :\n",
    "        else: \n",
    "            stick_wins += 1\n",
    "\n",
    "        #Updating the list values :\n",
    "        switch_win_probability.append(switch_wins/(i+1))\n",
    "        stick_win_probability.append(stick_wins/(i+1))\n",
    "        \n",
    "        #Plotting the data :\n",
    "        plt.plot(switch_win_probability)\n",
    "        plt.plot(stick_win_probability)\n",
    "\n",
    "    #plotting the expected value   \n",
    "    plt.axhline(y=0.66666, color='r', linestyle='-')\n",
    "    plt.axhline(y=0.33333, color='g', linestyle='-')\n",
    "\n",
    "   #plotting the expected value\n",
    "    plt.axhline(y=0.66666, color='r', linestyle='-')\n",
    "    plt.axhline(y=0.33333, color='g', linestyle='-')\n",
    "\n",
    "    #Print the probability values :\n",
    "    print('Winning probability if you always switch:',switch_win_probability[-1])\n",
    "    print('Winning probability if you always stick to your original choice:', stick_win_probability[-1])"
   ]
  },
  {
   "cell_type": "markdown",
   "metadata": {
    "id": "elZimIJp4mTg"
   },
   "source": [
    "To finish, we call our function with the number of times we would like to run the experiment."
   ]
  },
  {
   "cell_type": "code",
   "execution_count": null,
   "metadata": {
    "colab": {
     "base_uri": "https://localhost:8080/",
     "height": 299
    },
    "id": "N2uMS-WM4osi",
    "outputId": "708670ce-9a94-4901-cdfb-b3aaa867dc3d"
   },
   "outputs": [
    {
     "name": "stdout",
     "output_type": "stream",
     "text": [
      "Winning probability if you always switch: 0.67\n",
      "Winning probability if you always stick to your original choice: 0.33\n"
     ]
    },
    {
     "data": {
      "image/png": "[encoded data removed]",
      "text/plain": [
       "<Figure size 432x288 with 1 Axes>"
      ]
     },
     "metadata": {
      "needs_background": "light"
     },
     "output_type": "display_data"
    }
   ],
   "source": [
    "monte_carlo(1000)"
   ]
  },
  {
   "cell_type": "markdown",
   "metadata": {
    "id": "XCt_r3s62LwN"
   },
   "source": [
    "As you can see, we also have a graph showing the probability throughout our experiments. The graph list the expected value of .66 for switching and .33 for sticking. The probability is far more random at the start of our experiments and approaches the expected value after more experiments are ran. This is because of the **law of large numbers** which states that the more trials we run, the closer we are to reaching our expected value."
   ]
  },
  {
   "cell_type": "markdown",
   "metadata": {
    "id": "rR_gVEvbE4mQ"
   },
   "source": [
    " ### Craps Simulator for One Shooter"
   ]
  },
  {
   "cell_type": "code",
   "execution_count": null,
   "metadata": {
    "colab": {
     "base_uri": "https://localhost:8080/"
    },
    "id": "dBQ6Y5PvFXig",
    "outputId": "7fa46494-cc24-4c0b-85c4-61260614d7c5"
   },
   "outputs": [
    {
     "data": {
      "text/plain": [
       "5"
      ]
     },
     "execution_count": 10,
     "metadata": {},
     "output_type": "execute_result"
    }
   ],
   "source": [
    "import random\n",
    "\n",
    "random.randint(1,6)"
   ]
  },
  {
   "cell_type": "markdown",
   "metadata": {
    "id": "c8xh4uchFbzQ"
   },
   "source": [
    "Above code rolls a dice once."
   ]
  },
  {
   "cell_type": "code",
   "execution_count": null,
   "metadata": {
    "id": "W57_WqfRFeuw"
   },
   "outputs": [],
   "source": [
    "def Roll2Dice():\n",
    "  return [random.randint(1,6),random.randint(1,6)]"
   ]
  },
  {
   "cell_type": "markdown",
   "metadata": {
    "id": "jyM1_A-cFj1Y"
   },
   "source": []
  },
  {
   "cell_type": "code",
   "execution_count": null,
   "metadata": {
    "colab": {
     "base_uri": "https://localhost:8080/"
    },
    "id": "YnwzE-ICFkzQ",
    "outputId": "9f9d0ece-5266-438f-ef5f-b82645491f26"
   },
   "outputs": [
    {
     "data": {
      "text/plain": [
       "[4, 5]"
      ]
     },
     "execution_count": 12,
     "metadata": {},
     "output_type": "execute_result"
    }
   ],
   "source": [
    "Roll2Dice()"
   ]
  },
  {
   "cell_type": "markdown",
   "metadata": {
    "id": "ax0wscLLFoIo"
   },
   "source": [
    "This rolls two dies"
   ]
  },
  {
   "cell_type": "code",
   "execution_count": null,
   "metadata": {
    "colab": {
     "base_uri": "https://localhost:8080/"
    },
    "id": "NapYYFqeFwnR",
    "outputId": "a8a8af84-7fd7-451d-cf1d-e9837a570c42"
   },
   "outputs": [
    {
     "data": {
      "text/plain": [
       "[264, 556, 829, 1162, 1352, 1616, 1333, 1132, 875, 584, 297]"
      ]
     },
     "execution_count": 14,
     "metadata": {},
     "output_type": "execute_result"
    }
   ],
   "source": [
    "sums = range(2,13,1)\n",
    "newlist =[]\n",
    "for i in sums:\n",
    "  newlist.append(0)\n",
    "\n",
    "for i in listy:\n",
    "  for j in sums:\n",
    "    if i == j:\n",
    "      newlist[i-2] +=1\n",
    "\n",
    "newlist"
   ]
  },
  {
   "cell_type": "markdown",
   "metadata": {
    "id": "T1awEimqF0WA"
   },
   "source": [
    "Above I have checked that the outcomes are random but as expected. Both codes do the same thing."
   ]
  },
  {
   "cell_type": "code",
   "execution_count": null,
   "metadata": {
    "colab": {
     "base_uri": "https://localhost:8080/"
    },
    "id": "2-TvCdjGF1RB",
    "outputId": "0e5123fb-8d8c-4c99-853d-09f81dfba5c7"
   },
   "outputs": [
    {
     "data": {
      "text/plain": [
       "8"
      ]
     },
     "execution_count": 15,
     "metadata": {},
     "output_type": "execute_result"
    }
   ],
   "source": [
    "def ComeOutRoll(TwoDice):\n",
    "  s = sum(TwoDice)\n",
    "  if (s == 2)|(s == 3)|(s==12):\n",
    "    return 'Craps'\n",
    "  elif (s == 7)|(s == 11):\n",
    "    return 'comeAgain'\n",
    "  else:\n",
    "    return s #return the point\n",
    "\n",
    "ComeOutRoll([4,4])"
   ]
  },
  {
   "cell_type": "code",
   "execution_count": null,
   "metadata": {
    "colab": {
     "base_uri": "https://localhost:8080/",
     "height": 35
    },
    "id": "iF_z-qZ9F79Q",
    "outputId": "21f7ba9c-8c66-41fb-a31c-9b544324fa31"
   },
   "outputs": [
    {
     "data": {
      "application/vnd.google.colaboratory.intrinsic+json": {
       "type": "string"
      },
      "text/plain": [
       "'Craps'"
      ]
     },
     "execution_count": 16,
     "metadata": {},
     "output_type": "execute_result"
    }
   ],
   "source": [
    "ComeOutRoll([6,6])"
   ]
  },
  {
   "cell_type": "markdown",
   "metadata": {
    "id": "zCt0B3fXGASf"
   },
   "source": [
    "The `ComeOutRoll` is the first roll in the craps game.  There are three options **Craps** (2,3,12) **Natural** (7,11) (designated here as 'comeAgain' since you will get another come out roll.  Any othe value will set the point, the function just returns that number."
   ]
  },
  {
   "cell_type": "code",
   "execution_count": null,
   "metadata": {
    "colab": {
     "base_uri": "https://localhost:8080/",
     "height": 35
    },
    "id": "4PvAWEawGBAP",
    "outputId": "dd1edb87-f474-4b74-9b45-10a454e64182"
   },
   "outputs": [
    {
     "data": {
      "application/vnd.google.colaboratory.intrinsic+json": {
       "type": "string"
      },
      "text/plain": [
       "'comeAgain'"
      ]
     },
     "execution_count": 17,
     "metadata": {},
     "output_type": "execute_result"
    }
   ],
   "source": [
    "def SetPointRoll(TwoDice,point):\n",
    "  s = sum(TwoDice)\n",
    "  if s == 7:\n",
    "    return 'SevenOut'\n",
    "  elif s == point:\n",
    "    return 'comeAgain'\n",
    "  else:\n",
    "    return point\n",
    "\n",
    "SetPointRoll([5,4],9)"
   ]
  },
  {
   "cell_type": "code",
   "execution_count": null,
   "metadata": {
    "colab": {
     "base_uri": "https://localhost:8080/",
     "height": 35
    },
    "id": "CRgVCdmgGFYf",
    "outputId": "4e1a15ab-3ee1-48d0-c8d7-ae96ca2ecf5a"
   },
   "outputs": [
    {
     "data": {
      "application/vnd.google.colaboratory.intrinsic+json": {
       "type": "string"
      },
      "text/plain": [
       "'SevenOut'"
      ]
     },
     "execution_count": 18,
     "metadata": {},
     "output_type": "execute_result"
    }
   ],
   "source": [
    "SetPointRoll([3,4],4)"
   ]
  },
  {
   "cell_type": "code",
   "execution_count": null,
   "metadata": {
    "colab": {
     "base_uri": "https://localhost:8080/"
    },
    "id": "dXSuZ8pwGGDX",
    "outputId": "e7509d1e-3c75-418d-ea58-e43152312073"
   },
   "outputs": [
    {
     "data": {
      "text/plain": [
       "5"
      ]
     },
     "execution_count": 19,
     "metadata": {},
     "output_type": "execute_result"
    }
   ],
   "source": [
    "SetPointRoll([3,1],5)"
   ]
  },
  {
   "cell_type": "markdown",
   "metadata": {
    "id": "bnq2wYp3GJ53"
   },
   "source": [
    "After the point has been set, you will roll over and over again until you **comeAgain** by hitting the same point or **SevenOut** by rolling a 7.  The function returns the point if neither of those happen."
   ]
  },
  {
   "cell_type": "code",
   "execution_count": null,
   "metadata": {
    "id": "TzkECcZZGK0X"
   },
   "outputs": [],
   "source": [
    "def PlayCraps():\n",
    "  x = ComeOutRoll(Roll2Dice())\n",
    "  rollCounter = 1\n",
    "  while (x != 'Craps')&(x != 'SevenOut'):\n",
    "    if x == 'comeAgain':\n",
    "      rollCounter += 1\n",
    "      x = ComeOutRoll(Roll2Dice())\n",
    "    else:\n",
    "      point = x\n",
    "      rollCounter += 1\n",
    "      x = SetPointRoll(Roll2Dice(),point)\n",
    "  return rollCounter\n"
   ]
  },
  {
   "cell_type": "code",
   "execution_count": null,
   "metadata": {
    "colab": {
     "base_uri": "https://localhost:8080/"
    },
    "id": "8si6k5zkGOEA",
    "outputId": "251a8d7a-b05f-4e36-e908-40f3a1003544"
   },
   "outputs": [
    {
     "data": {
      "text/plain": [
       "5"
      ]
     },
     "execution_count": 21,
     "metadata": {},
     "output_type": "execute_result"
    }
   ],
   "source": [
    "PlayCraps()"
   ]
  },
  {
   "cell_type": "markdown",
   "metadata": {
    "id": "BEbaqGYQGUnn"
   },
   "source": [
    "`PlayCraps` will play the game returning the number of rolls until you **Crap** or **SevenOut**.  Let's compute some statistics about it."
   ]
  },
  {
   "cell_type": "code",
   "execution_count": null,
   "metadata": {
    "colab": {
     "base_uri": "https://localhost:8080/"
    },
    "id": "eY0-j3CMGYQH",
    "outputId": "b2a4e96e-d27a-4c9a-8bce-46f6044edf30"
   },
   "outputs": [
    {
     "data": {
      "text/plain": [
       "6.52"
      ]
     },
     "execution_count": 24,
     "metadata": {},
     "output_type": "execute_result"
    }
   ],
   "source": [
    "list1 = []\n",
    "for i in range(100):\n",
    "  list1.append(PlayCraps())\n",
    "sum(list1)/len(list1)\n"
   ]
  },
  {
   "cell_type": "code",
   "execution_count": null,
   "metadata": {
    "colab": {
     "base_uri": "https://localhost:8080/",
     "height": 316
    },
    "id": "RhS83BznGbVR",
    "outputId": "3688fbd0-fc89-46ad-f7be-294ed0b559b5"
   },
   "outputs": [
    {
     "data": {
      "text/plain": [
       "(array([39., 26., 17.,  6.,  3.,  2.,  3.,  2.,  0.,  2.]),\n",
       " array([ 1.,  4.,  7., 10., 13., 16., 19., 22., 25., 28., 31.]),\n",
       " <a list of 10 Patch objects>)"
      ]
     },
     "execution_count": 25,
     "metadata": {},
     "output_type": "execute_result"
    },
    {
     "data": {
      "image/png": "[encoded data removed]",
      "text/plain": [
       "<Figure size 432x288 with 1 Axes>"
      ]
     },
     "metadata": {
      "needs_background": "light"
     },
     "output_type": "display_data"
    }
   ],
   "source": [
    "import matplotlib.pyplot as plt\n",
    "\n",
    "plt.hist(list1)"
   ]
  },
  {
   "cell_type": "markdown",
   "metadata": {
    "id": "Uw0ItlctGfkv"
   },
   "source": [
    "The distribution is not normal! Seems like it is mostly just a few rolls. I wonder what the expected or average value is."
   ]
  },
  {
   "cell_type": "code",
   "execution_count": null,
   "metadata": {
    "id": "PjbKzoxgGj4g"
   },
   "outputs": [],
   "source": [
    "list2 = []\n",
    "for j in range(200):\n",
    "  list1 = []\n",
    "  for i in range(100):\n",
    "    list1.append(PlayCraps())\n",
    "  list2.append(sum(list1)/len(list1))"
   ]
  },
  {
   "cell_type": "code",
   "execution_count": null,
   "metadata": {
    "colab": {
     "base_uri": "https://localhost:8080/",
     "height": 333
    },
    "id": "XtPn6iQUGknH",
    "outputId": "432c0c8c-0a9f-4081-ddc4-92b7f7d3bd07"
   },
   "outputs": [
    {
     "data": {
      "text/plain": [
       "(array([ 2.,  6., 31., 42., 38., 41., 21., 12.,  5.,  2.]),\n",
       " array([5.02 , 5.363, 5.706, 6.049, 6.392, 6.735, 7.078, 7.421, 7.764,\n",
       "        8.107, 8.45 ]),\n",
       " <a list of 10 Patch objects>)"
      ]
     },
     "execution_count": 31,
     "metadata": {},
     "output_type": "execute_result"
    },
    {
     "data": {
      "image/png": "[encoded data removed]",
      "text/plain": [
       "<Figure size 432x288 with 1 Axes>"
      ]
     },
     "metadata": {
      "needs_background": "light"
     },
     "output_type": "display_data"
    }
   ],
   "source": [
    "plt.hist(list2)"
   ]
  },
  {
   "cell_type": "code",
   "execution_count": null,
   "metadata": {
    "colab": {
     "base_uri": "https://localhost:8080/"
    },
    "id": "ONQmuNQtGnqg",
    "outputId": "b80c65cc-89d9-4ac4-b9a0-b644d2a3727f"
   },
   "outputs": [
    {
     "data": {
      "text/plain": [
       "6.5093000000000005"
      ]
     },
     "execution_count": 29,
     "metadata": {},
     "output_type": "execute_result"
    }
   ],
   "source": [
    "from numpy import mean\n",
    "\n",
    "mean(list2)"
   ]
  },
  {
   "cell_type": "markdown",
   "metadata": {
    "id": "Ru3ABIx4GqPQ"
   },
   "source": [
    "As I perused the internet for this value, I found lots of answers that were larger! How can that be! At first I thought I had the program wrong. Below I write some code to check the craps game by hand."
   ]
  },
  {
   "cell_type": "code",
   "execution_count": null,
   "metadata": {
    "id": "jNKuSiWFGrHx"
   },
   "outputs": [],
   "source": [
    "def ErrorTestingPlayCraps():\n",
    "  listOfRolls = []\n",
    "  randRoll = Roll2Dice()\n",
    "  listOfRolls.append(randRoll)\n",
    "  x = ComeOutRoll(randRoll)\n",
    "  rollCounter = 1\n",
    "  PassLineWins = 0\n",
    "  while (x != 'Craps')&(x != 'SevenOut'):\n",
    "    if x == 'comeAgain':\n",
    "      listOfRolls.append('Pass Line Win')\n",
    "      PassLineWins += 1\n",
    "      rollCounter += 1\n",
    "      randRoll = Roll2Dice()\n",
    "      listOfRolls.append(randRoll)\n",
    "      x = ComeOutRoll(randRoll)\n",
    "    else:\n",
    "      point = x\n",
    "      rollCounter += 1\n",
    "      randRoll = Roll2Dice()\n",
    "      listOfRolls.append(randRoll)\n",
    "      listOfRolls.append(point)\n",
    "      x = SetPointRoll(randRoll,point)\n",
    "  else:\n",
    "    listOfRolls.append(x)\n",
    "  return rollCounter, listOfRolls"
   ]
  },
  {
   "cell_type": "code",
   "execution_count": null,
   "metadata": {
    "colab": {
     "base_uri": "https://localhost:8080/"
    },
    "id": "y4uIm3BwGv3I",
    "outputId": "b64542ed-24f3-4d95-f695-c11fe3b4c7e5"
   },
   "outputs": [
    {
     "data": {
      "text/plain": [
       "(4, [[4, 6], [6, 3], 10, [1, 3], 10, [2, 5], 10, 'SevenOut'])"
      ]
     },
     "execution_count": 33,
     "metadata": {},
     "output_type": "execute_result"
    }
   ],
   "source": [
    "ErrorTestingPlayCraps()"
   ]
  },
  {
   "cell_type": "code",
   "execution_count": null,
   "metadata": {
    "colab": {
     "base_uri": "https://localhost:8080/"
    },
    "id": "UbFBcTmEGxxA",
    "outputId": "1eb28455-dd15-4341-ce4a-09292fd7e10a"
   },
   "outputs": [
    {
     "data": {
      "text/plain": [
       "(6,\n",
       " [[5, 6],\n",
       "  'Pass Line Win',\n",
       "  [4, 1],\n",
       "  [6, 5],\n",
       "  5,\n",
       "  [6, 6],\n",
       "  5,\n",
       "  [2, 1],\n",
       "  5,\n",
       "  [5, 2],\n",
       "  5,\n",
       "  'SevenOut'])"
      ]
     },
     "execution_count": 34,
     "metadata": {},
     "output_type": "execute_result"
    }
   ],
   "source": [
    "ErrorTestingPlayCraps()"
   ]
  },
  {
   "cell_type": "markdown",
   "metadata": {
    "id": "0yUG0KqeG07A"
   },
   "source": [
    "This simulation is more fun as it really shows you what happens on each roll.\n",
    "\n",
    "\n",
    "Trying this ***many*** times, I did not see an error.  This makes me feel like the reference [here](https://wizardofodds.com/ask-the-wizard/craps/probability/) has an error in their computation.  Let's see if we can find the value theoretically we have simulated!"
   ]
  },
  {
   "cell_type": "markdown",
   "metadata": {
    "id": "Ju-O7VccG4M4"
   },
   "source": [
    "Here is the theoretical expected value.  Call the expected value $x$.  Then on the **ComeOutRoll**, craps results in the end of the game, natural results in playing the game again plus the roll you made and setting the point will result in a small game.\n",
    "\n",
    "Each point will have a different expected value.  The point at 4 or 10 will result in an expected value of 4 (point rolls end with 4 or 7 $p = \\frac{9}{36}$)  The game continues the probability of $\\frac39$.  All the rest are similar.  This creates an expected value computation of\n",
    "\n",
    "$$\n",
    "x\n",
    "=\n",
    "\\frac4{36}\n",
    "+\n",
    "\\frac8{36}(x+1)\n",
    "+\n",
    "2\\cdot \\frac3{36}\\left(4+1+\\frac39x\\right)\n",
    "+\n",
    "2\\cdot \\frac4{36}\\left(3.6+1+\\frac4{10}x\\right)\n",
    "+\n",
    "2\\cdot \\frac5{36}\\left(\\frac{36}{11}+1+\\frac5{11}x\\right)\n",
    "$$"
   ]
  },
  {
   "cell_type": "code",
   "execution_count": null,
   "metadata": {
    "colab": {
     "base_uri": "https://localhost:8080/"
    },
    "id": "yN2eACdBG8Dg",
    "outputId": "6266eab1-6e98-4481-8192-77db9eb4cd8e"
   },
   "outputs": [
    {
     "data": {
      "text/plain": [
       "[6.65737051792830]"
      ]
     },
     "execution_count": 35,
     "metadata": {},
     "output_type": "execute_result"
    }
   ],
   "source": [
    "import sympy\n",
    "\n",
    "x = sympy.Symbol('x')\n",
    "sympy.solve(4/36+8/36*(x+1)+2*3/36*(5+3/9*x)+8/36*(4.6+4/10*x)+10/36*(36/11+1+5/11*x)-x,x)"
   ]
  },
  {
   "cell_type": "markdown",
   "metadata": {
    "id": "fb2uZl1q_LR_"
   },
   "source": [
    "## References\n",
    "\n",
    "\n",
    "**Shukla, P., &amp; Iriondo, R**. (2021, April 2). *Monte Carlo Simulation an In-depth Tutorial with Python*. Medium. Retrieved September 23, 2021, from https://pub.towardsai.net/monte-carlo-simulation-an-in-depth-tutorial-with-python-bcf6eb7856c8#c5ea. \n",
    "\n",
    "**Brownlee, J**. (2019, September 24). *A Gentle Introduction to Monte Carlo Sampling for Probability*. Machine Learning Mastery. Retrieved September 23, 2021, from https://machinelearningmastery.com/monte-carlo-sampling-for-probability/.  \n",
    "\n",
    "https://ocw.mit.edu/courses/electrical-engineering-and-computer-science/6-0002-introduction-to-computational-thinking-and-data-science-fall-2016/lecture-slides-and-files/MIT6_0002F16_lec6.pdf\n",
    "\n",
    "**Hanbury, P**. (2019, January 26). *Monte Carlo Simulations with Python (part 1)*. Medium. Retrieved September 23, 2021, from https://towardsdatascience.com/monte-carlo-simulations-with-python-part-1-f5627b7d60b0. \n",
    "\n",
    "**Moffitt, C**. (2019, February 18). *Monte Carlo Simulation with Python*. Practical Business Python Atom. Retrieved September 23, 2021, from https://pbpython.com/monte-carlo.html. \n",
    "\n",
    "https://www.youtube.com/watch?v=BfS2H1y6tzQ\n",
    "\n",
    "**Ferreira, B**. (2015, May 8). How Solitaire Inspired the World's Most Useful Simulation tool. VICE. Retrieved October 26, 2021, from https://www.vice.com/en/article/z4m75a/how-solitaire-inspired-the-worlds-most-useful-simulation-tool. \n",
    "\n",
    "Encyclopædia Britannica, inc. (n.d.). Stanislaw Ulam. Encyclopædia Britannica. Retrieved October 26, 2021, from https://www.britannica.com/biography/Stanislaw-Ulam. \n"
   ]
  },
  {
   "cell_type": "markdown",
   "metadata": {
    "id": "DGC5WaH4Y98C"
   },
   "source": [
    "## Problems"
   ]
  },
  {
   "cell_type": "markdown",
   "metadata": {
    "id": "aFM8E4VSZA_p"
   },
   "source": [
    "**Definitions:** \n",
    "\n",
    "1. How would you describe the process of the Monte Carlo Simulation?\n",
    "\n",
    "2. What is the Law of large numbers?\n",
    "\n",
    "3. How would you explain the premise of the Monty Hall Problem to someone?\n",
    "\n",
    "**Questions:**\n",
    "\n",
    "1. Would choosing to swap doors on the Monty Hall Problem continue to prove advantageous if there are more than three doors? Why or why not?\n",
    "\n",
    "2. Example one shows that the number of coin flips in the experiment was increased from ten to ten thousand. For what reason would this change be beneficial to someone wanting to document the results?\n",
    "\n",
    "3. What other applications might Monte Carlo have? List three examples.\n",
    "\n",
    "4. For what reason was the Monte Carlo Simulation given its name?\n",
    "\n",
    "5. What game did Stanislaw Ulam play while recovering from a viral encephalitus? How did that game become an important factor of the creation of the Monte Carlo Method?\n",
    "\n",
    "6. In example one, would running only 100 experiments give an accurate answer? Why or why not?\n",
    "\n",
    "7. Suppose that the dice in the Craps example was loaded so that the number six would come up half of the time while the rest of the numbers remain unchanged. What effect would this have on how the game of Craps is played? (Consider modifying example three's code to visualize this change)"
   ]
  },
  {
   "cell_type": "markdown",
   "metadata": {
    "id": "pz5xCYtbZCGZ"
   },
   "source": [
    "## Project Idea: Black Jack "
   ]
  },
  {
   "cell_type": "code",
   "execution_count": null,
   "metadata": {
    "id": "Z7ZPjuH-VlaH"
   },
   "outputs": [],
   "source": []
  },
  {
   "cell_type": "markdown",
   "metadata": {
    "id": "Jy4JESiXjqlg"
   },
   "source": [
    "Black Jack is another gambling game that the Monte Carlo Simulation can calculate. The rules of the game can be find [here](https://bicyclecards.com/how-to-play/blackjack/) for more information. Can you create a code that calcuates the likelihood of a bust? If you can, create the chances that you will beat the dealer and compare the two outputs."
   ]
  },
  {
   "cell_type": "markdown",
   "metadata": {
    "id": "C8i0wsUKijeP"
   },
   "source": [
    "### Authors"
   ]
  },
  {
   "cell_type": "markdown",
   "metadata": {
    "id": "rajid0PdipzE"
   },
   "source": [
    "\n",
    "\n",
    "Contributions were made by: \n",
    "\n",
    "Darcie Kaiser\n",
    "\n",
    "Tyler Evans \n",
    "\n",
    "Nicholas Jacob\n",
    "\n",
    "Jeremiah Fylstra"
   ]
  },
  {
   "cell_type": "code",
   "execution_count": null,
   "metadata": {
    "id": "7gUn1NirlAep"
   },
   "outputs": [],
   "source": []
  }
 ],
 "metadata": {
  "colab": {
   "collapsed_sections": [],
   "include_colab_link": true,
   "name": "Copy of Untitled30.ipynb",
   "provenance": []
  },
  "kernelspec": {
   "display_name": "Python 3 (ipykernel)",
   "language": "python",
   "name": "python3"
  },
  "language_info": {
   "codemirror_mode": {
    "name": "ipython",
    "version": 3
   },
   "file_extension": ".py",
   "mimetype": "text/x-python",
   "name": "python",
   "nbconvert_exporter": "python",
   "pygments_lexer": "ipython3",
   "version": "3.9.7"
  }
 },
 "nbformat": 4,
 "nbformat_minor": 4
}
