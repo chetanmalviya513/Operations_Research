{
 "cells": [
  {
   "cell_type": "markdown",
   "metadata": {
    "colab_type": "text",
    "id": "view-in-github"
   },
   "source": [
    "<a href=\"https://colab.research.google.com/github/nurfnick/Operations_Research/blob/main/Chapter2LinearProgramming.ipynb\" target=\"_parent\"><img src=\"https://colab.research.google.com/assets/colab-badge.svg\" alt=\"Open In Colab\"/></a>"
   ]
  },
  {
   "cell_type": "markdown",
   "metadata": {
    "id": "i_4QVqdV96a6"
   },
   "source": [
    "# Linear Programming\n",
    "\n",
    "\n",
    "\n"
   ]
  },
  {
   "cell_type": "markdown",
   "metadata": {
    "id": "woaZjkArTMAh"
   },
   "source": [
    "## Introduction\n",
    "\n",
    "\n",
    "\n",
    "\n"
   ]
  },
  {
   "cell_type": "markdown",
   "metadata": {
    "id": "n0AD_VXnYiKq"
   },
   "source": [
    "A local pillow company designs pillows especially for pregnant and nursing mothers.  There are two pillows that they produce referred here as large and small.  The large pillow requires six yards of fabric, one hour of sewing and eleven pounds of fill.  The small pillow requires seven yards of fabric, three hours of sewing and four pounds of fill.\n",
    "\n",
    "The manager, trying to keep all of this straight creates a table.\n",
    "\n",
    "|Pillow|Fabric|Sewing|Fill|\n",
    "|:------:|:------:|:------:|:----:|\n",
    "|Large |6     |1     |11   |\n",
    "|Small |7     |3     |4   |\n",
    "\n",
    "The manager being an astute business man, wants to limit inventory and labor.  Each week they can source 1370 yards of fabric and 1540 pounds of fill.  With a work crew that can do at most 540 hours of labour each week.  He adds this information to his table feeling very satisfied.\n",
    "\n",
    "|Pillow|Fabric|Sewing|Fill|\n",
    "|:------:|:------:|:------:|:----:|\n",
    "|Large |6     |1     |11   |\n",
    "|Small |7     |3     |4   |\n",
    "|Weekly Max| 1370|540|1540|\n",
    "\n",
    "Using some hueristics, the manager cranks out some pillows of each type every week.  One day an intrept intern asks, \"Are we maximizing our profit?\"  The large pillow sells for a $\\$ $3 profit, while the small pillow sells for a $\\$ $2 profit.  The intern adds this to the table but still does not know if they are maximizing profit.\n",
    "\n",
    "|Pillow|Fabric|Sewing|Fill|Profit|\n",
    "|:------:|:------:|:------:|:----:|:---:|\n",
    "|Large |6     |1     |11   |3\n",
    "|Small |7     |3     |4   |2\n",
    "|Weekly Max| 1370|540|1540|???\n",
    "\n",
    "The intern continues down this line of thought and comes up with a way to maximize the number of pillows produced.  They let $x$ be the number of large pillows and $y$ be the number of small pillows.  They create a system of inequalities:\n",
    "\n",
    "$$\n",
    "\\left\\{\n",
    "\\begin{array}{l}\n",
    "6x+7y\\leq 1370\\\\\n",
    "x+3y\\leq 540\\\\\n",
    "11x+4y\\leq 1540\n",
    "\\end{array}\n",
    "\\right.\n",
    "$$\n",
    "\n",
    "To graph this properly, we'll find the corner points."
   ]
  },
  {
   "cell_type": "code",
   "execution_count": 15,
   "metadata": {
    "colab": {
     "base_uri": "https://localhost:8080/"
    },
    "id": "X39A7NEyRKdt",
    "outputId": "ec3902e7-3c1b-455c-94dd-415efdae0fdd"
   },
   "outputs": [
    {
     "data": {
      "text/plain": [
       "array([ 30., 170.])"
      ]
     },
     "execution_count": 15,
     "metadata": {},
     "output_type": "execute_result"
    }
   ],
   "source": [
    "import numpy as np\n",
    "\n",
    "A = np.array([[6,7],[1,3],[11,4]])\n",
    "b = np.array([1370,540,1540])\n",
    "\n",
    "np.linalg.solve(A[0:2,:],b[0:2])"
   ]
  },
  {
   "cell_type": "code",
   "execution_count": 16,
   "metadata": {
    "colab": {
     "base_uri": "https://localhost:8080/"
    },
    "id": "p3YIV4RTU-_R",
    "outputId": "8467d967-fd56-4a3b-8a34-3013c816f043"
   },
   "outputs": [
    {
     "data": {
      "text/plain": [
       "array([ 84.82758621, 151.72413793])"
      ]
     },
     "execution_count": 16,
     "metadata": {},
     "output_type": "execute_result"
    }
   ],
   "source": [
    "np.linalg.solve(A[1:3,:],b[1:3])"
   ]
  },
  {
   "cell_type": "code",
   "execution_count": 17,
   "metadata": {
    "colab": {
     "base_uri": "https://localhost:8080/"
    },
    "id": "VBS_jjUCVDKJ",
    "outputId": "10eb9c52-aa78-41d7-f8b1-0290445bdd25"
   },
   "outputs": [
    {
     "data": {
      "text/plain": [
       "array([100., 110.])"
      ]
     },
     "execution_count": 17,
     "metadata": {},
     "output_type": "execute_result"
    }
   ],
   "source": [
    "np.linalg.solve(A[[0,2],:],b[[0,2]])"
   ]
  },
  {
   "cell_type": "markdown",
   "metadata": {
    "id": "0GbUkHE99XEH"
   },
   "source": [
    "Three lines will have three intersections $\\binom32=3$ We note that the intersection point of the first line and the third line is outside of the feasible region by the second line.  A graph of the feasible set is provided below. "
   ]
  },
  {
   "cell_type": "code",
   "execution_count": 29,
   "metadata": {
    "colab": {
     "base_uri": "https://localhost:8080/",
     "height": 284
    },
    "id": "KhIcgYdm7VO_",
    "outputId": "65e5f2f8-811f-40dc-ecbf-4e6bc043ef75"
   },
   "outputs": [
    {
     "data": {
      "text/plain": [
       "<matplotlib.collections.PolyCollection at 0x7f7e25ec9250>"
      ]
     },
     "execution_count": 29,
     "metadata": {},
     "output_type": "execute_result"
    },
    {
     "data": {
      "image/png": "[encoded data removed]",
      "text/plain": [
       "<Figure size 432x288 with 1 Axes>"
      ]
     },
     "metadata": {
      "filenames": {
       "image/png": "C:\\Users\\njacob\\OneDrive - East Central University\\Documents\\GitHub\\Operations_Research\\_build\\jupyter_execute\\Chapters\\Chapter02LinearProgramming_8_1.png"
      },
      "needs_background": "light"
     },
     "output_type": "display_data"
    }
   ],
   "source": [
    "import matplotlib.pyplot as plt\n",
    "\n",
    "x1= np.arange(0,30,.1)\n",
    "x2= np.arange(30,100,.1)\n",
    "x3 = np.arange(100,140,.1)\n",
    "\n",
    "\n",
    "y1 = (540-1*x1)/3\n",
    "y2 = (1370-6*x2)/7\n",
    "y3 = (1540-11*x3)/4\n",
    "\n",
    "plt.plot(x1,y1, color = \"black\")\n",
    "plt.plot(x2,y2, color = \"black\")\n",
    "plt.plot(x3,y3, color = \"black\")\n",
    "plt.plot(x1,np.zeros(300),x2,np.zeros(700),x3,np.zeros(400), color = \"black\")\n",
    "plt.plot(np.zeros(1800),np.arange(0,180,.1),color = \"black\")\n",
    "plt.scatter(30,170, s = 100, color = \"black\")\n",
    "plt.scatter(100,110, s = 100, color = \"black\")\n",
    "plt.scatter(0,180, s = 100, color = \"black\")\n",
    "plt.scatter(140,0, s = 100, color = \"black\")\n",
    "plt.scatter(0,180, s = 100, color = \"black\")\n",
    "plt.scatter(0,0, s = 100, color = \"black\")\n",
    "plt.fill_between(x1,0,y1, color = \"yellow\")\n",
    "plt.fill_between(x2,0,y2, color = \"yellow\")\n",
    "plt.fill_between(x3,0,y3, color = \"yellow\")"
   ]
  },
  {
   "cell_type": "markdown",
   "metadata": {
    "id": "WSMdjBZs-Yeq"
   },
   "source": [
    "We should also note that there are corner points at the intersection of the vertical line $x = 0$ and the horizontal line $y=0$ including where those two lines intersect.  The $y$-intercept is found by solving for $y$ in the sewing equation when $x=0$.  The $x$-intercept is found by solving for $y$ in the fill equation when $y=0$."
   ]
  },
  {
   "cell_type": "markdown",
   "metadata": {
    "id": "Y_lVo6Lt-CV6"
   },
   "source": [
    "So the intern now knows that any point inside this region is what is possible in any given week!  Now we ask, how to maximize the profit?  Let's get an equation in terms of our set up!\n",
    "\n",
    "$$\n",
    "P= 3x+2y\n",
    "$$\n",
    "\n",
    "We can pick some values for $P$ and see what happens.  "
   ]
  },
  {
   "cell_type": "code",
   "execution_count": 30,
   "metadata": {
    "colab": {
     "base_uri": "https://localhost:8080/",
     "height": 268
    },
    "id": "612nWb9T_MxL",
    "outputId": "ebd8f95f-9f4b-4a39-837d-22a4d1493051"
   },
   "outputs": [
    {
     "data": {
      "image/png": "[encoded data removed]",
      "text/plain": [
       "<Figure size 432x288 with 1 Axes>"
      ]
     },
     "metadata": {
      "filenames": {
       "image/png": "C:\\Users\\njacob\\OneDrive - East Central University\\Documents\\GitHub\\Operations_Research\\_build\\jupyter_execute\\Chapters\\Chapter02LinearProgramming_11_0.png"
      },
      "needs_background": "light"
     },
     "output_type": "display_data"
    }
   ],
   "source": [
    "x1= np.arange(0,30,.1)\n",
    "x2= np.arange(30,100,.1)\n",
    "x3 = np.arange(100,140,.1)\n",
    "x4 = np.arange(0,70,.1)\n",
    "x5 = np.arange(0,100,.1)\n",
    "x6 = np.arange(0,130,.1)\n",
    "x7 = np.arange(0,160,.1)\n",
    "\n",
    "y1 = (540-1*x1)/3\n",
    "y2 = (1370-6*x2)/7\n",
    "y3 = (1540-11*x3)/4\n",
    "\n",
    "plt.plot(x1,y1, color = \"black\")\n",
    "plt.plot(x2,y2, color = \"black\")\n",
    "plt.plot(x3,y3, color = \"black\")\n",
    "plt.plot(x1,np.zeros(300),x2,np.zeros(700),x3,np.zeros(400), color = \"black\")\n",
    "plt.plot(np.zeros(1800),np.arange(0,180,.1),color = \"black\")\n",
    "plt.scatter(30,170, s = 100, color = \"black\")\n",
    "plt.scatter(100,110, s = 100, color = \"black\")\n",
    "plt.scatter(0,180, s = 100, color = \"black\")\n",
    "plt.scatter(140,0, s = 100, color = \"black\")\n",
    "plt.scatter(0,180, s = 100, color = \"black\")\n",
    "plt.scatter(0,0, s = 100, color = \"black\")\n",
    "plt.fill_between(x1,0,y1, color = \"yellow\")\n",
    "plt.fill_between(x2,0,y2, color = \"yellow\")\n",
    "plt.fill_between(x3,0,y3, color = \"yellow\")\n",
    "\n",
    "plt.plot(x4,(210-3*x4)/2,linestyle = \"dashed\", label = \"210\")\n",
    "plt.plot(x5,(300-3*x5)/2,linestyle = \"dashed\", label = \"300\")\n",
    "plt.plot(x6,(390-3*x6)/2,linestyle = \"dashed\", label = \"390\")\n",
    "plt.plot(x7,(480-3*x7)/2,linestyle = \"dashed\", label = \"480\")\n",
    "plt.legend()\n",
    "plt.show()\n"
   ]
  },
  {
   "cell_type": "markdown",
   "metadata": {
    "id": "RAF7lkyDAdIe"
   },
   "source": [
    "We can see that for each of the $P$ values I selected there are some options for the day.  We should also notice that the corner point looks like it will produce a line that just touches it!\n",
    "\n",
    "$$\n",
    "P = 3x + 2y = 3\\cdot100+2\\cdot110 = 520\n",
    "$$\n",
    "\n",
    "We'll graph that one and see!"
   ]
  },
  {
   "cell_type": "code",
   "execution_count": 31,
   "metadata": {
    "colab": {
     "base_uri": "https://localhost:8080/",
     "height": 265
    },
    "id": "H5LYHizLCoyG",
    "outputId": "168b40c5-2708-418f-96ea-4369c403286e"
   },
   "outputs": [
    {
     "data": {
      "image/png": "[encoded data removed]",
      "text/plain": [
       "<Figure size 432x288 with 1 Axes>"
      ]
     },
     "metadata": {
      "filenames": {
       "image/png": "C:\\Users\\njacob\\OneDrive - East Central University\\Documents\\GitHub\\Operations_Research\\_build\\jupyter_execute\\Chapters\\Chapter02LinearProgramming_13_0.png"
      },
      "needs_background": "light"
     },
     "output_type": "display_data"
    }
   ],
   "source": [
    "x1= np.arange(0,30,.1)\n",
    "x2= np.arange(30,100,.1)\n",
    "x3 = np.arange(100,140,.1)\n",
    "x4 = np.arange(0,70,.1)\n",
    "x5 = np.arange(0,100,.1)\n",
    "x6 = np.arange(0,130,.1)\n",
    "x7 = np.arange(0,160,.1)\n",
    "\n",
    "y1 = (540-1*x1)/3\n",
    "y2 = (1370-6*x2)/7\n",
    "y3 = (1540-11*x3)/4\n",
    "\n",
    "plt.plot(x1,y1, color = \"black\")\n",
    "plt.plot(x2,y2, color = \"black\")\n",
    "plt.plot(x3,y3, color = \"black\")\n",
    "plt.plot(x1,np.zeros(300),x2,np.zeros(700),x3,np.zeros(400), color = \"black\")\n",
    "plt.plot(np.zeros(1800),np.arange(0,180,.1),color = \"black\")\n",
    "plt.scatter(30,170, s = 100, color = \"black\")\n",
    "plt.scatter(100,110, s = 100, color = \"black\")\n",
    "plt.scatter(0,180, s = 100, color = \"black\")\n",
    "plt.scatter(140,0, s = 100, color = \"black\")\n",
    "plt.scatter(0,180, s = 100, color = \"black\")\n",
    "plt.scatter(0,0, s = 100, color = \"black\")\n",
    "plt.fill_between(x1,0,y1, color = \"yellow\")\n",
    "plt.fill_between(x2,0,y2, color = \"yellow\")\n",
    "plt.fill_between(x3,0,y3, color = \"yellow\")\n",
    "\n",
    "\n",
    "plt.plot(x7,(520-3*x7)/2,linestyle = \"dashed\", label = \"520\")\n",
    "plt.legend()\n",
    "plt.show()"
   ]
  },
  {
   "cell_type": "markdown",
   "metadata": {
    "id": "9oQYb5KwC4Xg"
   },
   "source": [
    "Triuphantly the intern tells the boss that we can maximize profits by making 100 large pillows and 110 small pillows!"
   ]
  },
  {
   "cell_type": "markdown",
   "metadata": {
    "id": "DVKCnmI8UBTG"
   },
   "source": [
    "## Theory"
   ]
  },
  {
   "cell_type": "markdown",
   "metadata": {
    "id": "5GgWvxZMYjTU"
   },
   "source": [
    "The theory of linear programming can be stated in terms of the contraints and the objective function.  For a system of linear constraints and linear objective functions, the optimum values (minimum or maximum) will occur on the corner points of the feasible set described by the contraining function.\n",
    "\n",
    "If we consider that the feasible set of the constraining lines, it will create a polygon with sharp corners.  The linear objective function will cut through the polygon.  Any optimum point will be at one of the corners as the objective function just kisses the edge.\n",
    "\n",
    "Some care must be taken for unbounded feasible sets, an optimum solution may not be possible with the maximum (or minimum) going to infinity (negative infinity)."
   ]
  },
  {
   "cell_type": "markdown",
   "metadata": {
    "id": "e50CvtqOIkNT"
   },
   "source": [
    "### Slack"
   ]
  },
  {
   "cell_type": "markdown",
   "metadata": {
    "id": "1HE6EFgYDLBg"
   },
   "source": [
    "All of the inequalities in the constraint must be met but some will not be on their strict bounds.  This leaves **slack** in those inequalities.  Using our original problem as an example, we see that the sewing equation has some slack.  We could have done more sewing with the maximum profit $(100,110)$. \n",
    "$$\n",
    "x+3y = 100 +330 = 430\\leq 540\n",
    "$$\n",
    "The inequality is solved but 100 more hours of sewing are available each week.  This is slack in our solution.  "
   ]
  },
  {
   "cell_type": "markdown",
   "metadata": {
    "id": "qgqZjyObIljw"
   },
   "source": [
    "The previous problem can actually be restated in terms of slack with the inequalities replaced with equalities.  \n",
    "$$\n",
    "\\left\\{\n",
    "\\begin{array}{l}\n",
    "6x+7y+s_1 =  1370\\\\\n",
    "x+3y +s_2 = 540\\\\\n",
    "11x+4y+ s_3 =  1540\n",
    "\\end{array}\n",
    "\\right.\n",
    "$$\n",
    "\n",
    "In the optimum solution $s_2=110$ and $s_1=s_3=0$.  For the inequalities to continue to hold we must ask that $s_1,s_2,s_3\\geq 0$.\n",
    "\n",
    "Actually this insight gives us an alternative approach to solve linear programming problems.  If we restate the contraint in equation form with slack variables, we can formulate the theory as solutions to the system of equations with some of the slack variables set to zero.  Let's see that in action here.\n",
    "\n",
    "Since I have three equations, I'll be able to get a unique solution if I have three variables.  Currently I have 5, $x,y,s_1,s_2,s_3$.  If we set two of them equal to zero then we will be able to solve the system!\n",
    "\n"
   ]
  },
  {
   "cell_type": "code",
   "execution_count": 57,
   "metadata": {
    "colab": {
     "base_uri": "https://localhost:8080/",
     "height": 269
    },
    "id": "S4GhhdUyLt1P",
    "outputId": "b0f178c6-4ae2-43bd-b1a1-9c87430a9e50"
   },
   "outputs": [
    {
     "data": {
      "image/png": "[encoded data removed]",
      "text/plain": [
       "<Figure size 432x288 with 1 Axes>"
      ]
     },
     "metadata": {
      "filenames": {
       "image/png": "C:\\Users\\njacob\\OneDrive - East Central University\\Documents\\GitHub\\Operations_Research\\_build\\jupyter_execute\\Chapters\\Chapter02LinearProgramming_20_0.png"
      },
      "needs_background": "light"
     },
     "output_type": "display_data"
    }
   ],
   "source": [
    "\n",
    "x = np.arange(0,550,.1)\n",
    "\n",
    "y1 = (540-1*x)/3\n",
    "y2 = (1370-6*x)/7\n",
    "y3 = (1540-11*x)/4\n",
    "\n",
    "plt.plot(x,y1, color = \"black\")\n",
    "plt.plot(x,y2, color = \"black\")\n",
    "plt.plot(x,y3, color = \"black\")\n",
    "plt.plot(x,np.zeros(5500), color = \"black\")\n",
    "plt.plot(np.zeros(5500),x, color = \"black\")\n",
    "plt.scatter(30,170, s = 100, color = \"black\")\n",
    "plt.scatter(100,110, s = 100, color = \"blue\")\n",
    "plt.scatter(140,0, s = 100, color = \"yellow\")\n",
    "plt.scatter(0,180, s = 100, color = \"orange\")\n",
    "plt.scatter(0,195.7, s = 100, color = \"pink\")\n",
    "plt.xlim([-1,550])\n",
    "plt.ylim([-1,400])\n",
    "\n",
    "\n",
    "plt.show()"
   ]
  },
  {
   "cell_type": "markdown",
   "metadata": {
    "id": "oz4uAcafLsnF"
   },
   "source": [
    "1. $x=y=0$ This is the orgin in my graph, each slack is it's value and we achieve no profit, $P = \\$0$\n",
    "2. $x = s_1 = 0$ This is the *pink* point that falls outside of the feasible set.\n",
    "3. $x= s_2 = 0$ This is the *orange* point falling inside the feasible set with a profit of $P = 180*2 = \\$360$\n",
    "4. $x = s_3 =0$\n",
    "5. $y = s_1 = 0$\n",
    "6. $y = s_2 = 0$\n",
    "7. $y = s_3 = 0$\n",
    "8. $s_1 = s_2 = 0$\n",
    "9. $s_1 = s_3 = 0$ This was the optimal *blue* point\n",
    "10. $s_2 = s_3 =0$ Intersection of lines outside the feasible set"
   ]
  },
  {
   "cell_type": "markdown",
   "metadata": {
    "id": "mgFjpaYlC50T"
   },
   "source": [
    "How do we know we got them all?  We had 5 variables $(x,y,s_1,s_2,s_3)$ and were trying to solve 3 equations.  So we were able to have $\\binom 52 = \\binom 53 =10$.  Let's write up a little program that evaluates each of these for us!"
   ]
  },
  {
   "cell_type": "markdown",
   "metadata": {
    "id": "NLphZsTwF9m6"
   },
   "source": [
    "Before we proceed, we should ask is there a quick way to tell if an intersection is outside of the feasible set.  Let's look at the *pink* point.  It has $x = s_1 = 0$  Let's ask python to solve that.\n",
    "\n",
    "I'll need to expand $A$ to include the slack variables.  Just remeber there will be a lot of zeros!  If I don't need $x$ and $s_1$, I'll only need the $y, s_2,$ and $s_3$ variables."
   ]
  },
  {
   "cell_type": "code",
   "execution_count": 43,
   "metadata": {
    "colab": {
     "base_uri": "https://localhost:8080/"
    },
    "id": "ejImnJw0GS0Y",
    "outputId": "850fe5af-238e-4413-c8f5-140215ee7718"
   },
   "outputs": [
    {
     "data": {
      "text/plain": [
       "array([[7, 0, 0],\n",
       "       [3, 1, 0],\n",
       "       [4, 0, 1]])"
      ]
     },
     "execution_count": 43,
     "metadata": {},
     "output_type": "execute_result"
    }
   ],
   "source": [
    "A = np.array([[6,7,1,0,0],[1,3,0,1,0],[11,4,0,0,1]])\n",
    "\n",
    "A[:,[1,3,4]]\n"
   ]
  },
  {
   "cell_type": "markdown",
   "metadata": {
    "id": "ycwo-MTfG9ln"
   },
   "source": [
    "Now I solve it with the original $b$."
   ]
  },
  {
   "cell_type": "code",
   "execution_count": 44,
   "metadata": {
    "colab": {
     "base_uri": "https://localhost:8080/"
    },
    "id": "PIQj63u8HCdH",
    "outputId": "a4350845-5077-471c-efd7-6be6285d0281"
   },
   "outputs": [
    {
     "data": {
      "text/plain": [
       "array([195.71428571, -47.14285714, 757.14285714])"
      ]
     },
     "execution_count": 44,
     "metadata": {},
     "output_type": "execute_result"
    }
   ],
   "source": [
    "np.linalg.solve(A[:,[1,3,4]],b)"
   ]
  },
  {
   "cell_type": "markdown",
   "metadata": {
    "id": "-I2-mbmWHJc_"
   },
   "source": [
    "The issue is that the second slack variable $s_2$ is negative!  The slack is about how much extra we have, if we don't have extra but used too much, we'll get negatives and that is not allowed.  Let's write a little code to reassemble our variables."
   ]
  },
  {
   "cell_type": "code",
   "execution_count": 53,
   "metadata": {
    "colab": {
     "base_uri": "https://localhost:8080/"
    },
    "id": "4N1kN-GGHnNW",
    "outputId": "d651b482-b68e-42ed-dd9c-f4a0572bdadd"
   },
   "outputs": [
    {
     "data": {
      "text/plain": [
       "[0, 195.71428571428572, 0, -47.14285714285711, 757.1428571428572]"
      ]
     },
     "execution_count": 53,
     "metadata": {},
     "output_type": "execute_result"
    }
   ],
   "source": [
    "def buildFullList(indexref,solution):\n",
    "  newlist =[]\n",
    "  solutioncounter = 0\n",
    "  for j in range(5):\n",
    "    if j not in indexref:\n",
    "      newlist.append(0)\n",
    "    else:\n",
    "      newlist.append(solution[solutioncounter])\n",
    "      solutioncounter += 1\n",
    "  return newlist\n",
    "\n",
    "indexref = [1,3,4]\n",
    "solution = np.linalg.solve(A[:,[1,3,4]],b)\n",
    "\n",
    "allVariables = buildFullList(indexref,solution)\n",
    "\n",
    "allVariables"
   ]
  },
  {
   "cell_type": "markdown",
   "metadata": {
    "id": "DAA8uCw0H-Ix"
   },
   "source": [
    "Now I want to check for negatives!"
   ]
  },
  {
   "cell_type": "code",
   "execution_count": 47,
   "metadata": {
    "colab": {
     "base_uri": "https://localhost:8080/"
    },
    "id": "8G3-QYxHIDSu",
    "outputId": "5b0b2f96-90fa-4d43-bac7-6ca969ae64dd"
   },
   "outputs": [
    {
     "data": {
      "text/plain": [
       "False"
      ]
     },
     "execution_count": 47,
     "metadata": {},
     "output_type": "execute_result"
    }
   ],
   "source": [
    "def testForFeasible(list1):\n",
    "  return all([i>=0 for i in list1])\n",
    "\n",
    "testForFeasible(allVariables)"
   ]
  },
  {
   "cell_type": "markdown",
   "metadata": {
    "id": "SlPDjpMHINJ-"
   },
   "source": [
    "We see this is not in the feasible set.  Let's do one more thing and compute the profit from this list.  I know this isn't possible but we'll need this function soon!"
   ]
  },
  {
   "cell_type": "code",
   "execution_count": 48,
   "metadata": {
    "colab": {
     "base_uri": "https://localhost:8080/"
    },
    "id": "oPzLj7UXFIiz",
    "outputId": "5c7adb63-6624-4c87-b140-264b9a530d8b"
   },
   "outputs": [
    {
     "data": {
      "text/plain": [
       "391.42857142857144"
      ]
     },
     "execution_count": 48,
     "metadata": {},
     "output_type": "execute_result"
    }
   ],
   "source": [
    "def profit(list):\n",
    "  return 3*list[0]+2*list[1]\n",
    "\n",
    "profit(allVariables)"
   ]
  },
  {
   "cell_type": "markdown",
   "metadata": {
    "id": "glBnuofFIf2W"
   },
   "source": [
    "Now I am going to put it all together and build a little table that looks at all 10 points in the order I presented them above."
   ]
  },
  {
   "cell_type": "code",
   "execution_count": 59,
   "metadata": {
    "id": "c73gmZSGDqfa"
   },
   "outputs": [],
   "source": [
    "index = [[i,j,k] for i in range(5) for j in range(i+1,5) for k in range(j+1,5)] #which variables are not zero\n",
    "d = {0:'large',1:'small',2:'slackFabric',3:'slackSewing',4:'slackfill'} #dictionary for keeping variable labels straight\n",
    "\n",
    "X = []\n",
    "for i in index:\n",
    "  solution = [round(i,5) for i in np.linalg.solve(A[:,i],b)]\n",
    "  list1 = buildFullList(i,solution)\n",
    "  X.append([(d[i[0]],d[i[1]],d[i[2]]),solution,profit(list1),testForFeasible(list1)])"
   ]
  },
  {
   "cell_type": "markdown",
   "metadata": {
    "id": "9vMZl4T-KEIp"
   },
   "source": [
    "I'll print the data in a nice table with headers"
   ]
  },
  {
   "cell_type": "code",
   "execution_count": 61,
   "metadata": {
    "colab": {
     "base_uri": "https://localhost:8080/",
     "height": 363
    },
    "id": "9__JVex1J_lW",
    "outputId": "346d7f0a-8b91-44f7-9b1f-fe90fd634064"
   },
   "outputs": [
    {
     "data": {
      "text/html": [
       "<div>\n",
       "<style scoped>\n",
       "    .dataframe tbody tr th:only-of-type {\n",
       "        vertical-align: middle;\n",
       "    }\n",
       "\n",
       "    .dataframe tbody tr th {\n",
       "        vertical-align: top;\n",
       "    }\n",
       "\n",
       "    .dataframe thead th {\n",
       "        text-align: right;\n",
       "    }\n",
       "</style>\n",
       "<table border=\"1\" class=\"dataframe\">\n",
       "  <thead>\n",
       "    <tr style=\"text-align: right;\">\n",
       "      <th></th>\n",
       "      <th>Variables Used</th>\n",
       "      <th>Solution</th>\n",
       "      <th>Profit</th>\n",
       "      <th>In Feasible</th>\n",
       "    </tr>\n",
       "  </thead>\n",
       "  <tbody>\n",
       "    <tr>\n",
       "      <th>0</th>\n",
       "      <td>(large, small, slackFabric)</td>\n",
       "      <td>[84.82759, 151.72414, -201.03448]</td>\n",
       "      <td>557.93105</td>\n",
       "      <td>False</td>\n",
       "    </tr>\n",
       "    <tr>\n",
       "      <th>1</th>\n",
       "      <td>(large, small, slackSewing)</td>\n",
       "      <td>[100.0, 110.0, 110.0]</td>\n",
       "      <td>520.00000</td>\n",
       "      <td>True</td>\n",
       "    </tr>\n",
       "    <tr>\n",
       "      <th>2</th>\n",
       "      <td>(large, small, slackfill)</td>\n",
       "      <td>[30.0, 170.0, 530.0]</td>\n",
       "      <td>430.00000</td>\n",
       "      <td>True</td>\n",
       "    </tr>\n",
       "    <tr>\n",
       "      <th>3</th>\n",
       "      <td>(large, slackFabric, slackSewing)</td>\n",
       "      <td>[140.0, 530.0, 400.0]</td>\n",
       "      <td>420.00000</td>\n",
       "      <td>True</td>\n",
       "    </tr>\n",
       "    <tr>\n",
       "      <th>4</th>\n",
       "      <td>(large, slackFabric, slackfill)</td>\n",
       "      <td>[540.0, -1870.0, -4400.0]</td>\n",
       "      <td>1620.00000</td>\n",
       "      <td>False</td>\n",
       "    </tr>\n",
       "    <tr>\n",
       "      <th>5</th>\n",
       "      <td>(large, slackSewing, slackfill)</td>\n",
       "      <td>[228.33333, 311.66667, -971.66667]</td>\n",
       "      <td>684.99999</td>\n",
       "      <td>False</td>\n",
       "    </tr>\n",
       "    <tr>\n",
       "      <th>6</th>\n",
       "      <td>(small, slackFabric, slackSewing)</td>\n",
       "      <td>[385.0, -1325.0, -615.0]</td>\n",
       "      <td>770.00000</td>\n",
       "      <td>False</td>\n",
       "    </tr>\n",
       "    <tr>\n",
       "      <th>7</th>\n",
       "      <td>(small, slackFabric, slackfill)</td>\n",
       "      <td>[180.0, 110.0, 820.0]</td>\n",
       "      <td>360.00000</td>\n",
       "      <td>True</td>\n",
       "    </tr>\n",
       "    <tr>\n",
       "      <th>8</th>\n",
       "      <td>(small, slackSewing, slackfill)</td>\n",
       "      <td>[195.71429, -47.14286, 757.14286]</td>\n",
       "      <td>391.42858</td>\n",
       "      <td>False</td>\n",
       "    </tr>\n",
       "    <tr>\n",
       "      <th>9</th>\n",
       "      <td>(slackFabric, slackSewing, slackfill)</td>\n",
       "      <td>[1370.0, 540.0, 1540.0]</td>\n",
       "      <td>0.00000</td>\n",
       "      <td>True</td>\n",
       "    </tr>\n",
       "  </tbody>\n",
       "</table>\n",
       "</div>"
      ],
      "text/plain": [
       "                          Variables Used  ... In Feasible\n",
       "0            (large, small, slackFabric)  ...       False\n",
       "1            (large, small, slackSewing)  ...        True\n",
       "2              (large, small, slackfill)  ...        True\n",
       "3      (large, slackFabric, slackSewing)  ...        True\n",
       "4        (large, slackFabric, slackfill)  ...       False\n",
       "5        (large, slackSewing, slackfill)  ...       False\n",
       "6      (small, slackFabric, slackSewing)  ...       False\n",
       "7        (small, slackFabric, slackfill)  ...        True\n",
       "8        (small, slackSewing, slackfill)  ...       False\n",
       "9  (slackFabric, slackSewing, slackfill)  ...        True\n",
       "\n",
       "[10 rows x 4 columns]"
      ]
     },
     "execution_count": 61,
     "metadata": {},
     "output_type": "execute_result"
    }
   ],
   "source": [
    "import pandas as pd\n",
    "\n",
    "X = pd.DataFrame(X,columns = ['Variables Used','Solution','Profit','In Feasible'])\n",
    "X"
   ]
  },
  {
   "cell_type": "markdown",
   "metadata": {
    "id": "K41CpeRpKJPm"
   },
   "source": [
    "Lastly I'll use some manipulation to print the maximum inside the feasible set.  First I restrict to in the feasible set, then I'll search for the maximum entry of profit."
   ]
  },
  {
   "cell_type": "code",
   "execution_count": 65,
   "metadata": {
    "colab": {
     "base_uri": "https://localhost:8080/",
     "height": 206
    },
    "id": "IEkLQYjDKR-M",
    "outputId": "5ec18d0e-957b-494d-c809-e530b8e594a3"
   },
   "outputs": [
    {
     "data": {
      "text/html": [
       "<div>\n",
       "<style scoped>\n",
       "    .dataframe tbody tr th:only-of-type {\n",
       "        vertical-align: middle;\n",
       "    }\n",
       "\n",
       "    .dataframe tbody tr th {\n",
       "        vertical-align: top;\n",
       "    }\n",
       "\n",
       "    .dataframe thead th {\n",
       "        text-align: right;\n",
       "    }\n",
       "</style>\n",
       "<table border=\"1\" class=\"dataframe\">\n",
       "  <thead>\n",
       "    <tr style=\"text-align: right;\">\n",
       "      <th></th>\n",
       "      <th>Variables Used</th>\n",
       "      <th>Solution</th>\n",
       "      <th>Profit</th>\n",
       "      <th>In Feasible</th>\n",
       "    </tr>\n",
       "  </thead>\n",
       "  <tbody>\n",
       "    <tr>\n",
       "      <th>1</th>\n",
       "      <td>(large, small, slackSewing)</td>\n",
       "      <td>[100.0, 110.0, 110.0]</td>\n",
       "      <td>520.0</td>\n",
       "      <td>True</td>\n",
       "    </tr>\n",
       "    <tr>\n",
       "      <th>2</th>\n",
       "      <td>(large, small, slackfill)</td>\n",
       "      <td>[30.0, 170.0, 530.0]</td>\n",
       "      <td>430.0</td>\n",
       "      <td>True</td>\n",
       "    </tr>\n",
       "    <tr>\n",
       "      <th>3</th>\n",
       "      <td>(large, slackFabric, slackSewing)</td>\n",
       "      <td>[140.0, 530.0, 400.0]</td>\n",
       "      <td>420.0</td>\n",
       "      <td>True</td>\n",
       "    </tr>\n",
       "    <tr>\n",
       "      <th>7</th>\n",
       "      <td>(small, slackFabric, slackfill)</td>\n",
       "      <td>[180.0, 110.0, 820.0]</td>\n",
       "      <td>360.0</td>\n",
       "      <td>True</td>\n",
       "    </tr>\n",
       "    <tr>\n",
       "      <th>9</th>\n",
       "      <td>(slackFabric, slackSewing, slackfill)</td>\n",
       "      <td>[1370.0, 540.0, 1540.0]</td>\n",
       "      <td>0.0</td>\n",
       "      <td>True</td>\n",
       "    </tr>\n",
       "  </tbody>\n",
       "</table>\n",
       "</div>"
      ],
      "text/plain": [
       "                          Variables Used  ... In Feasible\n",
       "1            (large, small, slackSewing)  ...        True\n",
       "2              (large, small, slackfill)  ...        True\n",
       "3      (large, slackFabric, slackSewing)  ...        True\n",
       "7        (small, slackFabric, slackfill)  ...        True\n",
       "9  (slackFabric, slackSewing, slackfill)  ...        True\n",
       "\n",
       "[5 rows x 4 columns]"
      ]
     },
     "execution_count": 65,
     "metadata": {},
     "output_type": "execute_result"
    }
   ],
   "source": [
    "XFeasible = X[X['In Feasible'] == True]\n",
    "\n",
    "XFeasible"
   ]
  },
  {
   "cell_type": "code",
   "execution_count": 66,
   "metadata": {
    "colab": {
     "base_uri": "https://localhost:8080/",
     "height": 81
    },
    "id": "DSP318AALFa5",
    "outputId": "7fc4be43-ece4-45e8-b29c-e88f3ff2a514"
   },
   "outputs": [
    {
     "data": {
      "text/html": [
       "<div>\n",
       "<style scoped>\n",
       "    .dataframe tbody tr th:only-of-type {\n",
       "        vertical-align: middle;\n",
       "    }\n",
       "\n",
       "    .dataframe tbody tr th {\n",
       "        vertical-align: top;\n",
       "    }\n",
       "\n",
       "    .dataframe thead th {\n",
       "        text-align: right;\n",
       "    }\n",
       "</style>\n",
       "<table border=\"1\" class=\"dataframe\">\n",
       "  <thead>\n",
       "    <tr style=\"text-align: right;\">\n",
       "      <th></th>\n",
       "      <th>Variables Used</th>\n",
       "      <th>Solution</th>\n",
       "      <th>Profit</th>\n",
       "      <th>In Feasible</th>\n",
       "    </tr>\n",
       "  </thead>\n",
       "  <tbody>\n",
       "    <tr>\n",
       "      <th>1</th>\n",
       "      <td>(large, small, slackSewing)</td>\n",
       "      <td>[100.0, 110.0, 110.0]</td>\n",
       "      <td>520.0</td>\n",
       "      <td>True</td>\n",
       "    </tr>\n",
       "  </tbody>\n",
       "</table>\n",
       "</div>"
      ],
      "text/plain": [
       "                Variables Used               Solution  Profit  In Feasible\n",
       "1  (large, small, slackSewing)  [100.0, 110.0, 110.0]   520.0         True"
      ]
     },
     "execution_count": 66,
     "metadata": {},
     "output_type": "execute_result"
    }
   ],
   "source": [
    "XFeasible[XFeasible['Profit'].max()==XFeasible['Profit']]"
   ]
  },
  {
   "cell_type": "markdown",
   "metadata": {
    "id": "UI1Z7cIUL_Mw"
   },
   "source": [
    "This gives us exactly the solution we found graphically but an algorithmic way to find it!"
   ]
  },
  {
   "cell_type": "markdown",
   "metadata": {
    "id": "gZAnmh5LlmwX"
   },
   "source": [
    "## Examples"
   ]
  },
  {
   "cell_type": "markdown",
   "metadata": {
    "id": "VXEn-1oj8CG_"
   },
   "source": [
    "### Example 1"
   ]
  },
  {
   "cell_type": "markdown",
   "metadata": {
    "id": "hbqQ17BOlqGN"
   },
   "source": [
    "Repeat the original question using python's tools for solving *Linear Programming* or **LP** problems.  I'll use a tool from ```scipy.optimize```  The first issue is that it only minimizes!  So I'll need to convert my statement to minimize but this is easy, just multiply your objective function by negative one.\n",
    "\n"
   ]
  },
  {
   "cell_type": "code",
   "execution_count": 69,
   "metadata": {
    "colab": {
     "base_uri": "https://localhost:8080/"
    },
    "id": "rB8lqZDVFGie",
    "outputId": "cf8ef820-c83e-4114-9988-791600db8ab8"
   },
   "outputs": [
    {
     "name": "stderr",
     "output_type": "stream",
     "text": [
      "/usr/local/lib/python3.7/dist-packages/numpy/core/fromnumeric.py:87: VisibleDeprecationWarning: Creating an ndarray from ragged nested sequences (which is a list-or-tuple of lists-or-tuples-or ndarrays with different lengths or shapes) is deprecated. If you meant to do this, you must specify 'dtype=object' when creating the ndarray\n",
      "  return ufunc.reduce(obj, axis, dtype, out, **passkwargs)\n"
     ]
    },
    {
     "data": {
      "text/plain": [
       "     con: array([], dtype=float64)\n",
       "     fun: -519.999999895085\n",
       " message: 'Optimization terminated successfully.'\n",
       "     nit: 5\n",
       "   slack: array([3.18975481e-07, 1.10000000e+02, 2.63415814e-07])\n",
       "  status: 0\n",
       " success: True\n",
       "       x: array([ 99.99999999, 109.99999996])"
      ]
     },
     "execution_count": 69,
     "metadata": {},
     "output_type": "execute_result"
    }
   ],
   "source": [
    "from scipy.optimize import linprog\n",
    "\n",
    "linprog([-3,-2],A[:,[0,1]],b)"
   ]
  },
  {
   "cell_type": "markdown",
   "metadata": {
    "id": "9ap7yquBGnhN"
   },
   "source": [
    "We can see that there is some ambiguity with the results being what we expected **if** we round.  We consider that as part of the quickness and allow for that, afterall we could not create less than a full pillow!"
   ]
  },
  {
   "cell_type": "markdown",
   "metadata": {
    "id": "AUOByf2nBwNB"
   },
   "source": []
  },
  {
   "cell_type": "markdown",
   "metadata": {
    "id": "xwx5JA688Gqu"
   },
   "source": [
    "### Example 2"
   ]
  },
  {
   "cell_type": "markdown",
   "metadata": {
    "id": "UCeUiE8j8Ngm"
   },
   "source": []
  },
  {
   "cell_type": "markdown",
   "metadata": {
    "id": "fb2uZl1q_LR_"
   },
   "source": [
    "## References\n",
    "\n",
    "*How to Solve It* **G. Polya** Second Edition Princeton University Press 1957\n",
    "\n",
    "*Thinking Mathematically* **J. Mason** Addison-Wesley Publishing Company 1985\n",
    "\n",
    "*Grit: The Power of Passion and Perseverance* **A. Duckworth** ‎ Scribner Book Company 2016\n",
    "\n"
   ]
  },
  {
   "cell_type": "markdown",
   "metadata": {
    "id": "DGC5WaH4Y98C"
   },
   "source": [
    "## Problems"
   ]
  },
  {
   "cell_type": "markdown",
   "metadata": {
    "id": "aFM8E4VSZA_p"
   },
   "source": []
  },
  {
   "cell_type": "code",
   "execution_count": 22,
   "metadata": {
    "id": "mbMCC1ZMZAHk"
   },
   "outputs": [],
   "source": []
  },
  {
   "cell_type": "markdown",
   "metadata": {
    "id": "pz5xCYtbZCGZ"
   },
   "source": [
    "## Project Idea"
   ]
  },
  {
   "cell_type": "markdown",
   "metadata": {
    "id": "LrBCw5_-ZJFK"
   },
   "source": []
  }
 ],
 "metadata": {
  "colab": {
   "authorship_tag": "ABX9TyMrjDhS9kByEvRTvPt/hqqb",
   "include_colab_link": true,
   "name": "Untitled30.ipynb",
   "provenance": []
  },
  "kernelspec": {
   "display_name": "Python 3 (ipykernel)",
   "language": "python",
   "name": "python3"
  },
  "language_info": {
   "codemirror_mode": {
    "name": "ipython",
    "version": 3
   },
   "file_extension": ".py",
   "mimetype": "text/x-python",
   "name": "python",
   "nbconvert_exporter": "python",
   "pygments_lexer": "ipython3",
   "version": "3.9.7"
  }
 },
 "nbformat": 4,
 "nbformat_minor": 4
}