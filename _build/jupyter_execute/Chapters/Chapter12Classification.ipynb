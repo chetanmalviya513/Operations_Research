{
 "cells": [
  {
   "cell_type": "markdown",
   "metadata": {
    "id": "ka630LxfZ38t"
   },
   "source": [
    "# Classification"
   ]
  },
  {
   "cell_type": "markdown",
   "metadata": {
    "id": "Hcc4PvdJQRNL"
   },
   "source": [
    "## Introduction\n",
    "\n",
    "\n",
    "\n",
    "Classification has been used throughout all of human history. The food groups are an example of classification. Apples are fruits and cakes are desserts. Classification is used by humans to simplify the information that is needed to be remembered. From the previous example, fruits are generally healthy, whereas desserts are not. Therefore, if an unknown food can be classified into a fruit or dessert, then a person can have a general knowledge of the unknown food. The idea of classification plays an important role in machine learning algorithms.\n",
    "\n",
    "\n",
    "Classification is the systematic arrangement of objects into categories that have similar traits. Classification may be a simple easy to understand term; however, there are a plethora of different ways to go about classifying computationally. In this text, three specific types of computational classification are discussed, K-Nearest Neighbors, Decision Tree, and Logistic Regression. Note that there are several other types that are not mentioned. This types are not mentioned strickly because of the space constraint of this text.\n",
    "\n",
    "\n",
    "\n",
    "\n"
   ]
  },
  {
   "cell_type": "markdown",
   "metadata": {
    "id": "TxRIxTm9yiK7"
   },
   "source": [
    " ## K-Nearest Neighbors\n",
    "\n",
    "\n",
    "K-Nearest Neighbors (KNN) is one of the simplest and oldest methods of classification. In 1951, Evelyn Fix and J.L. Hodges Jr. wrote the first known technical report of what is now know as KNN. KNN classifies every unlabeled data points by the majority label among its K-Nearest Neighbors. To find the K-Nearest Neighbor, KNN uses the Euclidean distance to determine the closest set of data points to any example with an unknown label. The Euclidean distance is shown below.\n",
    "\n",
    "$$\n",
    "D = \\sqrt{(a_1-a_0)^2+(b_1-b_0)^2+(c_1-c_0)^2+...} \n",
    "$$\n",
    "\n",
    "The user tells KNN the number of data points that is needed to determine the unknown label. Then based on that number of closest data points, the unknown label is predicted to be the majority label."
   ]
  },
  {
   "cell_type": "markdown",
   "metadata": {
    "id": "cPnKOslz5lZU"
   },
   "source": [
    "### Examples of K-Nearest Neighbors"
   ]
  },
  {
   "cell_type": "markdown",
   "metadata": {
    "id": "H7_7bdSvrZsr"
   },
   "source": [
    "The following is an example of how KNN works in two dimensions. Given the table and graph below, determine the label of the unknown point $(1.5,3)$ for 1, 3, and 5 nearest neighbors. This problem can be done by using a programming language. However, this problem was design to be done by hand, or using a graphing software."
   ]
  },
  {
   "cell_type": "code",
   "execution_count": null,
   "metadata": {
    "cellView": "form",
    "colab": {
     "base_uri": "https://localhost:8080/",
     "height": 525
    },
    "id": "Qe9KaMsU6G85",
    "outputId": "88c20e35-44c9-4c5d-f610-e05a7ae574ed"
   },
   "outputs": [
    {
     "name": "stdout",
     "output_type": "stream",
     "text": [
      "+-----+-----+---------+\n",
      "|   X |   Y |   Label |\n",
      "+=====+=====+=========+\n",
      "| 0   |   0 |       0 |\n",
      "+-----+-----+---------+\n",
      "| 1   |   2 |       0 |\n",
      "+-----+-----+---------+\n",
      "| 1   |   4 |       0 |\n",
      "+-----+-----+---------+\n",
      "| 3   |   4 |       1 |\n",
      "+-----+-----+---------+\n",
      "| 2   |   3 |       1 |\n",
      "+-----+-----+---------+\n",
      "| 2.5 |   2 |       1 |\n",
      "+-----+-----+---------+\n"
     ]
    },
    {
     "data": {
      "image/png": "[encoded data removed]",
      "text/plain": [
       "<Figure size 432x288 with 1 Axes>"
      ]
     },
     "metadata": {
      "filenames": {
       "image/png": "C:\\Users\\njacob\\OneDrive - East Central University\\Documents\\GitHub\\Operations_Research\\_build\\jupyter_execute\\Chapters\\Chapter12Classification_5_1.png"
      },
      "needs_background": "light"
     },
     "output_type": "display_data"
    }
   ],
   "source": [
    "#@title Table 1. Nearest Neighbors\n",
    "#Import Packages\n",
    "from tabulate import tabulate\n",
    "import matplotlib.pyplot as plt\n",
    "from matplotlib.patches import Circle\n",
    "import numpy as np\n",
    "#Unknown Point\n",
    "unknownPoint = [1.5,3]\n",
    "#Create Array\n",
    "array = np.zeros((6,3))\n",
    "array[:,:] = [[0,0,0],[1,2,0],[1,4,0],[3,4,1],[2,3,1],[2.5,2,1]]\n",
    "head = ['X', 'Y','Label']\n",
    "#Display Table\n",
    "print(tabulate(array, headers=head, tablefmt=\"grid\"))\n",
    "#Scatter Plot\n",
    "plt.scatter(array[0:3,0],array[0:3,1],color='red')\n",
    "plt.scatter(array[3:,0],array[3:,1],color='blue')\n",
    "plt.show()"
   ]
  },
  {
   "cell_type": "markdown",
   "metadata": {
    "id": "QA9XcPgFycXr"
   },
   "source": [
    "### Answer"
   ]
  },
  {
   "cell_type": "markdown",
   "metadata": {
    "id": "lh-eimu5u0jT"
   },
   "source": [
    "The first task is to determine the closest point to the unknown point. Using the table find all of the Euclidean distances from each point to the unknown point.\n",
    "\n",
    "For the first point (0,0)\n",
    "$$\n",
    "D = \\sqrt{(1.5-0)^2+(3-0)^2}\n",
    "$$\n",
    "$$\n",
    "D = 3.354 \n",
    "$$\n",
    "The second point (1,2)\n",
    "$$\n",
    "D = \\sqrt{(1.5-1)^2+(3-2)^2}\n",
    "$$\n",
    "$$\n",
    "D = 1.118\n",
    "$$\n",
    "The third point (1,4)\n",
    "$$\n",
    "D = \\sqrt{(1.5-1)^2+(3-4)^2}\n",
    "$$\n",
    "$$\n",
    "D = 1.118\n",
    "$$\n",
    "The fourth point (3,4)\n",
    "$$\n",
    "D = \\sqrt{(1.5-3)^2+(3-4)^2}\n",
    "$$\n",
    "$$\n",
    "D = 1.803\n",
    "$$\n",
    "The fifth point (2,3)\n",
    "$$\n",
    "D = \\sqrt{(1.5-2)^2+(3-3)^2}\n",
    "$$\n",
    "$$\n",
    "D = 0.5\n",
    "$$\n",
    "The sixth point (2.5,2)\n",
    "$$\n",
    "D = \\sqrt{(1.5-2.5)^2+(3-2)^2}\n",
    "$$\n",
    "$$\n",
    "D = 1.414\n",
    "$$"
   ]
  },
  {
   "cell_type": "code",
   "execution_count": null,
   "metadata": {
    "cellView": "form",
    "colab": {
     "base_uri": "https://localhost:8080/"
    },
    "id": "3jDzb7TVzmjW",
    "outputId": "8468002b-8523-4393-a148-247ec8e1b5f1"
   },
   "outputs": [
    {
     "name": "stdout",
     "output_type": "stream",
     "text": [
      "+---------+------------+---------+\n",
      "|   Point |   Distance |   Label |\n",
      "+=========+============+=========+\n",
      "|       1 |    3.3541  |       0 |\n",
      "+---------+------------+---------+\n",
      "|       2 |    1.11803 |       0 |\n",
      "+---------+------------+---------+\n",
      "|       3 |    1.11803 |       0 |\n",
      "+---------+------------+---------+\n",
      "|       4 |    1.80278 |       1 |\n",
      "+---------+------------+---------+\n",
      "|       5 |    0.5     |       1 |\n",
      "+---------+------------+---------+\n",
      "|       6 |    1.41421 |       1 |\n",
      "+---------+------------+---------+\n"
     ]
    }
   ],
   "source": [
    "#@title Table 2. Euclidean Distance Table\n",
    "distances = np.zeros((6,3))\n",
    "distances[:,:] = [[1,np.sqrt((1.5-0)**2+(3-0)**2),0],[2,np.sqrt((1.5-1)**2+(3-2)**2),0],[3,np.sqrt((1.5-1)**2+(3-4)**2),0],\n",
    "                  [4,np.sqrt((1.5-3)**2+(3-4)**2),1],[5,np.sqrt((1.5-2)**2+(3-3)**2),1],[6,np.sqrt((1.5-2.5)**2+(3-2)**2),1]]\n",
    "head = ['Point', 'Distance','Label']\n",
    "print(tabulate(distances, headers=head, tablefmt=\"grid\"))"
   ]
  },
  {
   "cell_type": "markdown",
   "metadata": {
    "id": "a-7b0hvluXqD"
   },
   "source": [
    "The table above shows that point 5 is the closest point to the unknown point. Based off only using one nearest neighbor, the label of the unknown point would be 1. However, if the three closest neighbors are used, points 2, 3, and 5, then the label of the unknown point would be 0. This result happens because a majority of the nearest neighbors have a zero label. For the five nearest neighbors, all points except point 1, the label of the unknown point is 1. This is the process that the K-Nearest Neighbors algorithm is designed to do. Below are visual representations of the three different numbers of nearest neighbors."
   ]
  },
  {
   "cell_type": "code",
   "execution_count": null,
   "metadata": {
    "cellView": "form",
    "colab": {
     "base_uri": "https://localhost:8080/",
     "height": 483
    },
    "id": "6m-klaA5tsnk",
    "outputId": "8c19f67d-7d49-4539-b71b-e6e82b230305"
   },
   "outputs": [
    {
     "data": {
      "image/png": "[encoded data removed]",
      "text/plain": [
       "<Figure size 432x576 with 1 Axes>"
      ]
     },
     "metadata": {
      "filenames": {
       "image/png": "C:\\Users\\njacob\\OneDrive - East Central University\\Documents\\GitHub\\Operations_Research\\_build\\jupyter_execute\\Chapters\\Chapter12Classification_10_0.png"
      },
      "needs_background": "light"
     },
     "output_type": "display_data"
    }
   ],
   "source": [
    "#@title One Nearest Neighbor\n",
    "plt.figure(figsize=(6,8))\n",
    "plt.scatter(array[0:3,0],array[0:3,1],color='red')\n",
    "plt.scatter(array[3:,0],array[3:,1],color='blue')\n",
    "plt.scatter(unknownPoint[0],unknownPoint[1],color='purple')\n",
    "circle = plt.Circle((unknownPoint[0], unknownPoint[1]), 0.55, color='purple', fill=False)\n",
    "plt.gcf().gca().add_artist(circle)\n",
    "plt.legend(['0','1'])\n",
    "plt.show()"
   ]
  },
  {
   "cell_type": "markdown",
   "metadata": {
    "id": "K0RGzYdM5l3u"
   },
   "source": [
    "The graph above shows the closest nearest neighbor. If KNN is used the label for the unknown point would be 1."
   ]
  },
  {
   "cell_type": "code",
   "execution_count": null,
   "metadata": {
    "cellView": "form",
    "colab": {
     "base_uri": "https://localhost:8080/",
     "height": 483
    },
    "id": "R5h4VeWE_hh7",
    "outputId": "c5153ee5-c8d8-4276-c53e-b4be268aaaf0"
   },
   "outputs": [
    {
     "data": {
      "image/png": "[encoded data removed]",
      "text/plain": [
       "<Figure size 432x576 with 1 Axes>"
      ]
     },
     "metadata": {
      "filenames": {
       "image/png": "C:\\Users\\njacob\\OneDrive - East Central University\\Documents\\GitHub\\Operations_Research\\_build\\jupyter_execute\\Chapters\\Chapter12Classification_12_0.png"
      }
     },
     "output_type": "display_data"
    }
   ],
   "source": [
    "#@title Three Nearest Neighbors\n",
    "plt.figure(figsize=(6,8))\n",
    "plt.scatter(array[0:3,0],array[0:3,1],color='red')\n",
    "plt.scatter(array[3:,0],array[3:,1],color='blue')\n",
    "plt.scatter(unknownPoint[0],unknownPoint[1],color='purple')\n",
    "circle = plt.Circle((unknownPoint[0], unknownPoint[1]), 1.15, color='purple', fill=False)\n",
    "plt.gcf().gca().add_artist(circle)\n",
    "plt.legend(['0','1'])\n",
    "plt.show()"
   ]
  },
  {
   "cell_type": "markdown",
   "metadata": {
    "id": "cpJ6iifI5sh9"
   },
   "source": [
    "The graph above shows the closest nearest neighbor. If KNN is used the label for the unknown point would be 1."
   ]
  },
  {
   "cell_type": "code",
   "execution_count": null,
   "metadata": {
    "cellView": "form",
    "colab": {
     "base_uri": "https://localhost:8080/",
     "height": 432
    },
    "id": "Lhn6EA4Dt5t1",
    "outputId": "2bfc08f7-d8ed-48b8-f200-1d93df097a5c"
   },
   "outputs": [
    {
     "data": {
      "image/png": "[encoded data removed]",
      "text/plain": [
       "<Figure size 432x504 with 1 Axes>"
      ]
     },
     "metadata": {
      "filenames": {
       "image/png": "C:\\Users\\njacob\\OneDrive - East Central University\\Documents\\GitHub\\Operations_Research\\_build\\jupyter_execute\\Chapters\\Chapter12Classification_14_0.png"
      }
     },
     "output_type": "display_data"
    }
   ],
   "source": [
    "#@title Five Nearest Neighbors\n",
    "plt.figure(figsize=(6,7))\n",
    "plt.scatter(array[0:3,0],array[0:3,1],color='red')\n",
    "plt.scatter(array[3:,0],array[3:,1],color='blue')\n",
    "plt.scatter(unknownPoint[0],unknownPoint[1],color='purple')\n",
    "circle = plt.Circle((unknownPoint[0], unknownPoint[1]), 1.84, color='purple', fill=False)\n",
    "plt.gcf().gca().add_artist(circle)\n",
    "plt.legend(['0','1'])\n",
    "plt.xlim(-0.5,4)\n",
    "plt.ylim(-0.1,5)\n",
    "plt.show()"
   ]
  },
  {
   "cell_type": "markdown",
   "metadata": {
    "id": "esoPenkFwvyZ"
   },
   "source": [
    "The graph above shows the closest five nearest neighbor. If KNN is used the label for the unknown point would be 1. The circles in each graph give a visualization of the bounded area of the closest points, since the distance from the center to the edge of the circle remains constant in all directions. Throughout this example the label of the unknown point changed depending on the number of nearest neighbors. Therefore, the number of neighbors plays an important role in how the label is determined. Another important factor is the number of data points in a dataset is import. If there are not enough data points, as seen in the previous example, then the label prediction is more likely to be subject to change. "
   ]
  },
  {
   "cell_type": "markdown",
   "metadata": {
    "id": "CVj_1d5PVNRh"
   },
   "source": [
    "### Similar Problem"
   ]
  },
  {
   "cell_type": "markdown",
   "metadata": {
    "id": "sdFt7Y8pTZWd"
   },
   "source": [
    "The following is an example is similar to the one above. Use the same data and the same unknown point to solve. However, instead of using the stardard Euclidean distance formula. Use the following formula to calculate the distancances. The overall label will be the same, but the distances will be different."
   ]
  },
  {
   "cell_type": "markdown",
   "metadata": {
    "id": "KVMSUQ595rdG"
   },
   "source": [
    "$$\n",
    "D = \\sqrt[3]{|(x_2-x_1)|^3+|(y_2-y_1)|^3}\n",
    "$$"
   ]
  },
  {
   "cell_type": "code",
   "execution_count": null,
   "metadata": {
    "cellView": "form",
    "colab": {
     "base_uri": "https://localhost:8080/",
     "height": 520
    },
    "id": "CuWY187jVZp2",
    "outputId": "2363081e-a3dc-4bab-e324-e2c6e4b0c6f5"
   },
   "outputs": [
    {
     "name": "stdout",
     "output_type": "stream",
     "text": [
      "+-----+-----+---------+\n",
      "|   X |   Y |   Label |\n",
      "+=====+=====+=========+\n",
      "| 0   |   0 |       0 |\n",
      "+-----+-----+---------+\n",
      "| 1   |   2 |       0 |\n",
      "+-----+-----+---------+\n",
      "| 1   |   4 |       0 |\n",
      "+-----+-----+---------+\n",
      "| 3   |   4 |       1 |\n",
      "+-----+-----+---------+\n",
      "| 2   |   3 |       1 |\n",
      "+-----+-----+---------+\n",
      "| 2.5 |   2 |       1 |\n",
      "+-----+-----+---------+\n"
     ]
    },
    {
     "data": {
      "image/png": "[encoded data removed]",
      "text/plain": [
       "<Figure size 432x288 with 1 Axes>"
      ]
     },
     "metadata": {
      "filenames": {
       "image/png": "C:\\Users\\njacob\\OneDrive - East Central University\\Documents\\GitHub\\Operations_Research\\_build\\jupyter_execute\\Chapters\\Chapter12Classification_19_1.png"
      },
      "needs_background": "light"
     },
     "output_type": "display_data"
    }
   ],
   "source": [
    "#@title Table 1 Reshown\n",
    "#Unknown Point\n",
    "unknownPoint = [1.5,3]\n",
    "#Create Array\n",
    "array = np.zeros((6,3))\n",
    "array[:,:] = [[0,0,0],[1,2,0],[1,4,0],[3,4,1],[2,3,1],[2.5,2,1]]\n",
    "head = ['X', 'Y','Label']\n",
    "#Display Table\n",
    "print(tabulate(array, headers=head, tablefmt=\"grid\"))\n",
    "#Scatter Plot\n",
    "plt.scatter(array[0:3,0],array[0:3,1],color='red')\n",
    "plt.scatter(array[3:,0],array[3:,1],color='blue')\n",
    "plt.show()"
   ]
  },
  {
   "cell_type": "markdown",
   "metadata": {
    "id": "hUow4nXHVsZf"
   },
   "source": [
    "The first task is to determine the closest point to the unknown point. Using the table find all of the Euclidean distances from each point to the unknown point.\n",
    "\n",
    "For the first point (0,0)\n",
    "$$\n",
    "D = \\sqrt[3]{|(1.5-0)|^3+|(3-0)|^3}\n",
    "$$\n",
    "$$\n",
    "D = 3.120 \n",
    "$$\n",
    "The second point (1,2)\n",
    "$$\n",
    "D = \\sqrt[3]{|(1.5-1)|^3+|(3-2)|^3}\n",
    "$$\n",
    "$$\n",
    "D = 1.040\n",
    "$$\n",
    "The third point (1,4)\n",
    "$$\n",
    "D = \\sqrt[3]{|(1.5-1)|^3+|(3-4)|^3}\n",
    "$$\n",
    "$$\n",
    "D = 1.040\n",
    "$$\n",
    "The fourth point (3,4)\n",
    "$$\n",
    "D = \\sqrt[3]{|(1.5-3)|^3+|(3-4)|^3}\n",
    "$$\n",
    "$$\n",
    "D = 1.636\n",
    "$$\n",
    "The fifth point (2,3)\n",
    "$$\n",
    "D = \\sqrt[3]{|(1.5-2)|^3+|(3-3)|^3}\n",
    "$$\n",
    "$$\n",
    "D = 0.5\n",
    "$$\n",
    "The sixth point (2.5,2)\n",
    "$$\n",
    "D = \\sqrt[3]{|(1.5-2.5)|^3+|(3-2)|^3}\n",
    "$$\n",
    "$$\n",
    "D = 1.260\n",
    "$$"
   ]
  },
  {
   "cell_type": "code",
   "execution_count": null,
   "metadata": {
    "cellView": "form",
    "colab": {
     "base_uri": "https://localhost:8080/"
    },
    "id": "_DV-GURyWdut",
    "outputId": "7884530e-1fe5-452d-d075-3a6c95e19dad"
   },
   "outputs": [
    {
     "name": "stdout",
     "output_type": "stream",
     "text": [
      "+---------+------------+---------+\n",
      "|   Point |   Distance |   Label |\n",
      "+=========+============+=========+\n",
      "|       1 |   3.12013  |       0 |\n",
      "+---------+------------+---------+\n",
      "|       2 |   1.04004  |       0 |\n",
      "+---------+------------+---------+\n",
      "|       3 |  -0.956466 |       0 |\n",
      "+---------+------------+---------+\n",
      "|       4 |  -1.63553  |       1 |\n",
      "+---------+------------+---------+\n",
      "|       5 |  -0.5      |       1 |\n",
      "+---------+------------+---------+\n",
      "|       6 |   0        |       1 |\n",
      "+---------+------------+---------+\n"
     ]
    }
   ],
   "source": [
    "#@title Table 3. Cubic Distance Formula Distances\n",
    "distances = np.zeros((6,3))\n",
    "distances[:,:] = [[1,np.cbrt((1.5-0)**3+(3-0)**3),0],[2,np.cbrt((1.5-1)**3+(3-2)**3),0],[3,np.cbrt((1.5-1)**3+np.abs((3-4)**3)),0],\n",
    "                  [4,np.cbrt((1.5-3)**3+np.abs((3-4)**3)),1],[5,np.cbrt(np.abs((1.5-2)**3)+(3-3)**3),1],[6,np.cbrt(np.abs((1.5-2.5))**3+(3-2)**3),1]]\n",
    "head = ['Point', 'Distance','Label']\n",
    "print(tabulate(distances, headers=head, tablefmt=\"grid\"))"
   ]
  },
  {
   "cell_type": "markdown",
   "metadata": {
    "id": "7huYthlq1hML"
   },
   "source": [
    "### K-Nearest Neighbors Python Implementation"
   ]
  },
  {
   "cell_type": "markdown",
   "metadata": {
    "id": "MAh7npwmzZgq"
   },
   "source": [
    "The next example shows an implementation of KNN in a real world dataset. The dataset being used is from credit card loan applications. The dataset can be found at https://datahub.io/machine-learning/credit-approval#resource-credit-approval.\n",
    "\n",
    "The dataset is comprised of 690 rows. Each row represents an individual's application entries. In each row, there is 11 features and a label. The label is represent as 0 if not approved, and 1 if approved."
   ]
  },
  {
   "cell_type": "markdown",
   "metadata": {
    "id": "Ml3IM1pr1P2M"
   },
   "source": [
    "The first step is to import the desired packages."
   ]
  },
  {
   "cell_type": "code",
   "execution_count": null,
   "metadata": {
    "id": "OgkJpERyt74M"
   },
   "outputs": [],
   "source": [
    "import numpy as np\n",
    "import pandas as pa\n",
    "import matplotlib.pyplot as plt\n",
    "import sklearn"
   ]
  },
  {
   "cell_type": "markdown",
   "metadata": {
    "id": "tfh65a-v1qU_"
   },
   "source": [
    "The second step is to upload the dataset, randomize it rowise, and label the columns. The dataset is saved on GitHub for easy upload access into Colab."
   ]
  },
  {
   "cell_type": "code",
   "execution_count": null,
   "metadata": {
    "id": "frdGA5Y3lBG5"
   },
   "outputs": [],
   "source": [
    "url = 'https://raw.githubusercontent.com/estrickler1/OperationsResearchClassification/main/data.csv'\n",
    "data = pa.read_csv(url)\n",
    "data = data.sample(n=len(data))     #Randomizer\n",
    "data.columns = np.arange(len(data.columns))     #Labels Columns"
   ]
  },
  {
   "cell_type": "markdown",
   "metadata": {
    "id": "K7I1WSmS2DCL"
   },
   "source": [
    "The next step is to clean the dataset. The dataset upload had strings, which the Euclidean distance cannot be calculated from. Since each column with strings only had twp different strings, they were converted to 0 and 1. The third column is dropped due to an unknown error within the dataset."
   ]
  },
  {
   "cell_type": "code",
   "execution_count": null,
   "metadata": {
    "id": "GdZSo75koqfK"
   },
   "outputs": [],
   "source": [
    "data = data.replace('f',int(0))\n",
    "data = data.replace('t',int(1))\n",
    "data = data.replace('u',int(0))\n",
    "data = data.replace('y',int(1))\n",
    "data = data.replace('a',int(0))\n",
    "data = data.replace('b',int(1))\n",
    "data = data.replace('-',int(0))\n",
    "data = data.replace('+',int(1))\n",
    "data = data.replace('0',int(0))\n",
    "data = data.dropna()\n",
    "data = data.drop(3,axis=1)\n",
    "data = data.reset_index(drop=True)        #Reindexer"
   ]
  },
  {
   "cell_type": "markdown",
   "metadata": {
    "id": "JCxaYK023knP"
   },
   "source": [
    "The function below is the KNN algorithm. The first step is to divide the dataset into features and corresponding labels. Next, the features and labels are divided into training and testing arrays. The StandardScaler is used to normalize the features. Then the KNN algorithm is trained on the traing features and labels. Next, the KNN algorithm uses the testing features to predict the testing labels. The accuracy for the testing data is calculated and returned. The accuracy is measure on the testing data to cross-validate K-Nearest Neighbors. Cross-validation is used to measure the preformance of any implentation."
   ]
  },
  {
   "cell_type": "code",
   "execution_count": null,
   "metadata": {
    "id": "8oEPPI_AvDmT"
   },
   "outputs": [],
   "source": [
    "def KNNAlgorithm(dataset, testPercent, neighbors):\n",
    "  x = dataset.iloc[:,:-1]\n",
    "  label = dataset.iloc[:,-1]\n",
    "  xTrain, xTest, labelTrain, labelTest= train_test_split(x, label, test_size=0.3 testPercent)\n",
    "  s = StandardScaler()\n",
    "  s.fit(xTrain)\n",
    "  xTrain= s.transform(xTrain)\n",
    "  s.fit(xTest)\n",
    "  xTest= s.transform(xTest)\n",
    "\n",
    "  knn= KNN(n_neighbors=neighbors)\n",
    "  knn.fit(xTrain,labelTrain)\n",
    "  labelPredict= knn.predict(xTest)\n",
    "  score = metrics.accuracy_score(labelTest,labelPredict)\n",
    "  return score"
   ]
  },
  {
   "cell_type": "markdown",
   "metadata": {
    "id": "tSmoktht4rk_"
   },
   "source": [
    "The next funtion is not necessarliy needed. However, due to the way KNN is calculated the function allows the user to find the best number of nearest neighbors and its accuracy."
   ]
  },
  {
   "cell_type": "code",
   "execution_count": null,
   "metadata": {
    "id": "kNxaLeH42DbJ"
   },
   "outputs": [],
   "source": [
    "def maxAccuracy(dataset, testPercent, maxNeighbors):\n",
    "  best = 0\n",
    "  for i in range(3,maxNeighbors):\n",
    "    score = KNNAlgorithm(dataset,testPercent, i)\n",
    "    if score > best:\n",
    "      best = score\n",
    "      bestNeighbors = i\n",
    "  return best, bestNeighbors"
   ]
  },
  {
   "cell_type": "markdown",
   "metadata": {
    "id": "48YSboXq5xaZ"
   },
   "source": [
    "The following lines are calling the functions to run on the inputted datset.The following lines are calling the functions to run on the inputted datset."
   ]
  },
  {
   "cell_type": "code",
   "execution_count": null,
   "metadata": {
    "colab": {
     "base_uri": "https://localhost:8080/"
    },
    "id": "RpZsticHvKdb",
    "outputId": "a7fa77be-cfd9-451e-e262-f39fe211121a"
   },
   "outputs": [
    {
     "data": {
      "text/plain": [
       "0.75"
      ]
     },
     "execution_count": 41,
     "metadata": {},
     "output_type": "execute_result"
    }
   ],
   "source": [
    "KNNAlgorithm(data,20,6)"
   ]
  },
  {
   "cell_type": "code",
   "execution_count": null,
   "metadata": {
    "colab": {
     "base_uri": "https://localhost:8080/"
    },
    "id": "x0wXqDKr2qfY",
    "outputId": "57fcb2a6-6277-4148-db78-9d6aadaf1960"
   },
   "outputs": [
    {
     "data": {
      "text/plain": [
       "(0.9, 4)"
      ]
     },
     "execution_count": 42,
     "metadata": {},
     "output_type": "execute_result"
    }
   ],
   "source": [
    "maxAccuracy(data,20,10)"
   ]
  },
  {
   "cell_type": "markdown",
   "metadata": {
    "id": "tSRFLYg05zRE"
   },
   "source": [
    "### Questions\n",
    "\n",
    "\n",
    "1.   What does the k in k-Nearest Neighbors stand for?\n",
    "2.   Would k-Nearest Neighbors work for a binary system, if so how?\n",
    "3.   What are the advantages of k-Nearest Neighbors compared to other classification techniques?\n",
    "4.   Find the 1, 3, and 5 nearest neighbors using Table 1, and the unknown point $(2,2.5)$.\n",
    "5.   Using the code provided above, find a dataset that can be implemented to find the nearest neighbors.\n",
    "\n",
    "\n"
   ]
  },
  {
   "cell_type": "markdown",
   "metadata": {
    "id": "kM4G6-mz808_"
   },
   "source": [
    "## Decision Tree"
   ]
  },
  {
   "cell_type": "markdown",
   "metadata": {
    "id": "6FhLCWl4nE78"
   },
   "source": [
    "Decision tree is a widely used supervised machine learning algorithm. This algorithm can used for regression and classification problems, yet most widely used for classification problems. A decission tree follows a bunch of if-else conditions to picture the n=information and characterize it as per the conditions. For example:\n",
    "\n"
   ]
  },
  {
   "cell_type": "markdown",
   "metadata": {
    "id": "Pt_UkWJ1s5Y4"
   },
   "source": [
    "![B03905_05_01-compressor.png](https://raw.githubusercontent.com/nurfnick/Operations_Research/main/Drafts/Classification/ClassImg/ClassImg1.png)"
   ]
  },
  {
   "cell_type": "markdown",
   "metadata": {
    "id": "p5jU8OwqjFuT"
   },
   "source": [
    "### History\n",
    "\n",
    "When we look at the history of decision tree it comes from long way back and when it comes to algorithm it becomes difficult to pinpoint who invented what.When it comes to decision tree it is relatively new however their root can betraced all the way back to Babylonians.When we talked about babylonians they used to  use very advanced civilization who founded many mathematical concepts. One of these concepts was the quadratic($x^2$+bx=c) and cubic equations(a$x^3$+b$x^2$=c) where babylonians thrived somewhere around 2000BC to 500BC\n",
    "\n",
    "When we come more closer to the civilization history we see more cool innovations such as Aristotle's \"categories\". He has included text like  \"man arges\",\"horse runs\" which looks more like decision tree machine learning.\n",
    "When it comes to modern days in 1963 the department of Statistics at the University of Wisconsin-Madison writes first regression tree. It had an impurity measureand recursively split data into two subjects. In 1966(by Hunt) the Institute of Computing Science in the Pozan University of technology states that one of the first publications on decision tree.In 1972 the first classification tree appeared in the THAID project by Messenger and Mandell, it worked via splitting data to maximize the sum of cases in the modal category.\n",
    "In 1974 statistics professor Leo Breiman and Charles Stone from Berkeley and Jerome Friedman and Richard Olshen from Stanford started developing the classification and regression tree(CART) algorithm. In 1977 Breiman, Stone, Friedman, and Olshen invented the first cart version. In 1984 the official publication with a CART software which was a revalotion in the world of algorithms.Later in 1986 John Ross Quinlan proposed a new concept; tree with multiple answers. Quinal invented ID3(Iterative Dichotomiser 3) using an impurity criterion called gain ratio.\n",
    "\n"
   ]
  },
  {
   "cell_type": "markdown",
   "metadata": {
    "id": "eDyhK57HvkDq"
   },
   "source": [
    "### How Does Decision Tree Work?\n",
    "\n",
    "\n",
    "Decision tree also works like a human mind whenever we try to solve any problem our first step starts with a question. In a similar way in a decision tree the datas are seperated step by step. Here data would isolate in remarkable pieces and, at long last, we would divide tests which is the pitch of whole concept.\n",
    "Here are some terminology in order to understand concept fo data mining better:\n",
    "\n",
    "\n",
    "1.   Node: Nodes are every oblect in a tree. It contains subest of data, and excluding leaf nodes, a question splits the subset.\n",
    "2.   Parent node: Parent node is a node that makes a data split.\n",
    "3.   Child Node: Child node is a resulting node. It can also be a parent for its children.\n",
    "4.   Leaf node: Leaf node is a final node with no other final questions.\n",
    "5.   Branch: Branch is a unique line of the questions with answers that flow to a leaf node\n",
    "6.   Root: It is the top node.\n",
    "\n",
    "\n",
    "\n",
    "\n"
   ]
  },
  {
   "cell_type": "markdown",
   "metadata": {
    "id": "pxY_DECzfdwx"
   },
   "source": [
    "### Gini Index\n",
    "\n",
    "Gini Index, otherwise called Gini impurity, works out the measure of probability of a particular component that is grouped erroneously when chosen arbitrarily. In the event that every one of the components are connected with a solitary class, it very well may be called pure.\n",
    "\n",
    "Lets see the measure of the Gini Index, similar to the properties of entropy, the Gini list changes between values 0 and 1, where 0 expresses the purity of arrangement, for example, Every one of the components have a place with a predefined class or just one class exists there. Also, 1 demonstrates the irregular dissemination of components across different classes. The worth of 0.5 of the Gini Index shows an equivalent circulation of components over certain classes.\n",
    "\n",
    "While planning the choice tree, the highlights having minimal worth of the Gini Index would get preferred. We can become familiar with another tree-based algorithm(Random Forest).\n",
    "The Gini Index is dictated by deducting the amount of squared of probabilities of each class from one, numerically, Gini Index can be shown as:\n",
    "\n",
    "\\begin{align}\n",
    "\\mathbf{Gini Index} =1- \\sum_{i=1}^n (P_i)^2\n",
    "\\end{align}\n",
    "\n",
    "\n",
    "\n"
   ]
  },
  {
   "cell_type": "code",
   "execution_count": 4,
   "metadata": {
    "id": "K-Gbcjq1zkPn"
   },
   "outputs": [],
   "source": [
    "import numpy as np\n",
    "import pandas as pa\n",
    "from matplotlib import pyplot as plt\n",
    "from sklearn.tree import DecisionTreeClassifier \n",
    "from sklearn.model_selection import train_test_split\n",
    "from sklearn import metrics\n",
    "from sklearn import tree\n"
   ]
  },
  {
   "cell_type": "code",
   "execution_count": 5,
   "metadata": {
    "id": "HW02zWLgzp12"
   },
   "outputs": [],
   "source": [
    "col_names = ['pregnant', 'glucose', 'bp', 'skin', 'insulin', 'bmi', 'pedigree', 'age', 'label']\n",
    "url = 'https://raw.githubusercontent.com/rajatlamsalecok/OperationsResearchClassification/main/diabetes.csv'\n",
    "data = pa.read_csv(url,header=None, names=col_names)"
   ]
  },
  {
   "cell_type": "code",
   "execution_count": 6,
   "metadata": {
    "id": "h4PBdjZazuCd"
   },
   "outputs": [],
   "source": [
    "data = data.drop([0,0])"
   ]
  },
  {
   "cell_type": "code",
   "execution_count": 7,
   "metadata": {
    "colab": {
     "base_uri": "https://localhost:8080/",
     "height": 206
    },
    "id": "Nw3NSX_Pzw50",
    "outputId": "94b1e832-a474-4406-f4dc-f6252e3057cf"
   },
   "outputs": [
    {
     "data": {
      "text/html": [
       "<div>\n",
       "<style scoped>\n",
       "    .dataframe tbody tr th:only-of-type {\n",
       "        vertical-align: middle;\n",
       "    }\n",
       "\n",
       "    .dataframe tbody tr th {\n",
       "        vertical-align: top;\n",
       "    }\n",
       "\n",
       "    .dataframe thead th {\n",
       "        text-align: right;\n",
       "    }\n",
       "</style>\n",
       "<table border=\"1\" class=\"dataframe\">\n",
       "  <thead>\n",
       "    <tr style=\"text-align: right;\">\n",
       "      <th></th>\n",
       "      <th>pregnant</th>\n",
       "      <th>glucose</th>\n",
       "      <th>bp</th>\n",
       "      <th>skin</th>\n",
       "      <th>insulin</th>\n",
       "      <th>bmi</th>\n",
       "      <th>pedigree</th>\n",
       "      <th>age</th>\n",
       "      <th>label</th>\n",
       "    </tr>\n",
       "  </thead>\n",
       "  <tbody>\n",
       "    <tr>\n",
       "      <th>1</th>\n",
       "      <td>6</td>\n",
       "      <td>148</td>\n",
       "      <td>72</td>\n",
       "      <td>35</td>\n",
       "      <td>0</td>\n",
       "      <td>33.6</td>\n",
       "      <td>0.627</td>\n",
       "      <td>50</td>\n",
       "      <td>1</td>\n",
       "    </tr>\n",
       "    <tr>\n",
       "      <th>2</th>\n",
       "      <td>1</td>\n",
       "      <td>85</td>\n",
       "      <td>66</td>\n",
       "      <td>29</td>\n",
       "      <td>0</td>\n",
       "      <td>26.6</td>\n",
       "      <td>0.351</td>\n",
       "      <td>31</td>\n",
       "      <td>0</td>\n",
       "    </tr>\n",
       "    <tr>\n",
       "      <th>3</th>\n",
       "      <td>8</td>\n",
       "      <td>183</td>\n",
       "      <td>64</td>\n",
       "      <td>0</td>\n",
       "      <td>0</td>\n",
       "      <td>23.3</td>\n",
       "      <td>0.672</td>\n",
       "      <td>32</td>\n",
       "      <td>1</td>\n",
       "    </tr>\n",
       "    <tr>\n",
       "      <th>4</th>\n",
       "      <td>1</td>\n",
       "      <td>89</td>\n",
       "      <td>66</td>\n",
       "      <td>23</td>\n",
       "      <td>94</td>\n",
       "      <td>28.1</td>\n",
       "      <td>0.167</td>\n",
       "      <td>21</td>\n",
       "      <td>0</td>\n",
       "    </tr>\n",
       "    <tr>\n",
       "      <th>5</th>\n",
       "      <td>0</td>\n",
       "      <td>137</td>\n",
       "      <td>40</td>\n",
       "      <td>35</td>\n",
       "      <td>168</td>\n",
       "      <td>43.1</td>\n",
       "      <td>2.288</td>\n",
       "      <td>33</td>\n",
       "      <td>1</td>\n",
       "    </tr>\n",
       "  </tbody>\n",
       "</table>\n",
       "</div>"
      ],
      "text/plain": [
       "  pregnant glucose  bp skin insulin   bmi pedigree age label\n",
       "1        6     148  72   35       0  33.6    0.627  50     1\n",
       "2        1      85  66   29       0  26.6    0.351  31     0\n",
       "3        8     183  64    0       0  23.3    0.672  32     1\n",
       "4        1      89  66   23      94  28.1    0.167  21     0\n",
       "5        0     137  40   35     168  43.1    2.288  33     1"
      ]
     },
     "execution_count": 7,
     "metadata": {},
     "output_type": "execute_result"
    }
   ],
   "source": [
    "data.head()"
   ]
  },
  {
   "cell_type": "code",
   "execution_count": 8,
   "metadata": {
    "id": "lXJkrxUszzmD"
   },
   "outputs": [],
   "source": [
    "feature_cols = ['pregnant', 'insulin', 'bmi', 'age','glucose','bp','pedigree']\n",
    "X = data[feature_cols] # Features\n",
    "y = data.label # Target variable"
   ]
  },
  {
   "cell_type": "code",
   "execution_count": 9,
   "metadata": {
    "id": "7lP7zvwQz082"
   },
   "outputs": [],
   "source": [
    "# Split dataset into training set and test set\n",
    "X_train, X_test, y_train, y_test = train_test_split(X, y, test_size=0.3, random_state=1) # 70% training and 30% test"
   ]
  },
  {
   "cell_type": "code",
   "execution_count": 10,
   "metadata": {
    "id": "k0IGv8jGz3hj"
   },
   "outputs": [],
   "source": [
    "# Create Decision Tree classifer object\n",
    "clf = DecisionTreeClassifier()\n",
    "\n",
    "# Train Decision Tree Classifer\n",
    "clf = clf.fit(X_train,y_train)\n",
    "\n",
    "#Predict the response for test dataset\n",
    "y_pred = clf.predict(X_test)"
   ]
  },
  {
   "cell_type": "code",
   "execution_count": 11,
   "metadata": {
    "colab": {
     "base_uri": "https://localhost:8080/"
    },
    "id": "plp3y1KOz6Xe",
    "outputId": "46e1baa1-23f9-46ce-8996-af8aebe43524"
   },
   "outputs": [
    {
     "name": "stdout",
     "output_type": "stream",
     "text": [
      "Accuracy: 0.6666666666666666\n"
     ]
    }
   ],
   "source": [
    "# Model Accuracy, how often is the classifier correct?\n",
    "print(\"Accuracy:\",metrics.accuracy_score(y_test, y_pred))"
   ]
  },
  {
   "cell_type": "markdown",
   "metadata": {
    "id": "OP9DV36voIVK"
   },
   "source": [
    "### Visualization of Decision Tree\n",
    "\n"
   ]
  },
  {
   "cell_type": "markdown",
   "metadata": {
    "id": "R1eOLFSu9UQX"
   },
   "source": [
    "We are planning to show how our decision tree would look like for the dataset we used above. It is difficult to show the whole portion of the tree using the type of dataset we are using. So, we will limit the max_depth of the tree to be 5 which sets the height of the tree to be 3 from the root node. In the decision tree chart, each internal node has a decision rule that splits the data. Gini referred as Gini ratio, which measures the impurity of the node. You can say a node is pure when all of its records belong to the same class, such nodes known as the leaf node. By the use of max_depth, we have pruned the data which eventually makes the tree more readable and understandable."
   ]
  },
  {
   "cell_type": "code",
   "execution_count": 12,
   "metadata": {
    "colab": {
     "base_uri": "https://localhost:8080/",
     "height": 832
    },
    "id": "GpRGnlTABJqR",
    "outputId": "a5ec7399-6fd1-4f74-af7d-7448bce716b6"
   },
   "outputs": [
    {
     "data": {
      "text/plain": [
       "[Ellipsis]"
      ]
     },
     "execution_count": 12,
     "metadata": {},
     "output_type": "execute_result"
    },
    {
     "data": {
      "image/png": "[encoded data removed]",
      "text/plain": [
       "<Figure size 1600x1200 with 1 Axes>"
      ]
     },
     "metadata": {
      "filenames": {
       "image/png": "C:\\Users\\njacob\\OneDrive - East Central University\\Documents\\GitHub\\Operations_Research\\_build\\jupyter_execute\\Chapters\\Chapter12Classification_54_1.png"
      },
      "needs_background": "light"
     },
     "output_type": "display_data"
    }
   ],
   "source": [
    "from matplotlib.pyplot import figure\n",
    "figure(figsize=(8, 6), dpi=200)\n",
    "tree.plot_tree(clf,max_depth=3,feature_names=feature_cols, fontsize = 8)\n",
    "[...]"
   ]
  },
  {
   "cell_type": "markdown",
   "metadata": {
    "id": "hocY5tlTFM-J"
   },
   "source": [
    "We will optimize our decision tree again, but this time pre-prune it by using max_depth = 3 but will still use gini as attribute selection. "
   ]
  },
  {
   "cell_type": "code",
   "execution_count": null,
   "metadata": {
    "id": "tYkiP6oVEoF1"
   },
   "outputs": [],
   "source": [
    "# Create Decision Tree classifer object\n",
    "clf = DecisionTreeClassifier(criterion=\"gini\",max_depth=3)\n",
    "\n",
    "# Train Decision Tree Classifer\n",
    "clf = clf.fit(X_train,y_train)\n",
    "\n",
    "#Predict the response for test dataset\n",
    "y_pred = clf.predict(X_test)"
   ]
  },
  {
   "cell_type": "code",
   "execution_count": null,
   "metadata": {
    "colab": {
     "base_uri": "https://localhost:8080/"
    },
    "id": "hMiTk0GTFEGj",
    "outputId": "9d8c0357-fc3c-44e3-987d-e1c4fc006425"
   },
   "outputs": [
    {
     "name": "stdout",
     "output_type": "stream",
     "text": [
      "Accuracy: 0.7575757575757576\n"
     ]
    }
   ],
   "source": [
    "print(\"Accuracy:\",metrics.accuracy_score(y_test, y_pred))"
   ]
  },
  {
   "cell_type": "markdown",
   "metadata": {
    "id": "T5b3evLBFtJI"
   },
   "source": [
    "As we can see, the classification rate increased to 75.75% which is better accuracy than our previous model used above."
   ]
  },
  {
   "cell_type": "markdown",
   "metadata": {
    "id": "KZSKli9TAyPb"
   },
   "source": [
    "### Pros And Cons\n",
    "Pros. \n",
    "\n",
    "1. Decision trees are easy to interpret and visualize.\n",
    "2. It can easily capture Non-linear patterns.\n",
    "3. It requires fewer data preprocessing from the user, for example, there is no need to normalize columns.\n",
    "\n",
    "Cons. \n",
    "1. Sensitive to noisy data. It can overfit noisy data.\n",
    "2. The small variation(or variance) in data can result in the different decision tree. This can be reduced by bagging and boosting algorithms.\n",
    "3. Decision trees are biased with imbalance dataset, so it is recommended that balance out the dataset before creating the decision tree."
   ]
  },
  {
   "cell_type": "markdown",
   "metadata": {
    "id": "JL6JuvkU8oie"
   },
   "source": [
    "### Questions\n",
    "\n",
    "1. Does Decision Tree always have to be binary?\n",
    "2. What does Gini Index mean?\n",
    "3. Is there any other way to split data beside Gini Index?\n",
    "4. What are the advantages of dision tree over other classification methods?\n",
    "5. What does low Gini Index mean?\n"
   ]
  },
  {
   "cell_type": "markdown",
   "metadata": {
    "id": "hp5BSaKUvWhA"
   },
   "source": [
    "## References\n",
    "\n",
    "Fix, E., Hodges, J.L. Discriminatory analysis, nonparametric discrimination: Consistency properties. Technical Report 4, USAF School of Aviation Medicine, Randolph Field, Texas, 1951.\n",
    "\n",
    "Merriam-Webster. (n.d.). Classification. Merriam-Webster. Retrieved October 26, 2021, from https://www.merriam-webster.com/dictionary/classification.\n",
    "\n",
    "Weinberger, K. Q., Blitzer, J., &amp; Saul, L. K. (n.d.). Distance metric learning for large margin ... - neurips. Retrieved October 26, 2021, from https://proceedings.neurips.cc/paper/2005/file/a7f592cef8b130a6967a90617db5681b-Paper.pdf."
   ]
  },
  {
   "cell_type": "markdown",
   "metadata": {
    "id": "qxptcm_zfwOc"
   },
   "source": [
    "### Authors\n",
    "\n",
    "Principal authors of this chapter were: Avishu Lamsal, Rajat Lamsal, & Ethan Strickler"
   ]
  },
  {
   "cell_type": "code",
   "execution_count": null,
   "metadata": {
    "id": "9Vo_PcBU9RJO"
   },
   "outputs": [],
   "source": []
  }
 ],
 "metadata": {
  "colab": {
   "collapsed_sections": [],
   "name": "Chapter12Classification",
   "provenance": []
  },
  "kernelspec": {
   "display_name": "Python 3 (ipykernel)",
   "language": "python",
   "name": "python3"
  },
  "language_info": {
   "codemirror_mode": {
    "name": "ipython",
    "version": 3
   },
   "file_extension": ".py",
   "mimetype": "text/x-python",
   "name": "python",
   "nbconvert_exporter": "python",
   "pygments_lexer": "ipython3",
   "version": "3.9.7"
  }
 },
 "nbformat": 4,
 "nbformat_minor": 4
}