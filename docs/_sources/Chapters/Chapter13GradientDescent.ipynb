{
 "cells": [
  {
   "cell_type": "markdown",
   "metadata": {
    "id": "i_4QVqdV96a6"
   },
   "source": [
    "# Gradient Descent\n",
    "\n",
    "\n",
    "\n"
   ]
  },
  {
   "cell_type": "markdown",
   "metadata": {
    "id": "woaZjkArTMAh"
   },
   "source": [
    "## Introduction\n",
    "\n",
    "Gradient descent is an optimization aglorithm that is used for one thing: finding the local minimum of the differentiable function. How we are able to find that is once we find a spot of the function's gradient, we need to repeat the steps until we eventually get to the functions local minumum. \n",
    "\n",
    "This algorithm was first introduced to the world by Augustin-Louis Cauchy back in the year of 1847. He created this algorithm to help solve larger optimization problems in a short amount of time that were used in studying astrology. Although it's still used in astrology today, we also use it in our daily live's without realizing that we are using gradient descent. \n",
    "\n",
    "For example, when students are going to class we need to find the quickest way to class. Also when we are driving, we are wanting to get to our desination the quickest so we can save our time and gas. When it comes to making huge purchases in life, like a vehicle. Once we know what vehicle that we want to purchase, we usually travel to different dealerships to find that vehicle with the cheapest price. \n",
    "\n",
    "\n",
    "![Image of Gradient Descent .png](https://raw.githubusercontent.com/nurfnick/Operations_Research/main/Drafts/Gradient%20Descent/GDImg/GDImg1.png)\n",
    "<h6> Figure 1: Visualization of gradient descent <h6>"
   ]
  },
  {
   "cell_type": "markdown",
   "metadata": {
    "id": "DVKCnmI8UBTG"
   },
   "source": [
    "### Theory of Gradient Descent"
   ]
  },
  {
   "cell_type": "markdown",
   "metadata": {
    "id": "OyeqvvKduu9x"
   },
   "source": [
    "While gradient descent is the main section that we will be talking about in this section,there are different types of gradient descent. There's three types of algorithms: batch, socratic, and mini-batch gradient descent. While these are all of the gradient descent algorithm categories,they are used for different categories. \n",
    "\n",
    "\n",
    "\n",
    "1.   **Batch Gradient Descent** - It calculates the error of each example in the dataset but only after all of the training values have been evaluated and the model has been upgraded. This type is great for producing a stable error and convergience.\n",
    "2.   **Socratic Gradient Descent** - This is used within the dataset. In other words, its updates the parameters for each example one-by-one. Depending on the problem, socratic gradient descent can be quicker than the batch. \n",
    "3.   **Mini-Batch Gradient Descent** - This version is a mixture of both batch and socratic gradient descent. It is the go-to method because it simply splits the training data into small batches and performs an update for every batch. This type is the most common type of gradient descent. \n",
    "\n",
    "When it comes to finding the gradient descent of a function, we need to understand what we are trying to find. When you try to calculate the gradient descent, the student needs to follow the negative slope of the objective function in order to locate the minimum of the function. The minimum is also known as the **cost**.\n",
    "\n",
    "When it's a positive slope then it's a minimum, when it's a negative slope, then it's the maximum. \n",
    "\n",
    "![Mini-Batch GD.png](https://raw.githubusercontent.com/nurfnick/Operations_Research/main/Drafts/Gradient%20Descent/GDImg/GDImg2.png)\n",
    "###### Figure 2: Mini-batch gradient descent\n",
    "\n",
    "\n",
    "\n"
   ]
  },
  {
   "cell_type": "markdown",
   "metadata": {
    "id": "OrMP-vXgMRTx"
   },
   "source": [
    "### Mountain climbing visualization"
   ]
  },
  {
   "cell_type": "markdown",
   "metadata": {
    "id": "hbqQ17BOlqGN"
   },
   "source": [
    "Let's say that someone is trying to walk down a mountain the quickest way possible. The person can't go straight down because that's impossible. In order to get to the bottom, we need to take different stops to get to the bottom. The figure below shows a visualization of the statement above. \n",
    "\n",
    "![Screen Shot 2021-10-26 at 6.52.48 PM.png](https://raw.githubusercontent.com/nurfnick/Operations_Research/main/Drafts/Gradient%20Descent/GDImg/GDImg3.png)\n",
    "###### Figure 3: Mountain visualization\n"
   ]
  },
  {
   "cell_type": "markdown",
   "metadata": {
    "id": "4-yg8fB1oSEB"
   },
   "source": [
    "Below is an example is the pseducode of the mountain example:"
   ]
  },
  {
   "cell_type": "code",
   "execution_count": null,
   "metadata": {
    "colab": {
     "base_uri": "https://localhost:8080/",
     "height": 265
    },
    "id": "TKHzWkzllM-s",
    "outputId": "44f78dfc-525a-40ff-b4b7-202751fc8fc6"
   },
   "outputs": [
    {
     "data": {
      "image/png": "[encoded data removed]",
      "text/plain": [
       "<Figure size 432x288 with 1 Axes>"
      ]
     },
     "metadata": {
      "needs_background": "light"
     },
     "output_type": "display_data"
    }
   ],
   "source": [
    "import matplotlib.pyplot as plt\n",
    "\n",
    "# x and y coordinates of the mountain\n",
    "mountain_x=[0,5,10,15,20]\n",
    "mountain_y=[6,10,8,9,5]\n",
    "\n",
    "# x and y stop coordinates\n",
    "stop_x=[5,5,7.5,5,7.5]\n",
    "stop_y=[10,8,7,6,4]\n",
    "\n",
    "#plotting the mountain, stops, and path\n",
    "plt.plot(mountain_x,mountain_y)\n",
    "plt.scatter(stop_x,stop_y)\n",
    "plt.plot(stop_x,stop_y)\n",
    "\n",
    "#visualize the grid \n",
    "plt.grid()\n"
   ]
  },
  {
   "cell_type": "markdown",
   "metadata": {
    "id": "Hf9F067Plpjo"
   },
   "source": [
    "Here, consider the loss_function() which is a global minimum (x1) and several local minima. "
   ]
  },
  {
   "cell_type": "markdown",
   "metadata": {
    "id": "vDftOTO1KDyp"
   },
   "source": [
    "## Finding the Gradient Descent in more detail\n",
    "\n",
    "<h6>Below we have an example that goes more indepth with the gradient descent algorithm<h6>"
   ]
  },
  {
   "cell_type": "markdown",
   "metadata": {
    "id": "dyMdk02jgFGL"
   },
   "source": [
    "Let's say that we are trying to find someone peoples weight and height. Here are the following x is the weight and y is the height.\n",
    "\n",
    "1.(0.5 , 1.4)\n",
    "\n",
    "2.(2.3 , 1.9)\n",
    "\n",
    "3.(2.9 ,3.2)"
   ]
  },
  {
   "cell_type": "code",
   "execution_count": null,
   "metadata": {
    "cellView": "form",
    "colab": {
     "base_uri": "https://localhost:8080/",
     "height": 265
    },
    "id": "4lhsr9-1IkrH",
    "outputId": "77e6d97b-184d-4356-c2ca-bb8958d350f7"
   },
   "outputs": [
    {
     "data": {
      "image/png": "[encoded data removed]",
      "text/plain": [
       "<Figure size 432x288 with 1 Axes>"
      ]
     },
     "metadata": {
      "needs_background": "light"
     },
     "output_type": "display_data"
    }
   ],
   "source": [
    "#@title Graph that Shows the Above Points\n",
    "import matplotlib.pyplot as plt\n",
    "import numpy as np\n",
    "\n",
    "xpoints = np.array([0.5 , 2.3 , 2.9])\n",
    "ypoints = np.array([1.4 , 1.9 , 3.2])\n",
    "\n",
    "plt.plot(xpoints, ypoints, 'o')\n",
    "plt.show()\n",
    "\n"
   ]
  },
  {
   "cell_type": "markdown",
   "metadata": {
    "id": "5ncLK_Bur3ZY"
   },
   "source": [
    "With this algorithm we are able to predict their height with a simple equation:\n",
    "\n",
    "**Predicted Height = intercept + slope x weight**\n",
    "\n",
    " To solve the problem we should do the following:\n",
    "1. Start by using GD to find the intercept.\n",
    "2. Then we will use GD to solve the Intercept and the Slope.\n",
    "3. We plug can plug any number in the Least Squares section. We chose 0.64.\n",
    "4. Since we need to find the intercept, pick any number for the intercept and plug it in (for this example, let's pick 0).\n",
    "5. We need to plug in the x-value into the weight function. "
   ]
  },
  {
   "cell_type": "markdown",
   "metadata": {
    "id": "SeCuLIMZgoEU"
   },
   "source": [
    "When we complete those steps, our equation should look like and we can find the Predicted Height:\n",
    "\n",
    "**Predicted Height = 0 + 0.64 * 0.5**\n",
    "\n",
    "\n",
    "\n"
   ]
  },
  {
   "cell_type": "markdown",
   "metadata": {
    "id": "AgGeYx_phX5G"
   },
   "source": [
    "\n",
    "Once we got the Predicted Height, we need to calculate the difference between the Observed and Predicted Height. The Observed Height is the y value of the coordinates of the points from above.\n",
    "\n",
    "When we find the Predicted Height, we can now find the differences between all of the Observed and Predicted Height. The Observed Height is the y-value. \n",
    "\n",
    "\n"
   ]
  },
  {
   "cell_type": "markdown",
   "metadata": {
    "id": "Fe74UI3YhbM0"
   },
   "source": [
    "When we find all of the Predicted Heights, we can finally find the Sum of the Squared Residuals.\n",
    "\n",
    "We find this by squaring the Sum of the Squared Residuals. \n"
   ]
  },
  {
   "cell_type": "markdown",
   "metadata": {
    "id": "cTdjHj3bh9lO"
   },
   "source": [
    "\n",
    "**NOTE: We can now plug in any value for the Intercept and get a new Predicted Height**"
   ]
  },
  {
   "cell_type": "markdown",
   "metadata": {
    "id": "9dvKkhNzORfq"
   },
   "source": [
    "The example below shows where you should plug the number to solve to get the next answer:"
   ]
  },
  {
   "cell_type": "markdown",
   "metadata": {
    "id": "drVBkFLziBYc"
   },
   "source": [
    "For the next person it'll be:\n",
    "\n",
    " **(1.9 - (intercept + 0.64 x 2.3))^2**\n",
    "\n",
    "The last persons equation will be: \n",
    "\n",
    "**(3.2 - (intercept + 0.64 x 2.9))^2**"
   ]
  },
  {
   "cell_type": "markdown",
   "metadata": {
    "id": "NHZPYx5kiHm0"
   },
   "source": [
    "We now have an equation for the curve and we will need to find the derivative of the function.\n",
    "\n",
    "Now we need to find the derivative of the sum of the squared residuals.\n",
    "\n",
    "The equation that we use is:\n",
    "\n",
    ">**(d/d intercept) Sum of squared residuals**\n"
   ]
  },
  {
   "cell_type": "markdown",
   "metadata": {
    "id": "apWUwP7xiVHU"
   },
   "source": [
    "We need to apply the change rule, once we do that, we will get the following:\n",
    "\n",
    ">**-2(1.4-Intercept+0.64x0.5)+-2(1.9-Intercept+0.64x2.3))+-2(3.2-Intercept+0.64x2.9))**"
   ]
  },
  {
   "cell_type": "markdown",
   "metadata": {
    "id": "SrzZOtDwiiFM"
   },
   "source": [
    "Now gradient descent will use it to find where the Sum of the Squared Residuals is the lowest."
   ]
  },
  {
   "cell_type": "markdown",
   "metadata": {
    "id": "AN80WEnoilIl"
   },
   "source": [
    "Since we have the step size, we can calculate a new intercept:\n",
    "\n",
    "**NEW INTERCEPT = OLD INTERCEPT - STEP SIZE**\n"
   ]
  },
  {
   "cell_type": "markdown",
   "metadata": {
    "id": "l_ge3lcAivSl"
   },
   "source": [
    "To see how much the residuals shrink when the intercept we need to plug in 0.57 into the chain rule problem above: "
   ]
  },
  {
   "cell_type": "markdown",
   "metadata": {
    "id": "DMgP_IDJizuc"
   },
   "source": [
    "**STEP SIZE = -2.3 x LEARNING RATE**\n",
    "**STEP SIZE = -2.3 x 0.1 -> -0.23**\n",
    "**NEW INTERCEPT = 0.57 - (-0.23) -> 0.8 NEW INTERCEPT**"
   ]
  },
  {
   "cell_type": "markdown",
   "metadata": {
    "id": "4I-8CRbCi3FE"
   },
   "source": [
    "Now we need to **go back to the derivative equation from earlier and plug in the 0.8** now \n",
    "**-2(1.4-(0.8+0.64x0.5) + -2(1.9-(0.8+0.64x0.5))+-2(3.2-(0.8+0.64x2.9))** -> -0.9\n"
   ]
  },
  {
   "cell_type": "markdown",
   "metadata": {
    "id": "1XJRXaKWi6vc"
   },
   "source": [
    "the new step size is now -0.9 * 0.1 = -0.09\n",
    "new intercept is 0.89\n",
    "when we do it again, the new intercept is 0.92\n"
   ]
  },
  {
   "cell_type": "markdown",
   "metadata": {
    "id": "UCeUiE8j8Ngm"
   },
   "source": [
    "**When we do this 6 times, the Gradient Descent for the intercept is 0.95 because the Gradient Descent gets as close to 0 as possible**.\n",
    "\n",
    "\n",
    "\n",
    "\n",
    "\n",
    "\n",
    "\n",
    "\n",
    "\n",
    "\n",
    "\n",
    "\n",
    "\n",
    "\n",
    "\n",
    "\n",
    "\n",
    "\n",
    "\n",
    "\n",
    "\n",
    "\n"
   ]
  },
  {
   "cell_type": "markdown",
   "metadata": {
    "id": "vaDeGCgKVbj0"
   },
   "source": [
    "**Summary:**\n",
    "\n",
    "---\n",
    "\n",
    "\n",
    "\n",
    "1. Take the derivative of the Loss Function for each parameter in it.\n",
    "2. Pick random values for the parameters.\n",
    "3. Plug the paramenter values into the derivatives, which is the Gradient.\n",
    "4. Calculate the Step Sizes: Step Size = Slope * Learning Rate.\n",
    "5. Calculate the New Parameters (e.g. intercept): New Parameter = Old Parameter - Step Size.\n",
    "6. Go back to step 3 and repeat the Step Size is very small, or when the Maximum Number of Steps is reached."
   ]
  },
  {
   "cell_type": "markdown",
   "metadata": {
    "id": "DGC5WaH4Y98C"
   },
   "source": [
    "##Find the gradient descent of $y=(x+5)^2$\n",
    "\n",
    "\n",
    "\n",
    "\n"
   ]
  },
  {
   "cell_type": "code",
   "execution_count": null,
   "metadata": {
    "cellView": "form",
    "colab": {
     "base_uri": "https://localhost:8080/",
     "height": 282
    },
    "id": "wWm1UwB0J9oL",
    "outputId": "7dfa7f32-8c4f-4e85-b284-52764ce26bb9"
   },
   "outputs": [
    {
     "name": "stdout",
     "output_type": "stream",
     "text": [
      "100\n"
     ]
    },
    {
     "data": {
      "image/png": "[encoded data removed]",
      "text/plain": [
       "<Figure size 432x288 with 1 Axes>"
      ]
     },
     "metadata": {
      "needs_background": "light"
     },
     "output_type": "display_data"
    }
   ],
   "source": [
    "#@title Gradient Descent example graph\n",
    "import matplotlib.pyplot as plt\n",
    "import numpy as np\n",
    "\n",
    "def f(x):\n",
    "    return (x+5)**2\n",
    "print(f(5))\n",
    "\n",
    "def derf(x):\n",
    "    return 2*(x+5)\n",
    "i=3\n",
    "w=0.05\n",
    "x=i\n",
    "\n",
    "def gradient_descent(x,weight):\n",
    "    return x-weight*derf(x)\n",
    "\n",
    "X=np.arange(-6,5,0.00004)\n",
    "Y=[f(i) for i in X]\n",
    "\n",
    "X1=[]\n",
    "\n",
    "y1=[]\n",
    "\n",
    "for i in range(100):\n",
    "    X1.append(x)\n",
    "    y1.append(f(x))\n",
    "    x=gradient_descent(x,w)\n",
    "\n",
    "plt.plot(X,Y)\n",
    "plt.scatter(X1,y1,marker=\"+\",color=\"green\")\n",
    "plt.show()\n",
    "\n"
   ]
  },
  {
   "cell_type": "markdown",
   "metadata": {
    "id": "aFM8E4VSZA_p"
   },
   "source": [
    "##Example 4\n",
    "\n",
    "In this example, this is how you'd be able to find the gradient descent using a simple pseudocode to find the local minimum of $f(x) = (x-3)^4$"
   ]
  },
  {
   "cell_type": "code",
   "execution_count": null,
   "metadata": {
    "colab": {
     "base_uri": "https://localhost:8080/",
     "height": 282
    },
    "id": "mbMCC1ZMZAHk",
    "outputId": "4abbcf72-87f5-4b5c-e0aa-885fded3b090"
   },
   "outputs": [
    {
     "name": "stdout",
     "output_type": "stream",
     "text": [
      "16\n"
     ]
    },
    {
     "data": {
      "image/png": "[encoded data removed]",
      "text/plain": [
       "<Figure size 432x288 with 1 Axes>"
      ]
     },
     "metadata": {
      "needs_background": "light"
     },
     "output_type": "display_data"
    }
   ],
   "source": [
    "import matplotlib.pyplot as plt\n",
    "import numpy as np\n",
    "\n",
    "def f(x):\n",
    "    return (x-3)**4\n",
    "print(f(5))\n",
    "\n",
    "def derf(x):\n",
    "    return 4*(x-3)\n",
    "i=5\n",
    "w=0.05 \n",
    "x=i\n",
    "\n",
    "def gradient_descent(x,weight):\n",
    "    return x-weight*derf(x)\n",
    "\n",
    "X=np.arange(2,6,0.4)\n",
    "Y=[f(i) for i in X]\n",
    "\n",
    "X1=[]\n",
    "y1=[]\n",
    "\n",
    "for i in range(5):\n",
    "    X1.append(x)\n",
    "    y1.append(f(x))\n",
    "    x=gradient_descent(x,w)\n",
    "   \n",
    "plt.plot(X,Y)\n",
    "plt.scatter(X1,y1,marker=\"+\",color=\"black\")\n",
    "plt.show()\n"
   ]
  },
  {
   "cell_type": "markdown",
   "metadata": {
    "id": "pz5xCYtbZCGZ"
   },
   "source": [
    "## Problems\n",
    "\n",
    "\n",
    "\n",
    "1.   Find the gradient descent of $y=(x+3)^4$\n",
    "2.   Explain why gradient descent is important. \n",
    "3.   How do use gradient descent in our daily lives?\n",
    "4.   The function is $y=(9x+2)^2$, what is the gradient descent?\n",
    "5.   In your own words, describe gradient descent.\n",
    "6.   Write a simple code to display the gradient descent of $y=(x+2)^2$\n",
    "7.   Find the gradient descent of $y=(3x-4)^2$\n",
    "8.   What is the gradient descent of $y=(5x-4)^4$\n",
    "9.   Find the gradient descent of $y=(x-5)^2$\n",
    "10.  Give an example of the different types of gradient descent. \n",
    "\n",
    "\n"
   ]
  },
  {
   "cell_type": "markdown",
   "metadata": {
    "id": "yDV5waDaJ6Hl"
   },
   "source": [
    "## Conclusion"
   ]
  },
  {
   "cell_type": "markdown",
   "metadata": {
    "id": "yGf_aFKk0ol9"
   },
   "source": [
    "The gradient descent algorithm is widely used throughout the world. It is used in our daily lives without us realizing what we are using. This algorithm is used to limit the cost of something whether it's gas being used to get to one place to another. People also use it when they are trying to by a house. For example, they want to purchase a house that has enough square-footage for the best price that is in their budget. Gradient descent is used for nearly anything, this algorithm makes our lives easier. "
   ]
  },
  {
   "cell_type": "markdown",
   "metadata": {
    "id": "fb2uZl1q_LR_"
   },
   "source": [
    "## References\n",
    "\n",
    "**Kumari , Ajitesh** “Gradient Descent Explained Simply with Examples.” Data Analytics, https://vitalflux.com/gradient-descent-explained-simply-with-examples/. \n",
    "\n",
    "\n",
    "**Starmer, Josh** Gradient Descent, Step-by-Step - Youtube. https://www.youtube.com/watch?v=sDv4f4s2SB8. \n",
    "\n",
    "https://gist.github.com/sagarmainkar/41d135a04d7d3bc4098f0664fe20cf3c\n",
    "\n",
    "Gradient descent - introduction and implementation in python. The Math and Python behind AI/Machine Learning. (2019, October 19). Retrieved December 1, 2021, from https://machinelearningmind.com/2019/10/06/gradient-descent-introduction-and-implementation-in-python/. "
   ]
  },
  {
   "cell_type": "markdown",
   "metadata": {
    "id": "C8i0wsUKijeP"
   },
   "source": [
    "### Authors\n",
    "\n",
    "Principal authors of this chapter were: Maggie Johnson, Kuldeep Gautam, and Pranay Singh\n",
    "\n",
    "Contributions were made by: Dr. Jacob"
   ]
  },
  {
   "cell_type": "code",
   "execution_count": null,
   "metadata": {},
   "outputs": [],
   "source": []
  }
 ],
 "metadata": {
  "colab": {
   "collapsed_sections": [],
   "name": "Chapter13GradientDescent.ipynb",
   "provenance": []
  },
  "kernelspec": {
   "display_name": "Python 3 (ipykernel)",
   "language": "python",
   "name": "python3"
  },
  "language_info": {
   "codemirror_mode": {
    "name": "ipython",
    "version": 3
   },
   "file_extension": ".py",
   "mimetype": "text/x-python",
   "name": "python",
   "nbconvert_exporter": "python",
   "pygments_lexer": "ipython3",
   "version": "3.9.7"
  }
 },
 "nbformat": 4,
 "nbformat_minor": 4
}
